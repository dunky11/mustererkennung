{
 "cells": [
  {
   "cell_type": "markdown",
   "metadata": {
    "id": "y3cWwlbatGdm"
   },
   "source": [
    "# Mustererkennung/Machine Learning - Assignment 8\n",
    "\n"
   ]
  },
  {
   "cell_type": "code",
   "execution_count": 1,
   "metadata": {
    "ExecuteTime": {
     "end_time": "2018-12-11T12:46:51.443420Z",
     "start_time": "2018-12-11T12:46:50.570749Z"
    },
    "id": "luPsF5SptGdt"
   },
   "outputs": [],
   "source": [
    "import numpy as np\n",
    "import pandas as pd\n",
    "from sklearn.model_selection import train_test_split\n",
    "from sklearn.utils import shuffle\n",
    "import matplotlib.pyplot as plt\n",
    "from sklearn.datasets import load_digits\n",
    "%matplotlib inline"
   ]
  },
  {
   "cell_type": "code",
   "execution_count": 2,
   "metadata": {
    "ExecuteTime": {
     "end_time": "2018-12-11T12:46:51.501147Z",
     "start_time": "2018-12-11T12:46:51.445163Z"
    },
    "colab": {
     "base_uri": "https://localhost:8080/",
     "height": 206
    },
    "id": "CpeeFeXKtGdu",
    "outputId": "cf860553-0831-4606-e3ca-81959af4ee2c"
   },
   "outputs": [
    {
     "data": {
      "text/html": [
       "<div>\n",
       "<style scoped>\n",
       "    .dataframe tbody tr th:only-of-type {\n",
       "        vertical-align: middle;\n",
       "    }\n",
       "\n",
       "    .dataframe tbody tr th {\n",
       "        vertical-align: top;\n",
       "    }\n",
       "\n",
       "    .dataframe thead th {\n",
       "        text-align: right;\n",
       "    }\n",
       "</style>\n",
       "<table border=\"1\" class=\"dataframe\">\n",
       "  <thead>\n",
       "    <tr style=\"text-align: right;\">\n",
       "      <th></th>\n",
       "      <th>0</th>\n",
       "      <th>1</th>\n",
       "      <th>2</th>\n",
       "      <th>3</th>\n",
       "      <th>4</th>\n",
       "    </tr>\n",
       "  </thead>\n",
       "  <tbody>\n",
       "    <tr>\n",
       "      <th>0</th>\n",
       "      <td>5.1</td>\n",
       "      <td>3.5</td>\n",
       "      <td>1.4</td>\n",
       "      <td>0.2</td>\n",
       "      <td>Iris-setosa</td>\n",
       "    </tr>\n",
       "    <tr>\n",
       "      <th>1</th>\n",
       "      <td>4.9</td>\n",
       "      <td>3.0</td>\n",
       "      <td>1.4</td>\n",
       "      <td>0.2</td>\n",
       "      <td>Iris-setosa</td>\n",
       "    </tr>\n",
       "    <tr>\n",
       "      <th>2</th>\n",
       "      <td>4.7</td>\n",
       "      <td>3.2</td>\n",
       "      <td>1.3</td>\n",
       "      <td>0.2</td>\n",
       "      <td>Iris-setosa</td>\n",
       "    </tr>\n",
       "    <tr>\n",
       "      <th>3</th>\n",
       "      <td>4.6</td>\n",
       "      <td>3.1</td>\n",
       "      <td>1.5</td>\n",
       "      <td>0.2</td>\n",
       "      <td>Iris-setosa</td>\n",
       "    </tr>\n",
       "    <tr>\n",
       "      <th>4</th>\n",
       "      <td>5.0</td>\n",
       "      <td>3.6</td>\n",
       "      <td>1.4</td>\n",
       "      <td>0.2</td>\n",
       "      <td>Iris-setosa</td>\n",
       "    </tr>\n",
       "  </tbody>\n",
       "</table>\n",
       "</div>"
      ],
      "text/plain": [
       "     0    1    2    3            4\n",
       "0  5.1  3.5  1.4  0.2  Iris-setosa\n",
       "1  4.9  3.0  1.4  0.2  Iris-setosa\n",
       "2  4.7  3.2  1.3  0.2  Iris-setosa\n",
       "3  4.6  3.1  1.5  0.2  Iris-setosa\n",
       "4  5.0  3.6  1.4  0.2  Iris-setosa"
      ]
     },
     "execution_count": 2,
     "metadata": {},
     "output_type": "execute_result"
    }
   ],
   "source": [
    "data = pd.read_csv(\"iris.data\", header=None)\n",
    "data.head(n=5)"
   ]
  },
  {
   "cell_type": "markdown",
   "metadata": {},
   "source": [
    "## Excercise 1. Perceptron"
   ]
  },
  {
   "cell_type": "markdown",
   "metadata": {
    "id": "8WaByN8YtGdx"
   },
   "source": [
    "#### Implement the Perceptron algorithm using Python (incl. Numpy etc.) and use it on the Iris-Dataset. Train the algorithm to seperate Setosa from Versicolour and Virginica."
   ]
  },
  {
   "cell_type": "code",
   "execution_count": 3,
   "metadata": {},
   "outputs": [],
   "source": [
    "X_train, y_train = data[list(range(4))], data[4]\n",
    "\n",
    "X_train_setosa = X_train[y_train=='Iris-setosa'].to_numpy()\n",
    "X_train_versicolor = X_train[y_train=='Iris-versicolor'].to_numpy()\n",
    "X_train_virginica = X_train[y_train=='Iris-virginica'].to_numpy()\n",
    "\n",
    "X_s_vs_vv = np.vstack((X_train_setosa, X_train_versicolor, X_train_virginica))\n",
    "y_s_vs_vv = np.hstack((np.ones((X_train_setosa.shape[0], )), np.zeros((X_train_versicolor.shape[0] + X_train_virginica.shape[0], ))))\n",
    "\n",
    "X_train_s_vs_vv, X_test_s_vs_vv, y_train_s_vs_vv, y_test_s_vs_vv = train_test_split(X_s_vs_vv, y_s_vs_vv, test_size=0.2, random_state=None, stratify=y_s_vs_vv)"
   ]
  },
  {
   "cell_type": "code",
   "execution_count": 4,
   "metadata": {},
   "outputs": [],
   "source": [
    "def accuracy(labels, predictions):\n",
    "    return np.mean(labels == predictions)\n",
    "\n",
    "def heavyside(x):\n",
    "    return np.where(x > 0, np.ones_like(x), np.zeros_like(x))\n",
    "\n",
    "def center_data(x):\n",
    "    return x - np.mean(x, axis=0)\n",
    "\n",
    "def vector_length(x):\n",
    "    return np.linalg.norm(x)\n",
    "\n",
    "class SingleLayerPerceptron():\n",
    "    def fit(self, x, y, theta):\n",
    "        x, y = x.copy(), y.copy()\n",
    "        x = center_data(x)\n",
    "        self.w = np.mean(x[y == 1], axis=0)\n",
    "        while True:\n",
    "            w_prime = self.w \n",
    "            random_idx = np.random.randint(low=0, high=x.shape[0], size=(1, ))[0]\n",
    "            v = x[random_idx]\n",
    "            scalar = self.w.T @ v\n",
    "            # v is from P\n",
    "            if y[random_idx] == 1:\n",
    "                if scalar > 0:\n",
    "                    pass\n",
    "                else:\n",
    "                    w_prime = self.w + v   \n",
    "            # v is from N\n",
    "            else:\n",
    "                if scalar < 0:\n",
    "                    pass\n",
    "                else:\n",
    "                    w_prime = self.w - v\n",
    "            if vector_length(self.w - w_prime) < theta:\n",
    "                self.w = w_prime\n",
    "                break\n",
    "            self.w = w_prime\n",
    "    \n",
    "    def predict(self, x):\n",
    "        x = x.copy()\n",
    "        x = center_data(x)\n",
    "        return heavyside(x @ self.w)"
   ]
  },
  {
   "cell_type": "code",
   "execution_count": 5,
   "metadata": {},
   "outputs": [],
   "source": [
    "clf = SingleLayerPerceptron()\n",
    "clf.fit(X_train_s_vs_vv, y_train_s_vs_vv, theta=10**-6)"
   ]
  },
  {
   "cell_type": "code",
   "execution_count": 6,
   "metadata": {
    "scrolled": true
   },
   "outputs": [
    {
     "name": "stdout",
     "output_type": "stream",
     "text": [
      "Accuracy is: 93.3333%\n"
     ]
    }
   ],
   "source": [
    "y_pred = clf.predict(X_test_s_vs_vv)\n",
    "y_pred = y_pred.reshape((-1, ))\n",
    "acc = accuracy(y_test_s_vs_vv, y_pred)\n",
    "print(f\"Accuracy is: {round(acc * 100, 4)}%\")"
   ]
  },
  {
   "cell_type": "markdown",
   "metadata": {},
   "source": [
    "#### (a) What happens if you use the algorithm to seperate Versicolour from Virginica? (Evaluate multiple runs)"
   ]
  },
  {
   "cell_type": "code",
   "execution_count": 7,
   "metadata": {},
   "outputs": [],
   "source": [
    "X_v_vs_v = np.vstack((X_train_versicolor, X_train_virginica))\n",
    "y_v_vs_v = np.hstack((np.ones((X_train_versicolor.shape[0], )), np.zeros((X_train_virginica.shape[0], ))))"
   ]
  },
  {
   "cell_type": "code",
   "execution_count": 8,
   "metadata": {},
   "outputs": [
    {
     "name": "stdout",
     "output_type": "stream",
     "text": [
      "1. experiment: Accuracy of: 93.3333%\n",
      "2. experiment: Accuracy of: 93.3333%\n",
      "3. experiment: Accuracy of: 93.3333%\n",
      "4. experiment: Accuracy of: 93.3333%\n",
      "5. experiment: Accuracy of: 100.0%\n",
      "6. experiment: Accuracy of: 93.3333%\n",
      "7. experiment: Accuracy of: 100.0%\n",
      "8. experiment: Accuracy of: 93.3333%\n",
      "9. experiment: Accuracy of: 93.3333%\n",
      "10. experiment: Accuracy of: 93.3333%\n"
     ]
    }
   ],
   "source": [
    "num_runs = 10\n",
    "for i in range(1, num_runs + 1):\n",
    "    X_train_v_vs_v, X_test_v_vs_v, y_train_v_vs_v, y_test_v_vs_v = train_test_split(X_v_vs_v, y_v_vs_v, test_size=0.2, stratify=y_v_vs_v)\n",
    "    clf = SingleLayerPerceptron()\n",
    "    clf.fit(X_train_s_vs_vv, y_train_s_vs_vv, theta=10**-6)\n",
    "    y_pred = clf.predict(X_test_s_vs_vv)\n",
    "    y_pred = y_pred.reshape((-1, )) \n",
    "    acc = accuracy(y_test_s_vs_vv, y_pred)\n",
    "    print(f\"{i}. experiment: Accuracy of: {round(acc * 100, 4)}%\")"
   ]
  },
  {
   "cell_type": "markdown",
   "metadata": {},
   "source": [
    "#### (b) Find a way to solve the problem and obtain the accuracy."
   ]
  },
  {
   "cell_type": "markdown",
   "metadata": {},
   "source": [
    "We really don't know which problem should have occured. All runs have a very high and stable accuracy."
   ]
  },
  {
   "cell_type": "markdown",
   "metadata": {},
   "source": [
    "## Excercise 2. Multilayer-Perceptron (MLP)"
   ]
  },
  {
   "cell_type": "markdown",
   "metadata": {},
   "source": [
    "Implement a class that builds an MLP with both variable depth D (number of layers) and\n",
    "variable number of neurons ni for each layer i = 1, ..., D. Produce outputs on the ZIP-Dataset"
   ]
  },
  {
   "cell_type": "code",
   "execution_count": 9,
   "metadata": {},
   "outputs": [],
   "source": [
    "class DenseLayer():\n",
    "    def __init__(self, input_shape, output_shape, activation):\n",
    "        \"\"\"\n",
    "        output_shape is equal to the number of neurons in the layer\n",
    "        \"\"\"\n",
    "        self.w = np.random.uniform(low=-1, high=1, size=(input_shape, output_shape))\n",
    "        self.b = np.ones((1, output_shape))\n",
    "        self.activation = activation\n",
    "        \n",
    "    def forward(self, x):\n",
    "        x_t = np.hstack((np.ones((x.shape[0], 1)), x))\n",
    "        w_t = np.vstack((self.b, self.w))\n",
    "        return self.activation(x_t @ w_t)"
   ]
  },
  {
   "cell_type": "code",
   "execution_count": 10,
   "metadata": {},
   "outputs": [],
   "source": [
    "class NeuralNetwork():\n",
    "    def __init__(self, layers):\n",
    "        self.layers = layers\n",
    "        \n",
    "    def predict(self, x):\n",
    "        x = x.copy()\n",
    "        for layer in self.layers:\n",
    "            x = layer.forward(x)\n",
    "        return x\n",
    "    \n",
    "path_to_test = 'zip.test'\n",
    "test_data = np.array(pd.read_csv(path_to_test, sep =' ',header=None))\n",
    "\n",
    "X_test = test_data[:,1:-1]\n",
    "\n",
    "layers = []\n",
    "layers.append(DenseLayer(input_shape=X_test.shape[1], output_shape=64, activation=heavyside))\n",
    "layers.append(DenseLayer(input_shape=64, output_shape=128, activation=heavyside))\n",
    "layers.append(DenseLayer(input_shape=128, output_shape=64, activation=heavyside))\n",
    "layers.append(DenseLayer(input_shape=64, output_shape=10, activation=heavyside))\n",
    "\n",
    "clf = NeuralNetwork(layers)"
   ]
  },
  {
   "cell_type": "code",
   "execution_count": 11,
   "metadata": {},
   "outputs": [
    {
     "name": "stdout",
     "output_type": "stream",
     "text": [
      "[[0. 0. 1. ... 0. 1. 1.]\n",
      " [1. 0. 0. ... 1. 1. 0.]\n",
      " [1. 0. 1. ... 1. 1. 0.]\n",
      " ...\n",
      " [0. 0. 1. ... 1. 1. 1.]\n",
      " [1. 0. 0. ... 1. 1. 0.]\n",
      " [1. 0. 1. ... 1. 1. 0.]]\n"
     ]
    }
   ],
   "source": [
    "y_pred = clf.predict(X_test)\n",
    "print(y_pred)"
   ]
  }
 ],
 "metadata": {
  "colab": {
   "name": "Perceptron.ipynb",
   "provenance": [],
   "toc_visible": true
  },
  "kernelspec": {
   "display_name": "Python 3",
   "language": "python",
   "name": "python3"
  },
  "language_info": {
   "codemirror_mode": {
    "name": "ipython",
    "version": 3
   },
   "file_extension": ".py",
   "mimetype": "text/x-python",
   "name": "python",
   "nbconvert_exporter": "python",
   "pygments_lexer": "ipython3",
   "version": "3.8.5"
  }
 },
 "nbformat": 4,
 "nbformat_minor": 1
}
