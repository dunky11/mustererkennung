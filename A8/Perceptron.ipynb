{
 "cells": [
  {
   "cell_type": "markdown",
   "metadata": {
    "id": "y3cWwlbatGdm"
   },
   "source": [
    "# Mustererkennung/Machine Learning - Assignment 8\n",
    "\n"
   ]
  },
  {
   "cell_type": "code",
   "execution_count": 1,
   "metadata": {
    "ExecuteTime": {
     "end_time": "2018-12-11T12:46:51.443420Z",
     "start_time": "2018-12-11T12:46:50.570749Z"
    },
    "id": "luPsF5SptGdt"
   },
   "outputs": [],
   "source": [
    "import numpy as np\n",
    "import pandas as pd\n",
    "from sklearn.model_selection import train_test_split\n",
    "from sklearn.utils import shuffle\n",
    "import matplotlib.pyplot as plt\n",
    "from sklearn.datasets import load_digits\n",
    "%matplotlib inline"
   ]
  },
  {
   "cell_type": "code",
   "execution_count": 2,
   "metadata": {
    "ExecuteTime": {
     "end_time": "2018-12-11T12:46:51.501147Z",
     "start_time": "2018-12-11T12:46:51.445163Z"
    },
    "colab": {
     "base_uri": "https://localhost:8080/",
     "height": 206
    },
    "id": "CpeeFeXKtGdu",
    "outputId": "cf860553-0831-4606-e3ca-81959af4ee2c"
   },
   "outputs": [
    {
     "data": {
      "text/html": [
       "<div>\n",
       "<style scoped>\n",
       "    .dataframe tbody tr th:only-of-type {\n",
       "        vertical-align: middle;\n",
       "    }\n",
       "\n",
       "    .dataframe tbody tr th {\n",
       "        vertical-align: top;\n",
       "    }\n",
       "\n",
       "    .dataframe thead th {\n",
       "        text-align: right;\n",
       "    }\n",
       "</style>\n",
       "<table border=\"1\" class=\"dataframe\">\n",
       "  <thead>\n",
       "    <tr style=\"text-align: right;\">\n",
       "      <th></th>\n",
       "      <th>0</th>\n",
       "      <th>1</th>\n",
       "      <th>2</th>\n",
       "      <th>3</th>\n",
       "      <th>4</th>\n",
       "    </tr>\n",
       "  </thead>\n",
       "  <tbody>\n",
       "    <tr>\n",
       "      <th>0</th>\n",
       "      <td>5.1</td>\n",
       "      <td>3.5</td>\n",
       "      <td>1.4</td>\n",
       "      <td>0.2</td>\n",
       "      <td>Iris-setosa</td>\n",
       "    </tr>\n",
       "    <tr>\n",
       "      <th>1</th>\n",
       "      <td>4.9</td>\n",
       "      <td>3.0</td>\n",
       "      <td>1.4</td>\n",
       "      <td>0.2</td>\n",
       "      <td>Iris-setosa</td>\n",
       "    </tr>\n",
       "    <tr>\n",
       "      <th>2</th>\n",
       "      <td>4.7</td>\n",
       "      <td>3.2</td>\n",
       "      <td>1.3</td>\n",
       "      <td>0.2</td>\n",
       "      <td>Iris-setosa</td>\n",
       "    </tr>\n",
       "    <tr>\n",
       "      <th>3</th>\n",
       "      <td>4.6</td>\n",
       "      <td>3.1</td>\n",
       "      <td>1.5</td>\n",
       "      <td>0.2</td>\n",
       "      <td>Iris-setosa</td>\n",
       "    </tr>\n",
       "    <tr>\n",
       "      <th>4</th>\n",
       "      <td>5.0</td>\n",
       "      <td>3.6</td>\n",
       "      <td>1.4</td>\n",
       "      <td>0.2</td>\n",
       "      <td>Iris-setosa</td>\n",
       "    </tr>\n",
       "  </tbody>\n",
       "</table>\n",
       "</div>"
      ],
      "text/plain": [
       "     0    1    2    3            4\n",
       "0  5.1  3.5  1.4  0.2  Iris-setosa\n",
       "1  4.9  3.0  1.4  0.2  Iris-setosa\n",
       "2  4.7  3.2  1.3  0.2  Iris-setosa\n",
       "3  4.6  3.1  1.5  0.2  Iris-setosa\n",
       "4  5.0  3.6  1.4  0.2  Iris-setosa"
      ]
     },
     "execution_count": 2,
     "metadata": {},
     "output_type": "execute_result"
    }
   ],
   "source": [
    "data = pd.read_csv(\"iris.data\", header=None)\n",
    "data.head(n=5)"
   ]
  },
  {
   "cell_type": "markdown",
   "metadata": {},
   "source": [
    "## Excercise 1. Perceptron"
   ]
  },
  {
   "cell_type": "markdown",
   "metadata": {
    "id": "8WaByN8YtGdx"
   },
   "source": [
    "#### Splitting the data into training/test and according to their class memberships"
   ]
  },
  {
   "cell_type": "code",
   "execution_count": 3,
   "metadata": {
    "ExecuteTime": {
     "end_time": "2018-12-11T12:46:51.517929Z",
     "start_time": "2018-12-11T12:46:51.502925Z"
    },
    "id": "E2-w2GzqtGdy"
   },
   "outputs": [
    {
     "data": {
      "text/plain": [
       "'x, y = load_digits(return_X_y=True)\\n\\nx = x.reshape((-1, 8 * 8))\\n\\nX_train, X_test, y_train, y_test = train_test_split(x, y, test_size=0.2, random_state=None, stratify=y)'"
      ]
     },
     "execution_count": 3,
     "metadata": {},
     "output_type": "execute_result"
    }
   ],
   "source": [
    "\"\"\"X_train, X_test, y_train, y_test = train_test_split(data[list(range(4))], data[4], test_size=0.2, random_state=None)\n",
    "\n",
    "X_train, y_train = X_train.to_numpy(), y_train.to_numpy()\n",
    "X_test, y_test = X_test.to_numpy(), y_test.to_numpy()\n",
    "\n",
    "print(y_train)\n",
    "\n",
    "X_train_s = X_train[y_train=='Iris-setosa']\n",
    "y_train_s = np.ones((X_train_s.shape[0], ))\n",
    "\n",
    "X_test_s = X_test[y_test=='Iris-setosa']\n",
    "y_test_s = np.ones((X_test_s.shape[0], ))\n",
    "\n",
    "X_train_vv = X_train[np.equal(y_train=='Iris-versicolor', y_train=='Iris-virginica')]\n",
    "y_train_vv = np.zeros((X_train_vv.shape[0], ))\n",
    "\n",
    "X_test_vv = X_test[np.equal(y_test=='Iris-versicolor', y_test=='Iris-virginica')]\n",
    "y_test_vv = np.zeros((X_test_vv.shape[0], ))\n",
    "\n",
    "shuffle_idx = np.random.permutation(X_train_s.shape[0])\n",
    "X_train_s, y_train_s = X_train_s[shuffle_idx], y_train_s[shuffle_idx]\n",
    "\n",
    "X_train, y_train = np.vstack((X_train_s, X_train_vv)), np.hstack((y_train_s, y_train_vv))\n",
    "X_test, y_test = np.vstack((X_test_s, X_test_vv)), np.hstack((y_test_s, y_test_vv))\n",
    "\n",
    "shuffle_idx = np.random.permutation(X_train.shape[0])\n",
    "X_train, y_train = X_train[shuffle_idx], y_train[shuffle_idx]\n",
    "\"\"\"\n",
    "\n",
    "\"\"\"x, y = load_digits(return_X_y=True)\n",
    "\n",
    "x = x.reshape((-1, 8 * 8))\n",
    "\n",
    "X_train, X_test, y_train, y_test = train_test_split(x, y, test_size=0.2, random_state=None, stratify=y)\"\"\""
   ]
  },
  {
   "cell_type": "code",
   "execution_count": 4,
   "metadata": {},
   "outputs": [
    {
     "data": {
      "text/plain": [
       "\"X_train, X_test, y_train, y_test = train_test_split(data[list(range(4))], data[4], test_size=0.2, random_state=None, stratify=data[4])\\n\\nX_train_setosa = X_train[y_train=='Iris-setosa'].to_numpy()\\nX_train_versicolor = X_train[y_train=='Iris-versicolor'].to_numpy()\\nX_train_virginica = X_train[y_train=='Iris-virginica'].to_numpy()\\n\\nX_test_s = X_test.to_numpy()\\ny_test_s = (y_test == 'Iris-setosa').astype(int).to_numpy()\\n\\nX_test_vv = X_test[y_test!='Iris-setosa'].to_numpy()\\ny_test_vv = (y_test[y_test!='Iris-setosa'] == 'Iris-versicolor').astype(int).to_numpy()\\n\\nX_train_vv = np.vstack((X_train_versicolor, X_train_virginica))\\ny_train_vv = np.zeros((X_train_vv.shape[0], ))\\nX_train_s = X_train_setosa\\ny_train_s = np.ones((X_train_setosa.shape[0], ))\\n\\nX_test_vv = np.vstack((X_train_versicolor, X_train_virginica))\\n\\nX_train = np.vstack((X_train_vv, X_train_s))\\ny_train = np.hstack((y_train_vv, y_train_s))\\n\\nX_test = np.vstack((X_test_vv, X_test_s))\\ny_test = np.hstack((y_train_vv, y_train_s))\""
      ]
     },
     "execution_count": 4,
     "metadata": {},
     "output_type": "execute_result"
    }
   ],
   "source": [
    "\"\"\"X_train, X_test, y_train, y_test = train_test_split(data[list(range(4))], data[4], test_size=0.2, random_state=None, stratify=data[4])\n",
    "\n",
    "X_train_setosa = X_train[y_train=='Iris-setosa'].to_numpy()\n",
    "X_train_versicolor = X_train[y_train=='Iris-versicolor'].to_numpy()\n",
    "X_train_virginica = X_train[y_train=='Iris-virginica'].to_numpy()\n",
    "\n",
    "X_test_s = X_test.to_numpy()\n",
    "y_test_s = (y_test == 'Iris-setosa').astype(int).to_numpy()\n",
    "\n",
    "X_test_vv = X_test[y_test!='Iris-setosa'].to_numpy()\n",
    "y_test_vv = (y_test[y_test!='Iris-setosa'] == 'Iris-versicolor').astype(int).to_numpy()\n",
    "\n",
    "X_train_vv = np.vstack((X_train_versicolor, X_train_virginica))\n",
    "y_train_vv = np.zeros((X_train_vv.shape[0], ))\n",
    "X_train_s = X_train_setosa\n",
    "y_train_s = np.ones((X_train_setosa.shape[0], ))\n",
    "\n",
    "X_test_vv = np.vstack((X_train_versicolor, X_train_virginica))\n",
    "\n",
    "X_train = np.vstack((X_train_vv, X_train_s))\n",
    "y_train = np.hstack((y_train_vv, y_train_s))\n",
    "\n",
    "X_test = np.vstack((X_test_vv, X_test_s))\n",
    "y_test = np.hstack((y_train_vv, y_train_s))\"\"\""
   ]
  },
  {
   "cell_type": "code",
   "execution_count": 5,
   "metadata": {},
   "outputs": [],
   "source": [
    "\n",
    "X_train, X_test, y_train, y_test = train_test_split(data[list(range(4))], data[4], test_size=0.2, random_state=None, stratify=data[4])\n",
    "\n",
    "X_train_setosa = X_train[y_train=='Iris-setosa'].to_numpy()\n",
    "X_train_versicolor = X_train[y_train=='Iris-versicolor'].to_numpy()\n",
    "X_train_virginica = X_train[y_train=='Iris-virginica'].to_numpy()\n",
    "\n",
    "X_test_setosa_v_v = X_test.to_numpy()\n",
    "y_test_setosa_v_v = (y_test == 'Iris-setosa').astype(int).to_numpy()\n",
    "\n",
    "X_test_versicolor_virginica = X_test[y_test!='Iris-setosa'].to_numpy()\n",
    "y_test_versicolor_virginica = (y_test[y_test!='Iris-setosa'] == 'Iris-versicolor').astype(int).to_numpy()\n",
    "\n",
    "y_train_setosa = np.zeros((X_train_setosa.shape[0], ))\n",
    "y_train_versicolor = np.ones((X_train_versicolor.shape[0], ))\n",
    "\n",
    "X_train = np.vstack((X_train_setosa, X_train_versicolor))\n",
    "\n",
    "y_train = np.hstack((y_train_setosa, y_train_versicolor))\n",
    "\n",
    "X_train, X_test, y_train, y_test = train_test_split(X_train, y_train, test_size=0.2, random_state=None, stratify=y_train)"
   ]
  },
  {
   "cell_type": "code",
   "execution_count": 6,
   "metadata": {},
   "outputs": [],
   "source": [
    "def accuracy(labels, predictions):\n",
    "    return np.mean(labels == predictions)\n",
    "\n",
    "def heavyside(x):\n",
    "    return np.where(x > 0, np.ones_like(x), np.zeros_like(x))\n",
    "\n",
    "def center_data(x):\n",
    "    return x - np.mean(x, axis=0)\n",
    "\n",
    "def vector_length(x):\n",
    "    return np.linalg.norm(x)\n",
    "\n",
    "class SingleLayerPerceptron():\n",
    "    def fit(self, x, y, theta):\n",
    "        x, y = x.copy(), y.copy()\n",
    "        self.w = np.mean(x[y == 1], axis=0)\n",
    "        x = center_data(x)\n",
    "        while True:\n",
    "            w_prime = self.w \n",
    "            random_idx = np.random.randint(low=0, high=x.shape[0], size=(1, ))[0]\n",
    "            v = x[random_idx]\n",
    "            scalar = self.w.T @ v\n",
    "            # v is from P\n",
    "            if y[random_idx] == 1:\n",
    "                if scalar > 0:\n",
    "                    pass\n",
    "                else:\n",
    "                    w_prime = self.w + v   \n",
    "            # v is from N\n",
    "            else:\n",
    "                if scalar < 0:\n",
    "                    pass\n",
    "                else:\n",
    "                    w_prime = self.w - v\n",
    "            if vector_length(self.w - w_prime) < theta:\n",
    "                self.w = w_prime\n",
    "                break\n",
    "            self.w = w_prime\n",
    "    \n",
    "    def predict(self, x):\n",
    "        x = x.copy()\n",
    "        x = center_data(x)\n",
    "        return heavyside(x @ self.w)"
   ]
  },
  {
   "cell_type": "code",
   "execution_count": 7,
   "metadata": {},
   "outputs": [],
   "source": [
    "clf = SingleLayerPerceptron()\n",
    "clf.fit(X_train, y_train, 0.001)"
   ]
  },
  {
   "cell_type": "code",
   "execution_count": 8,
   "metadata": {
    "scrolled": true
   },
   "outputs": [
    {
     "name": "stdout",
     "output_type": "stream",
     "text": [
      "[1. 1. 1. 1. 1. 0. 0. 0. 0. 0. 0. 1. 0. 1. 0. 1.]\n",
      "1.0\n"
     ]
    }
   ],
   "source": [
    "y_pred = clf.predict(X_test)\n",
    "y_pred = y_pred.reshape((-1, ))\n",
    "print(y_pred)\n",
    "\n",
    "print(accuracy(y_test, y_pred))"
   ]
  },
  {
   "cell_type": "markdown",
   "metadata": {},
   "source": [
    "0.5\n",
    "[1. 1. 1. 1. 1. 1. 1. 1. 1. 1. 0. 0. 0. 0. 0. 0. 0. 0. 0. 0.]\n",
    "[1. 1. 1. 1. 1. 1. 1. 1. 1. 1. 1. 1. 1. 1. 1. 1. 1. 1. 1. 1.]"
   ]
  },
  {
   "cell_type": "markdown",
   "metadata": {},
   "source": [
    "## Excercise 2. Multilayer-Perceptron (MLP)"
   ]
  },
  {
   "cell_type": "code",
   "execution_count": 9,
   "metadata": {},
   "outputs": [],
   "source": [
    "class DenseLayer():\n",
    "    def __init__(self, input_shape, output_shape, activation):\n",
    "        \"\"\"\n",
    "        output_shape is equal to the number of neurons in the layer\n",
    "        \"\"\"\n",
    "        self.w = np.random.uniform(low=-1, high=1, size=(input_shape, output_shape))\n",
    "        self.b = np.ones((1, output_shape))\n",
    "        self.activation = activation\n",
    "        \n",
    "    def forward(self, x):\n",
    "        x_t = np.hstack((np.ones((x.shape[0], 1)), x))\n",
    "        w_t = np.vstack((self.b, self.w))\n",
    "        return self.activation(x_t @ w_t)"
   ]
  },
  {
   "cell_type": "code",
   "execution_count": 10,
   "metadata": {},
   "outputs": [
    {
     "name": "stdout",
     "output_type": "stream",
     "text": [
      "[[1.]\n",
      " [1.]\n",
      " [1.]\n",
      " [1.]\n",
      " [1.]\n",
      " [1.]\n",
      " [1.]\n",
      " [1.]\n",
      " [1.]\n",
      " [1.]\n",
      " [1.]\n",
      " [1.]\n",
      " [1.]\n",
      " [0.]\n",
      " [1.]\n",
      " [1.]]\n"
     ]
    }
   ],
   "source": [
    "class NeuralNetwork():\n",
    "    def __init__(self, layers):\n",
    "        self.layers = layers\n",
    "        \n",
    "    def predict(self, x):\n",
    "        x = x.copy()\n",
    "        for layer in self.layers:\n",
    "            x = layer.forward(x)\n",
    "        return x\n",
    "\n",
    "layers = []\n",
    "layers.append(DenseLayer(input_shape=X_train.shape[1], output_shape=64, activation=heavyside))\n",
    "layers.append(DenseLayer(input_shape=64, output_shape=128, activation=heavyside))\n",
    "layers.append(DenseLayer(input_shape=128, output_shape=64, activation=heavyside))\n",
    "layers.append(DenseLayer(input_shape=64, output_shape=1, activation=heavyside))\n",
    "\n",
    "clf = NeuralNetwork(layers)\n",
    "y_pred = clf.predict(X_test)\n",
    "\n",
    "print(y_pred)"
   ]
  },
  {
   "cell_type": "code",
   "execution_count": 11,
   "metadata": {},
   "outputs": [
    {
     "ename": "NameError",
     "evalue": "name 'X' is not defined",
     "output_type": "error",
     "traceback": [
      "\u001b[0;31m---------------------------------------------------------------------------\u001b[0m",
      "\u001b[0;31mNameError\u001b[0m                                 Traceback (most recent call last)",
      "\u001b[0;32m<ipython-input-11-11cac92cfe02>\u001b[0m in \u001b[0;36m<module>\u001b[0;34m\u001b[0m\n\u001b[0;32m----> 1\u001b[0;31m \u001b[0mX\u001b[0m\u001b[0;34m\u001b[0m\u001b[0;34m\u001b[0m\u001b[0m\n\u001b[0m\u001b[1;32m      2\u001b[0m \u001b[0mz1\u001b[0m \u001b[0;34m=\u001b[0m \u001b[0mactivation\u001b[0m\u001b[0;34m(\u001b[0m\u001b[0mX\u001b[0m \u001b[0;34m@\u001b[0m \u001b[0mW1\u001b[0m\u001b[0;34m)\u001b[0m \u001b[0;31m# layer1\u001b[0m\u001b[0;34m\u001b[0m\u001b[0;34m\u001b[0m\u001b[0m\n\u001b[1;32m      3\u001b[0m \u001b[0mz2\u001b[0m \u001b[0;34m=\u001b[0m \u001b[0mactivation\u001b[0m\u001b[0;34m(\u001b[0m\u001b[0mz1\u001b[0m \u001b[0;34m@\u001b[0m \u001b[0mW2\u001b[0m\u001b[0;34m)\u001b[0m \u001b[0;31m# layer2\u001b[0m\u001b[0;34m\u001b[0m\u001b[0;34m\u001b[0m\u001b[0m\n",
      "\u001b[0;31mNameError\u001b[0m: name 'X' is not defined"
     ]
    }
   ],
   "source": [
    "X \n",
    "z1 = activation(X @ W1) # layer1\n",
    "z2 = activation(z1 @ W2) # layer2 "
   ]
  }
 ],
 "metadata": {
  "colab": {
   "name": "Perceptron.ipynb",
   "provenance": [],
   "toc_visible": true
  },
  "kernelspec": {
   "display_name": "Python 3",
   "language": "python",
   "name": "python3"
  },
  "language_info": {
   "codemirror_mode": {
    "name": "ipython",
    "version": 3
   },
   "file_extension": ".py",
   "mimetype": "text/x-python",
   "name": "python",
   "nbconvert_exporter": "python",
   "pygments_lexer": "ipython3",
   "version": "3.8.5"
  }
 },
 "nbformat": 4,
 "nbformat_minor": 1
}
