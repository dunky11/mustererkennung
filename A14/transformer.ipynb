{
 "cells": [
  {
   "cell_type": "code",
   "execution_count": 27,
   "metadata": {},
   "outputs": [
    {
     "ename": "SyntaxError",
     "evalue": "invalid syntax (<ipython-input-27-e1e3d21d637a>, line 21)",
     "output_type": "error",
     "traceback": [
      "\u001b[0;36m  File \u001b[0;32m\"<ipython-input-27-e1e3d21d637a>\"\u001b[0;36m, line \u001b[0;32m21\u001b[0m\n\u001b[0;31m    def positional_encoding(seq_len, input_dim, device)\u001b[0m\n\u001b[0m                                                       ^\u001b[0m\n\u001b[0;31mSyntaxError\u001b[0m\u001b[0;31m:\u001b[0m invalid syntax\n"
     ]
    }
   ],
   "source": [
    "import torch\n",
    "from torch import nn\n",
    "from torch.nn import functional as F\n",
    "import numpy as np\n",
    "\n",
    "\"\"\"\n",
    "Setting some hyperparameters\n",
    "\"\"\"\n",
    "# size of the query, key, value and z vectors \n",
    "# in the attention layer (64 was used in paper)\n",
    "ATTENTION_OUTPUT_DIM = 64\n",
    "WORD_EMBEDDING_DIM = 512\n",
    "\n",
    "def scaled_dot_product_attention(queries, keys, values, mask=None):\n",
    "    scores = queries @ keys.T\n",
    "    scaled_scores = scores / torch.sqrt(keys.shape[1])\n",
    "    softmax_scores = F.softmax(scaled_scores, dim=1)\n",
    "    z = softmax_scores @ values\n",
    "    return z\n",
    "\n",
    "def positional_encoding(seq_len, input_dim, device):\n",
    "    \"\"\" FROM https://medium.com/the-dl/transformers-from-scratch-in-pytorch-8777e346ca51\n",
    "    TODO understand this.\n",
    "    \"\"\"\n",
    "    pos = torch.arange(seq_len, dtype=torch.float, device=device).reshape(1, -1, 1)\n",
    "    dim = torch.arange(dim_model, dtype=torch.float, device=device).reshape(1, 1, -1)\n",
    "    phase = pos / 10000 ** (dim // dim_model)\n",
    "\n",
    "    return torch.where(dim.long() % 2 == 0, torch.sin(phase), torch.cos(phase))\n",
    "\n",
    "class TwoLayerNN(nn.Module):\n",
    "    \"\"\" Two layer network, without activation function for the last layer like in the paper\n",
    "    \"\"\"\n",
    "    def __init__(self, input_dim, hidden_dim=2048):\n",
    "        super().__init__()\n",
    "        self.dense_1 = nn.Linear(input_dim, hidden_dim)\n",
    "        self.dense_2 = nn.Linear(hidden_dim, input_dim)\n",
    "        \n",
    "    def forward(self, x):\n",
    "        x = self.dense_1(x)\n",
    "        x = F.relu(x)\n",
    "        x = self.dense_2(x)\n",
    "        return x\n",
    "    \n",
    "    \n",
    "class MultiHeadAttentionLayer(nn.Module):\n",
    "    def __init__(self, input_dim, num_heads):\n",
    "        \"\"\"\n",
    "        input_dim : dim of the input, output will have same dimension\n",
    "        num_heads : number of self attention layers to concatenate, each will have a \n",
    "        query, key and value dimension of num_heads // input_dim\n",
    "        \"\"\"\n",
    "        super().__init__()\n",
    "        self.head_dim = input_dim // num_heads\n",
    "        self.num_heads = num_heads\n",
    "        self.W_o = nn.Linear(self.head_dim * num_heads, input_dim, bias=False)\n",
    "        \n",
    "    def forward(self, queries, keys, values, mask=None):\n",
    "        dot_attentions = []\n",
    "        for i in range(0, self.num_heads * self.head_dim, self.head_dim):\n",
    "            q = queries[:,i:i+self.head_dim]\n",
    "            k = keys[:,i:i+self.head_dim]\n",
    "            v = values[:,i:i+self.head_dim]\n",
    "            dot_attention = scaled_dot_product_attention(q, k, v)\n",
    "            dot_attentions.append(dot_attention)\n",
    "        z = torch.cat(dot_attentions, dim=1)\n",
    "        output = self.W_o(z)\n",
    "        return z\n",
    "    \n",
    "class EncoderBlock(nn.Module):\n",
    "    def __init__(self, input_dim, num_heads, dropout_p=0.1, ff_hidden_dim=2048):\n",
    "        super().__init__()\n",
    "        self.W_q = nn.Linear(input_dim, input_dim, bias=False)\n",
    "        self.W_k = nn.Linear(input_dim, input_dim, bias=False)\n",
    "        self.W_v = nn.Linear(input_dim, input_dim, bias=False)\n",
    "        self.attention = MultiHeadAttentionLayer(input_dim, num_heads, input_dim)\n",
    "        self.feed_forward = TwoLayerNN(input_dim, ff_hidden_dim)\n",
    "        self.dropout = nn.Dropout(dropout_p)\n",
    "        self.norm_1 = nn.LayerNorm(input_dim)\n",
    "        self.norm_2 = nn.LayerNorm(input_dim)\n",
    "        \n",
    "    def forward(self, x, mask=None):\n",
    "        x = self.dropout(x)\n",
    "        queries = self.W_q(x)\n",
    "        keys = self.W_k(x)\n",
    "        values = self.W_v(x)\n",
    "        z = self.attention(queries, keys, values, mask)\n",
    "        z = self.dropout(z)\n",
    "        x = self.norm_1(x + z)\n",
    "        z = self.feed_forward(normalised)\n",
    "        z = self.dropout(z)\n",
    "        x = self.norm_2(x + z)\n",
    "        return x\n",
    "\n",
    "class Encoder(nn.Module):\n",
    "    def __init__(self, vocab_len, device, num_heads=8, embedding_dim=512, n_layers=6, dropout_p=0.1, ff_hidden_dim=2048):\n",
    "        self.word_embedding = nn.Embedding(vocab_len, embedding_dim)\n",
    "        self.dropout = nn.Dropout(dropout_p)\n",
    "        self.encoder_blocks = nn.ModuleList(\n",
    "            [EncoderBlock(embedding_dim, num_heads, dropout_p, ff_hidden_dim) for i in range(n_layers)]\n",
    "        )\n",
    "        self.embedding_dim = embedding_dim\n",
    "        self.device = device\n",
    "        \n",
    "        \n",
    "    def forward(self, x):\n",
    "        x = self.word_embedding(x)\n",
    "        pos_enc = positional_encoding(x.shape[0], self.embedding_dim, self.device)\n",
    "        x = x + pos_enc\n",
    "        x = self.dropout(x)\n",
    "        x = self.encoder_blocks(x)\n",
    "        return x"
   ]
  },
  {
   "cell_type": "code",
   "execution_count": 14,
   "metadata": {},
   "outputs": [
    {
     "ename": "NameError",
     "evalue": "name 'output_dim' is not defined",
     "output_type": "error",
     "traceback": [
      "\u001b[0;31m---------------------------------------------------------------------------\u001b[0m",
      "\u001b[0;31mNameError\u001b[0m                                 Traceback (most recent call last)",
      "\u001b[0;32m<ipython-input-14-21de23a9afbd>\u001b[0m in \u001b[0;36m<module>\u001b[0;34m\u001b[0m\n\u001b[1;32m      1\u001b[0m \u001b[0mtest\u001b[0m \u001b[0;34m=\u001b[0m \u001b[0mtorch\u001b[0m\u001b[0;34m.\u001b[0m\u001b[0mones\u001b[0m\u001b[0;34m(\u001b[0m\u001b[0;34m(\u001b[0m\u001b[0;36m30\u001b[0m\u001b[0;34m,\u001b[0m \u001b[0mWORD_EMBEDDING_DIM\u001b[0m\u001b[0;34m)\u001b[0m\u001b[0;34m)\u001b[0m\u001b[0;34m.\u001b[0m\u001b[0mfloat\u001b[0m\u001b[0;34m(\u001b[0m\u001b[0;34m)\u001b[0m\u001b[0;34m\u001b[0m\u001b[0;34m\u001b[0m\u001b[0m\n\u001b[0;32m----> 2\u001b[0;31m \u001b[0mmulti_headed_attention\u001b[0m \u001b[0;34m=\u001b[0m \u001b[0mMultiHeadAttentionLayer\u001b[0m\u001b[0;34m(\u001b[0m\u001b[0mWORD_EMBEDDING_DIM\u001b[0m\u001b[0;34m,\u001b[0m \u001b[0;36m8\u001b[0m\u001b[0;34m,\u001b[0m \u001b[0;36m512\u001b[0m\u001b[0;34m)\u001b[0m\u001b[0;34m\u001b[0m\u001b[0;34m\u001b[0m\u001b[0m\n\u001b[0m\u001b[1;32m      3\u001b[0m \u001b[0;34m\u001b[0m\u001b[0m\n\u001b[1;32m      4\u001b[0m \u001b[0mprint\u001b[0m\u001b[0;34m(\u001b[0m\u001b[0mmulti_headed_attention\u001b[0m\u001b[0;34m(\u001b[0m\u001b[0mtest\u001b[0m\u001b[0;34m)\u001b[0m\u001b[0;34m)\u001b[0m\u001b[0;34m\u001b[0m\u001b[0;34m\u001b[0m\u001b[0m\n",
      "\u001b[0;32m<ipython-input-13-8db1cbcc2057>\u001b[0m in \u001b[0;36m__init__\u001b[0;34m(self, input_dim, num_heads, ouput_dim)\u001b[0m\n\u001b[1;32m     30\u001b[0m         \u001b[0mself\u001b[0m\u001b[0;34m.\u001b[0m\u001b[0mhead_dim\u001b[0m \u001b[0;34m=\u001b[0m \u001b[0minput_dim\u001b[0m \u001b[0;34m//\u001b[0m \u001b[0mnum_heads\u001b[0m\u001b[0;34m\u001b[0m\u001b[0;34m\u001b[0m\u001b[0m\n\u001b[1;32m     31\u001b[0m         \u001b[0mself\u001b[0m\u001b[0;34m.\u001b[0m\u001b[0mnum_heads\u001b[0m \u001b[0;34m=\u001b[0m \u001b[0mnum_heads\u001b[0m\u001b[0;34m\u001b[0m\u001b[0;34m\u001b[0m\u001b[0m\n\u001b[0;32m---> 32\u001b[0;31m         \u001b[0mself\u001b[0m\u001b[0;34m.\u001b[0m\u001b[0mW_o\u001b[0m \u001b[0;34m=\u001b[0m \u001b[0mnn\u001b[0m\u001b[0;34m.\u001b[0m\u001b[0mLinear\u001b[0m\u001b[0;34m(\u001b[0m\u001b[0mself\u001b[0m\u001b[0;34m.\u001b[0m\u001b[0mhead_dim\u001b[0m \u001b[0;34m*\u001b[0m \u001b[0mnum_heads\u001b[0m\u001b[0;34m,\u001b[0m \u001b[0moutput_dim\u001b[0m\u001b[0;34m)\u001b[0m\u001b[0;34m\u001b[0m\u001b[0;34m\u001b[0m\u001b[0m\n\u001b[0m\u001b[1;32m     33\u001b[0m \u001b[0;34m\u001b[0m\u001b[0m\n\u001b[1;32m     34\u001b[0m     \u001b[0;32mdef\u001b[0m \u001b[0mforward\u001b[0m\u001b[0;34m(\u001b[0m\u001b[0mself\u001b[0m\u001b[0;34m,\u001b[0m \u001b[0mqueries\u001b[0m\u001b[0;34m,\u001b[0m \u001b[0mkeys\u001b[0m\u001b[0;34m,\u001b[0m \u001b[0mvalues\u001b[0m\u001b[0;34m,\u001b[0m \u001b[0mmask\u001b[0m\u001b[0;34m)\u001b[0m\u001b[0;34m:\u001b[0m\u001b[0;34m\u001b[0m\u001b[0;34m\u001b[0m\u001b[0m\n",
      "\u001b[0;31mNameError\u001b[0m: name 'output_dim' is not defined"
     ]
    }
   ],
   "source": [
    "test = torch.ones((30, WORD_EMBEDDING_DIM)).float()\n",
    "multi_headed_attention = MultiHeadAttentionLayer(WORD_EMBEDDING_DIM, 8, 512)\n",
    "\n",
    "print(multi_headed_attention(test))"
   ]
  },
  {
   "cell_type": "code",
   "execution_count": 3,
   "metadata": {},
   "outputs": [
    {
     "name": "stdout",
     "output_type": "stream",
     "text": [
      "torch.Size([30, 64])\n"
     ]
    }
   ],
   "source": [
    "num_words = 30 \n",
    "hidden_dim = 64\n",
    "\n",
    "softmax_scores = torch.ones((30, 30))\n",
    "z_scores = torch.ones((30, 64))\n",
    "\n",
    "print((softmax_scores @ z_scores).shape)"
   ]
  },
  {
   "cell_type": "code",
   "execution_count": 23,
   "metadata": {},
   "outputs": [
    {
     "data": {
      "text/plain": [
       "1e+20"
      ]
     },
     "execution_count": 23,
     "metadata": {},
     "output_type": "execute_result"
    }
   ],
   "source": [
    "1e20"
   ]
  },
  {
   "cell_type": "code",
   "execution_count": null,
   "metadata": {},
   "outputs": [],
   "source": []
  }
 ],
 "metadata": {
  "kernelspec": {
   "display_name": "Python 3",
   "language": "python",
   "name": "python3"
  },
  "language_info": {
   "codemirror_mode": {
    "name": "ipython",
    "version": 3
   },
   "file_extension": ".py",
   "mimetype": "text/x-python",
   "name": "python",
   "nbconvert_exporter": "python",
   "pygments_lexer": "ipython3",
   "version": "3.8.5"
  }
 },
 "nbformat": 4,
 "nbformat_minor": 4
}
