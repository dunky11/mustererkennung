{
 "cells": [
  {
   "cell_type": "code",
   "execution_count": 17,
   "metadata": {},
   "outputs": [
    {
     "name": "stdout",
     "output_type": "stream",
     "text": [
      "(506,)\n"
     ]
    }
   ],
   "source": [
    "from sklearn.datasets import load_boston\n",
    "import numpy as np\n",
    "\n",
    "class LinearRegression():\n",
    "    def fit(self, x, y):\n",
    "        # Add ones as first column for bias\n",
    "        x = np.hstack((np.ones(( x.shape[0] ,1)), x))\n",
    "        # Closed formula for sum of squares global optimum calculation\n",
    "        self.weights = (np.linalg.inv(x.T @ x) @ x.T) @ y\n",
    "    \n",
    "    def predict(self, x):\n",
    "        x = np.hstack((np.ones(( x.shape[0] ,1)), x))\n",
    "        return x @ self.weights\n",
    "    \n",
    "dataset = load_boston()\n",
    "x, y = dataset.data, dataset.target\n",
    "\n",
    "model = LinearRegression()\n",
    "model.fit(x, y)\n",
    "preds1 = model.predict(x)\n",
    "\n",
    "## Test implementation\n",
    "from sklearn.linear_model import LinearRegression\n",
    "\n",
    "model = LinearRegression()\n",
    "model.fit(x, y)\n",
    "preds2 = model.predict(x)\n",
    "\n",
    "assert(np.all(np.around(preds1, 4) == np.around(preds2, 4)))"
   ]
  },
  {
   "cell_type": "code",
   "execution_count": null,
   "metadata": {},
   "outputs": [],
   "source": []
  }
 ],
 "metadata": {
  "kernelspec": {
   "display_name": "Python 3",
   "language": "python",
   "name": "python3"
  },
  "language_info": {
   "codemirror_mode": {
    "name": "ipython",
    "version": 3
   },
   "file_extension": ".py",
   "mimetype": "text/x-python",
   "name": "python",
   "nbconvert_exporter": "python",
   "pygments_lexer": "ipython3",
   "version": "3.8.5"
  }
 },
 "nbformat": 4,
 "nbformat_minor": 4
}
