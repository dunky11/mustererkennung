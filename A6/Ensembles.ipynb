{
 "cells": [
  {
   "cell_type": "markdown",
   "metadata": {
    "id": "Zo9GWxKgTN1h"
   },
   "source": [
    "# Mustererkennung/Machine Learning - Assignment 6\n",
    "\n"
   ]
  },
  {
   "cell_type": "code",
   "execution_count": 77,
   "metadata": {
    "ExecuteTime": {
     "end_time": "2018-11-29T11:28:48.347720Z",
     "start_time": "2018-11-29T11:28:47.572823Z"
    },
    "id": "V7XaSv5wTN1i"
   },
   "outputs": [],
   "source": [
    "import numpy as np\n",
    "import pandas as pd\n",
    "from matplotlib import pyplot as plt\n",
    "from sklearn.model_selection import train_test_split"
   ]
  },
  {
   "cell_type": "markdown",
   "metadata": {
    "id": "Ax8ea49_bkdb"
   },
   "source": [
    "### Load the spam dataset:"
   ]
  },
  {
   "cell_type": "code",
   "execution_count": 78,
   "metadata": {
    "ExecuteTime": {
     "end_time": "2018-11-29T11:28:48.406520Z",
     "start_time": "2018-11-29T11:28:48.349530Z"
    },
    "id": "sT2Hk2k-TN1i"
   },
   "outputs": [],
   "source": [
    "data = np.array(pd.read_csv('spambase.data', header=None))\n",
    "\n",
    "X = data[:,:-1] # features\n",
    "y = data[:,-1] # Last column is label\n",
    "\n",
    "X_train, X_test, y_train, y_test = train_test_split(X, y, random_state=0, shuffle=True, stratify=y)"
   ]
  },
  {
   "cell_type": "code",
   "execution_count": 79,
   "metadata": {},
   "outputs": [],
   "source": [
    "def accuracy(y_true, y_pred):\n",
    "    return np.mean(y_true == y_pred)\n",
    "\n",
    "def gini(y_true):\n",
    "    \"\"\"\n",
    "    For simplicity reasons this assumes that there are only 2 classes\n",
    "    \"\"\"\n",
    "    y_true = np.array(y_true)\n",
    "    p_m0 = np.mean((y_true == 0) * 1)\n",
    "    p_m1 = np.mean((y_true == 1) * 1)\n",
    "    return 1 - p_m0 ** 2 - p_m1 ** 2\n",
    "\n",
    "class LeafNode():\n",
    "    def fit(self, c):\n",
    "        self.c = c\n",
    "        \n",
    "    def predict(self, x):\n",
    "        return self.c\n",
    "    \n",
    "class InternalNode():\n",
    "    def fit(self, x, y, depth, max_depth, max_features_to_sample):\n",
    "        m, n = x.shape\n",
    "        # columns are j, split_index, loss_total\n",
    "        split_infos = []\n",
    "        if max_features_to_sample == None:\n",
    "            iter_over = range(n)\n",
    "        else:\n",
    "            # in RandomForest we build the tree only on a subset of the features at each Node\n",
    "            iter_over = np.random.permutation(n)[:max_features_to_sample]\n",
    "            \n",
    "        for j in iter_over:\n",
    "            # sort rows by feature j in ascending order\n",
    "            x = x[x[:,j].argsort()]\n",
    "            last_val = None\n",
    "            for split_index in range(0, m - 1):\n",
    "                this_val = x[split_index, j]\n",
    "                y_top_split = y[:split_index + 1]\n",
    "                y_bottom_split = y[split_index + 1:]\n",
    "                \n",
    "                loss_1 = gini(y_top_split)\n",
    "                loss_2 = gini(y_bottom_split)\n",
    "                \n",
    "                # use weighted average\n",
    "                loss_total = (y_top_split.shape[0] / m) * loss_1 + (y_bottom_split.shape[0] / m) * loss_2\n",
    "                \n",
    "                # if it's the same split, we will just overwrite the index to split at\n",
    "                if last_val != None and last_val == this_val:\n",
    "                    split_infos[-1][1] = split_index\n",
    "                else:\n",
    "                    row = np.array([j, split_index, loss_total])\n",
    "                    split_infos.append(row)\n",
    "                last_val = this_val\n",
    "                \n",
    "        split_infos = np.array(split_infos)\n",
    "        best_split_idx = np.argmin(split_infos[:,-1], axis=0)\n",
    "        best_split = split_infos[best_split_idx]\n",
    "        self.j = int(best_split[0])\n",
    "        split_index = int(best_split[1])\n",
    "        x = x[x[:, self.j].argsort()]\n",
    "        x_top_split, y_top_split = x[:split_index + 1], y[:split_index + 1]\n",
    "        x_bottom_split, y_bottom_split = x[split_index + 1:], y[split_index + 1:]\n",
    "        \n",
    "        self.z = x_top_split[-1, self.j] + (x_bottom_split[0, self.j] - x_top_split[-1, self.j]) / 2\n",
    "        \n",
    "        if x_top_split.shape[0] <= 1 or depth >= max_depth:\n",
    "            self.left_child = LeafNode()\n",
    "            c = self.find_c(y_top_split)\n",
    "            self.left_child.fit(c)\n",
    "        else:\n",
    "            self.left_child = InternalNode()\n",
    "            self.left_child.fit(x_top_split, y_top_split, depth + 1, max_depth, max_features_to_sample)\n",
    "            \n",
    "        if x_bottom_split.shape[0] <= 1 or depth >= max_depth:\n",
    "            self.right_child = LeafNode()\n",
    "            c = self.find_c(y_bottom_split)\n",
    "            self.right_child.fit(c)\n",
    "        else:\n",
    "            self.right_child = InternalNode()\n",
    "            self.right_child.fit(x_bottom_split, y_bottom_split, depth + 1, max_depth, max_features_to_sample)\n",
    "        \n",
    "    def predict(self, x):\n",
    "        if x[self.j] <= self.z:\n",
    "            return self.left_child.predict(x)\n",
    "        return self.right_child.predict(x)\n",
    "    \n",
    "    def find_c(self, y):\n",
    "        \"\"\"\n",
    "        For simplicity reasons this assumes that there are only 2 classes\n",
    "        \"\"\"\n",
    "        zeros = np.sum(y == 0)\n",
    "        ones = np.sum(y == 1)\n",
    "        if zeros > ones:\n",
    "            return 1\n",
    "        return 0\n",
    "        \n",
    "    \n",
    "class DecisionTreeClassifier():\n",
    "    \"\"\"\n",
    "    Basically just holds the root node of the tree which starts the recursion\n",
    "    features_to_sample will be set when creating a RandomForest \n",
    "    \"\"\"\n",
    "    def __init__(self, max_depth, features_to_sample=None):\n",
    "        self.max_depth = max_depth\n",
    "        self.features_to_sample = features_to_sample\n",
    "        \n",
    "    def fit(self, x, y):\n",
    "        self.root = InternalNode()\n",
    "        x = np.copy(x)\n",
    "        y = np.copy(y)\n",
    "        self.root.fit(x, y, 1, self.max_depth, self.features_to_sample)\n",
    "    \n",
    "    def predict(self, x):\n",
    "        y_preds = []\n",
    "        for sample in x:\n",
    "            y_pred = self.root.predict(sample)\n",
    "            y_preds.append(y_pred)\n",
    "        return np.array(y_preds)\n"
   ]
  },
  {
   "cell_type": "markdown",
   "metadata": {},
   "source": [
    "This takes about two minutes\n",
    "\n",
    "1min 43s and test acc of 0.639 for max_depth = 5 "
   ]
  },
  {
   "cell_type": "code",
   "execution_count": 67,
   "metadata": {
    "scrolled": true
   },
   "outputs": [
    {
     "name": "stdout",
     "output_type": "stream",
     "text": [
      "\n",
      "CPU times: user 15.7 s, sys: 12 ms, total: 15.8 s\n",
      "Wall time: 15.8 s\n"
     ]
    }
   ],
   "source": [
    "%%time\n",
    "\n",
    "clf = DecisionTreeClassifier(max_depth = 100)\n",
    "clf.fit(X_train[:300], y_train[:300])\n",
    "print()"
   ]
  },
  {
   "cell_type": "code",
   "execution_count": 68,
   "metadata": {},
   "outputs": [
    {
     "name": "stdout",
     "output_type": "stream",
     "text": [
      "0.5699391833188532\n",
      "586\n"
     ]
    }
   ],
   "source": [
    "y_pred = clf.predict(X_test)\n",
    "acc = accuracy(y_test, y_pred)\n",
    "print(acc)\n",
    "print(np.sum(y_pred == 0))"
   ]
  },
  {
   "cell_type": "code",
   "execution_count": 80,
   "metadata": {},
   "outputs": [],
   "source": [
    "# TODO Delete later\n",
    "from tqdm.notebook import tqdm\n",
    "\n",
    "class RandomForestClassifier():\n",
    "    def __init__(self, num_trees, bootstrap_ratio, max_depth):\n",
    "        self.num_trees = num_trees\n",
    "        self.bootstrap_ratio = bootstrap_ratio\n",
    "        self.max_depth = max_depth\n",
    "    \n",
    "    def boostrap_dataset(self, x, y):\n",
    "        \"\"\"\n",
    "        Creates a dataset with m * bootstrap_ratio samples\n",
    "        drawn with replacement\n",
    "        \"\"\"\n",
    "        size = int(x.shape[0] * self.bootstrap_ratio)\n",
    "        row_indices = np.random.randint(low=0, high=x.shape[0], size=(size, ))\n",
    "        return x[row_indices], y[row_indices]\n",
    "            \n",
    "    def fit(self, x, y):\n",
    "        x = np.copy(x)\n",
    "        y = np.copy(y)\n",
    "        self.trees = []\n",
    "        num_features = int(np.sqrt(x.shape[1]))\n",
    "        for tree in tqdm(range(self.num_trees)):\n",
    "            x_sub, y_sub = self.boostrap_dataset(x, y)\n",
    "            weak_predictor = DecisionTreeClassifier(self.max_depth, num_features)\n",
    "            weak_predictor.fit(x_sub, y_sub)\n",
    "            self.trees.append(weak_predictor)\n",
    "        \n",
    "    def predict(self, x):\n",
    "        y_preds = []\n",
    "        for sample in x:\n",
    "            votes = []\n",
    "            for tree in self.trees:\n",
    "                # decision tree expects matrix as input\n",
    "                sample = sample.reshape((1, -1))\n",
    "                votes.append(tree.predict(sample))\n",
    "            votes = np.array(votes)\n",
    "            if np.mean(votes) > 0.5:\n",
    "                y_preds.append(1)\n",
    "            else:\n",
    "                y_preds.append(0)\n",
    "        return np.array(y_preds)"
   ]
  },
  {
   "cell_type": "code",
   "execution_count": 87,
   "metadata": {},
   "outputs": [
    {
     "data": {
      "application/vnd.jupyter.widget-view+json": {
       "model_id": "33eb317a792f410895a2c72d9a999be9",
       "version_major": 2,
       "version_minor": 0
      },
      "text/plain": [
       "HBox(children=(HTML(value=''), FloatProgress(value=0.0, max=20.0), HTML(value='')))"
      ]
     },
     "metadata": {},
     "output_type": "display_data"
    },
    {
     "name": "stdout",
     "output_type": "stream",
     "text": [
      "\n",
      "\n",
      "CPU times: user 34.5 s, sys: 59.9 ms, total: 34.6 s\n",
      "Wall time: 34.5 s\n"
     ]
    }
   ],
   "source": [
    "%%time\n",
    "clf = RandomForestClassifier(num_trees=20, bootstrap_ratio=1, max_depth=60)\n",
    "clf.fit(X_train[:300], y_train[:300])\n",
    "print()"
   ]
  },
  {
   "cell_type": "code",
   "execution_count": 88,
   "metadata": {},
   "outputs": [
    {
     "name": "stdout",
     "output_type": "stream",
     "text": [
      "0.4456993918331885\n",
      "315\n"
     ]
    }
   ],
   "source": [
    "y_pred = clf.predict(X_test)\n",
    "acc = accuracy(y_test, y_pred)\n",
    "print(acc)\n",
    "print(np.sum(y_pred == 0))"
   ]
  },
  {
   "cell_type": "code",
   "execution_count": 89,
   "metadata": {},
   "outputs": [
    {
     "data": {
      "text/plain": [
       "RandomForestClassifier(max_depth=60, n_estimators=20)"
      ]
     },
     "execution_count": 89,
     "metadata": {},
     "output_type": "execute_result"
    }
   ],
   "source": [
    "from sklearn.ensemble import RandomForestClassifier\n",
    "clf = RandomForestClassifier(n_estimators=20, max_depth=60)\n",
    "clf.fit(X_train[:300], y_train[:300])"
   ]
  },
  {
   "cell_type": "code",
   "execution_count": 90,
   "metadata": {},
   "outputs": [
    {
     "name": "stdout",
     "output_type": "stream",
     "text": [
      "0.9365768896611643\n",
      "724\n"
     ]
    }
   ],
   "source": [
    "y_pred = clf.predict(X_test)\n",
    "acc = accuracy(y_test, y_pred)\n",
    "print(acc)\n",
    "print(np.sum(y_pred == 0))"
   ]
  },
  {
   "cell_type": "code",
   "execution_count": null,
   "metadata": {},
   "outputs": [],
   "source": []
  }
 ],
 "metadata": {
  "colab": {
   "name": "Ensembles.ipynb",
   "provenance": [],
   "toc_visible": true
  },
  "kernelspec": {
   "display_name": "Python 3",
   "language": "python",
   "name": "python3"
  },
  "language_info": {
   "codemirror_mode": {
    "name": "ipython",
    "version": 3
   },
   "file_extension": ".py",
   "mimetype": "text/x-python",
   "name": "python",
   "nbconvert_exporter": "python",
   "pygments_lexer": "ipython3",
   "version": "3.8.5"
  }
 },
 "nbformat": 4,
 "nbformat_minor": 1
}
