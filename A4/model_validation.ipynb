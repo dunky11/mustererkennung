{
 "cells": [
  {
   "cell_type": "markdown",
   "metadata": {
    "id": "p7Ke16Km19lJ"
   },
   "source": [
    "Import necessary packages: Numpy, Pandas, matplotlib"
   ]
  },
  {
   "cell_type": "markdown",
   "metadata": {},
   "source": [
    "Tim von Känel und Tim Birkner"
   ]
  },
  {
   "cell_type": "code",
   "execution_count": 1,
   "metadata": {
    "id": "syvJWoWJDwX8"
   },
   "outputs": [],
   "source": [
    "import numpy as np\n",
    "import pandas as pd\n",
    "from matplotlib import pyplot as plt"
   ]
  },
  {
   "cell_type": "markdown",
   "metadata": {
    "id": "X-ZFOCac2M9H"
   },
   "source": [
    "Mount your google drive (if you have a google account) or upload files (go on the file icon on the left -> right click). Copy path of zip.train and zip.test and load them as numpy arrays using the following code (insert the path as string)."
   ]
  },
  {
   "cell_type": "code",
   "execution_count": 2,
   "metadata": {
    "colab": {
     "base_uri": "https://localhost:8080/"
    },
    "id": "-fSmQNIKD57W",
    "outputId": "cb248081-0cb0-4a6a-b830-826e268d68a8"
   },
   "outputs": [
    {
     "name": "stdout",
     "output_type": "stream",
     "text": [
      "(371,)\n"
     ]
    }
   ],
   "source": [
    "path_to_train = 'zip.train'\n",
    "path_to_test = 'zip.test'\n",
    "training_data = np.array(pd.read_csv(path_to_train, sep=' ', header=None))\n",
    "test_data = np.array(pd.read_csv(path_to_test, sep =' ',header=None))\n",
    "\n",
    "X_train, y_train = training_data[:,1:-1], training_data[:,0]\n",
    "X_test, y_test = test_data[:,1:], test_data[:,0]\n",
    "\n",
    "# We only want to classify two different digits. Note the only difference is\n",
    "# that we don't load as many ones as we load zeros.\n",
    "\n",
    "X_train_0 = X_train[y_train == 0]\n",
    "X_train_1 = X_train[y_train == 1][:30]\n",
    "X_train = np.vstack((X_train_0, X_train_1))\n",
    "\n",
    "y_train_0 = y_train[y_train == 0]\n",
    "y_train_1 = y_train[y_train == 1][:30]\n",
    "y_train = np.hstack((y_train_0, y_train_1))\n",
    "\n",
    "X_test_0 = X_test[y_test == 0]\n",
    "X_test_1 = X_test[y_test == 1][:12]\n",
    "X_test = np.vstack((X_test_0, X_test_1))\n",
    "\n",
    "y_test_0 = y_test[y_test == 0]\n",
    "y_test_1 = y_test[y_test == 1][:12]\n",
    "y_test = np.hstack((y_test_0, y_test_1))\n",
    "print(y_test.shape)"
   ]
  },
  {
   "cell_type": "code",
   "execution_count": 3,
   "metadata": {
    "id": "ylOQNoNOJHSh"
   },
   "outputs": [],
   "source": [
    "def show_numbers(X):\n",
    "    num_samples = 90\n",
    "    indices = np.random.choice(range(len(X)), num_samples)\n",
    "    print(indices.shape)\n",
    "    sample_digits = X[indices]\n",
    "\n",
    "    fig = plt.figure(figsize=(20, 6))\n",
    "\n",
    "    for i in range(num_samples):\n",
    "        ax = plt.subplot(6, 15, i + 1)\n",
    "        img = 1-sample_digits[i].reshape((16, 16)) \n",
    "        plt.imshow(img, cmap='gray')\n",
    "        plt.axis('off')\n"
   ]
  },
  {
   "cell_type": "code",
   "execution_count": 4,
   "metadata": {
    "id": "NRPBzpDE0z8v"
   },
   "outputs": [],
   "source": [
    "def accuracy(y_true, y_pred):\n",
    "    if y_true.shape != y_pred.shape:\n",
    "        raise ValueError(f\"Invalid shapes received, y_trues shape is {y_true.shape} while y_pres shape is {y_pred.shape}.\")\n",
    "    return (1 / y_true.shape[0]) * np.sum(y_true == y_pred)\n",
    "\n",
    "\n",
    "class KNearestNeighbors():\n",
    "    '''\n",
    "    Think about defining more functions that will help you building this algorithm.\n",
    "    Optimally, one that takes in k and a test image as a parameter.\n",
    "    '''\n",
    "    def __init__(self, k, num_classes):\n",
    "        self.k = k\n",
    "        self.num_classes = num_classes\n",
    "        \n",
    "    def fit(self, x, y):\n",
    "        self.x = x\n",
    "        self.y = y\n",
    "    \n",
    "    def squared_euclidean_distance(self, x_1, x_2):\n",
    "      '''\n",
    "      np.sum(x, axis = 1) will be summing all elements over the pixel dimension (axis = 1)\n",
    "      '''\n",
    "      return np.sum((x_1-x_2)**2, axis = 0)\n",
    "    \n",
    "    def predict(self, x):\n",
    "        predictions = []\n",
    "        for it, pred_row in enumerate(x):\n",
    "            knn = []\n",
    "            for train_x, train_y in zip(self.x, self.y):\n",
    "                dist = self.squared_euclidean_distance(pred_row, train_x)\n",
    "                if len(knn) >= self.k and dist > knn[-1][0]:\n",
    "                    continue\n",
    "\n",
    "                hasInserted = False\n",
    "                for i in range(len(knn)):\n",
    "                    if knn[i][0] > dist:\n",
    "                        knn.insert(i, (dist, train_y))\n",
    "                        hasInserted = True\n",
    "                        break\n",
    "\n",
    "                if not hasInserted and len(knn) < self.k:\n",
    "                    knn.append((dist, train_y))\n",
    "\n",
    "                if len(knn) > self.k:\n",
    "                    knn.pop()\n",
    "                    \n",
    "            classes = [0 for i in range(self.num_classes)]\n",
    "            for neighbour in knn:\n",
    "                classes[int(neighbour[1])] += 1\n",
    "                \n",
    "            predictions.append(np.argmax(classes))\n",
    "            \n",
    "        return np.array(predictions)"
   ]
  },
  {
   "cell_type": "code",
   "execution_count": 5,
   "metadata": {
    "colab": {
     "base_uri": "https://localhost:8080/",
     "height": 374
    },
    "id": "KcpChtjCKO0z",
    "outputId": "e7e9b5a1-ebe8-496c-d4f3-cf6fd12cfd20"
   },
   "outputs": [
    {
     "name": "stdout",
     "output_type": "stream",
     "text": [
      "(90,)\n"
     ]
    },
    {
     "data": {
      "image/png": "[encoded data removed]",
      "text/plain": [
       "<Figure size 1440x432 with 90 Axes>"
      ]
     },
     "metadata": {
      "needs_background": "light"
     },
     "output_type": "display_data"
    }
   ],
   "source": [
    "show_numbers(X_test)"
   ]
  },
  {
   "cell_type": "markdown",
   "metadata": {
    "id": "7Fygzycv2tey"
   },
   "source": [
    "Choose one of the classifiers you implemented and use it on the following task: Take a look at the provided notebook. It loads the ZIP-Code’s zeros and ones, but now there are manymore zeros than there are ones. We are going to believe that these digits represent geneticdata. Actually, we are virologists trying to develop a test to determine which of the data belongs to infected patients (the ones) and which do not (the zeros). Train/apply your model on the data and do the tasks of the exercise."
   ]
  },
  {
   "cell_type": "code",
   "execution_count": 6,
   "metadata": {
    "colab": {
     "base_uri": "https://localhost:8080/"
    },
    "id": "eqe_C3EY3S3S",
    "outputId": "0fc16d17-dcc1-4a31-98ab-e826fc7bcf92"
   },
   "outputs": [],
   "source": [
    "def k_fold(k, x, y):\n",
    "    perm = np.random.permutation(x.shape[0])\n",
    "    index_groups = []\n",
    "    for i in range(k):\n",
    "        fr = i * (x.shape[0] // k)\n",
    "        until = (i + 1) * (x.shape[0] // k)\n",
    "        index_groups.append(perm[fr:until])\n",
    "    \n",
    "    k_folds = []\n",
    "    for i in range(k):\n",
    "        training_idz = []\n",
    "        for j in range(k):\n",
    "            if i == j:\n",
    "                validation_idz = index_groups[j]\n",
    "            else:\n",
    "                training_idz = training_idz + list(index_groups[j])\n",
    "        k_folds.append(((x[training_idz], y[training_idz]), (x[validation_idz], y[validation_idz])))\n",
    "\n",
    "    return k_folds\n",
    "\n",
    "def confusion_matrix(y_true, y_hat):\n",
    "    \"\"\"\n",
    "    y_true = 1, y_hat = 1 => tp\n",
    "    y_true = 1, y_hat = 0 => fn\n",
    "    y_true = 0, y_hat = 1 => fp\n",
    "    y_true = 0, y_hat = 0 => tn\n",
    "    \"\"\"\n",
    "    conf_mat = np.zeros((2, 2))\n",
    "    for y_t, y_h in zip(y_true, y_hat):\n",
    "        if y_t == 1 and y_h == 1:\n",
    "            conf_mat[0, 0] += 1\n",
    "        elif y_t == 1 and y_h == 0:\n",
    "            conf_mat[1, 0] += 1\n",
    "        elif y_t == 0 and y_h == 1:\n",
    "            conf_mat[0, 1] += 1\n",
    "        else:\n",
    "            conf_mat[1, 1] += 1\n",
    "    return conf_mat"
   ]
  },
  {
   "cell_type": "markdown",
   "metadata": {},
   "source": [
    "Use a 5-fold Cross-Validation to evaluate your model and optimize hyperparameters (e.g.\n",
    "the threshold in Logistic Regression or k in K-NNs). Print the mean and variance of your\n",
    "validation. What do both values tell you about your model?"
   ]
  },
  {
   "cell_type": "code",
   "execution_count": 7,
   "metadata": {
    "colab": {
     "base_uri": "https://localhost:8080/"
    },
    "id": "THz__nAm867D",
    "outputId": "73ea13dc-7c48-421d-9697-886332994c36"
   },
   "outputs": [
    {
     "name": "stdout",
     "output_type": "stream",
     "text": [
      "For k=8 the model has an avg validation accuracy of 0.9973 and an avg training accuracy of 1.0\n",
      "For k=8 the model has a variance of 1.8261504747990861e-06\n",
      "For k=10 the model has an avg validation accuracy of 0.9973 and an avg training accuracy of 1.0\n",
      "For k=10 the model has a variance of 1.8261504747990861e-06\n",
      "For k=12 the model has an avg validation accuracy of 0.9973 and an avg training accuracy of 1.0\n",
      "For k=12 the model has a variance of 1.8261504747990861e-06\n",
      "For k=14 the model has an avg validation accuracy of 0.9973 and an avg training accuracy of 1.0\n",
      "For k=14 the model has a variance of 1.8261504747990861e-06\n",
      "For k=16 the model has an avg validation accuracy of 0.9865 and an avg training accuracy of 0.9946\n",
      "For k=16 the model has a variance of 1.6435354273192675e-05\n"
     ]
    }
   ],
   "source": [
    "folds = k_fold(5, X_test, y_test)\n",
    "\n",
    "for k in range(8, 18, 2):\n",
    "    avg_train_acc = avg_test_acc = 0\n",
    "    conf_matrix = np.zeros((2, 2))\n",
    "    for fold in folds:\n",
    "        model = KNearestNeighbors(k=k, num_classes=2)\n",
    "        x_train, y_train = fold[0]\n",
    "        x_val, y_val = fold[1]\n",
    "        model.fit(x_train, y_train)\n",
    "        y_hat_val = model.predict(x_val)\n",
    "        y_hat_train = model.predict(x_train)\n",
    "        avg_test_acc += accuracy(y_val, y_hat_val) / 5\n",
    "        avg_train_acc += accuracy(y_train, y_hat_train) / 5\n",
    "        \n",
    "    mean_acc = ((avg_test_acc + avg_train_acc) / 2)\n",
    "    var_acc = (avg_test_acc - mean_acc) ** 2\n",
    "    print(f\"For k={k} the model has an avg validation accuracy of {round(avg_test_acc, 4)} and an avg training accuracy of {round(avg_train_acc, 4)}\")\n",
    "    print(f\"For k={k} the model has a variance of {var_acc}\")"
   ]
  },
  {
   "cell_type": "markdown",
   "metadata": {},
   "source": [
    "k = 10 ist ein guter hyperparameter, da dieser eine durchschnittliche validierungsgenauigkeit von 0.9973% hat. Diese Genauigkeit ist sehr hoch. Gründe hierfür könnte es sein, dass es tatsächlich sehr einfach ist für KNN nullen von Einsen zu unterscheiden, oder aber auch dass sich die validierungsklassen und trainingsklassen von unserem k-fold überlappen. Dies konnten wir jedoch auch nacht tests nicht feststellen.\n",
    "Insgesamt ist die avg validation accuracy sowie die avg training accuracy hoch, was heißt dass das Modell nicht underfitted und somit keinen hohen bias hat.\n",
    "Die Varianz ist relativ gering, was heißt dass das modell gut generalisiert und somit nicht overfittet."
   ]
  },
  {
   "cell_type": "code",
   "execution_count": 9,
   "metadata": {},
   "outputs": [
    {
     "name": "stdout",
     "output_type": "stream",
     "text": [
      "Confusion matrix\n",
      "[[  0.   0.]\n",
      " [ 12. 359.]]\n",
      "\n",
      "The model has a recall of 0.0, a precision of 0.0 and a f1 score of 0.0\n"
     ]
    }
   ],
   "source": [
    "model = KNearestNeighbors(k=10, num_classes=2)\n",
    "model.fit(X_train, y_train)\n",
    "y_hat = model.predict(X_test)\n",
    "conf_matrix = confusion_matrix(y_test, y_hat)\n",
    "recall = conf_matrix[0, 0] / (conf_matrix[0, 0] + conf_matrix[0, 1] + 10 ** -20)\n",
    "precision = conf_matrix[0, 0] / (conf_matrix[0, 0] + conf_matrix[1, 0] + 10 ** -20)\n",
    "f1_score = (2 * precision * recall) / (precision + recall + 10 ** -20)\n",
    "print(\"Confusion matrix\")\n",
    "print(conf_matrix)\n",
    "print()\n",
    "print(f\"The model has a recall of {round(recall, 4)}, a precision of {round(precision, 4)} and a f1 score of {round(f1_score, 4)}\")"
   ]
  },
  {
   "cell_type": "code",
   "execution_count": 14,
   "metadata": {},
   "outputs": [],
   "source": [
    "baseline = np.zeros_like(y_hat)\n",
    "conf_matrix = confusion_matrix(y_test, baseline)\n",
    "recall = conf_matrix[0, 0] / (conf_matrix[0, 0] + conf_matrix[0, 1] + 10 ** -20)\n",
    "precision = conf_matrix[0, 0] / (conf_matrix[0, 0] + conf_matrix[1, 0] + 10 ** -20)\n",
    "f1_score = (2 * precision * recall) / (precision + recall + 10 ** -20)"
   ]
  },
  {
   "cell_type": "code",
   "execution_count": 15,
   "metadata": {},
   "outputs": [
    {
     "name": "stdout",
     "output_type": "stream",
     "text": [
      "Confusion matrix\n",
      "[[  0.   0.]\n",
      " [ 12. 359.]]\n",
      "\n",
      "The model has a recall of 0.0, a precision of 0.0 and a f1 score of 0.0\n"
     ]
    }
   ],
   "source": [
    "print(\"Confusion matrix\")\n",
    "print(conf_matrix)\n",
    "print()\n",
    "print(f\"The model has a recall of {round(recall, 4)}, a precision of {round(precision, 4)} and a f1 score of {round(f1_score, 4)}\")"
   ]
  },
  {
   "cell_type": "markdown",
   "metadata": {},
   "source": [
    "Unser modell funktioniert genauso schlecht wie die baseline, was bedeutet dass das Modell trotz hoher Genauigkeit nicht in der Lage ist Einsen richtig zu predicten."
   ]
  },
  {
   "cell_type": "markdown",
   "metadata": {},
   "source": [
    "If your test is positive, what is the probability for a patient to be actually positive.\n",
    "Would you recommend using the test you developed? Describe what the problem is if\n",
    "there is one.\n",
    "\n",
    "Die geforderte Metrik ist die precision und diese ist in unserem Fall 0%. Den Test den wir entwickelt haben würden wir nicht empfehlen. Die Genauigkeit ist zwas sehr hoch, das Problem ist jedoch dass beim Virustesten es wichtiger ist die false negatives gering zu halten als die false positives. Wenn bei einem ein Virus erkannt wird, obwohl man keines hat."
   ]
  }
 ],
 "metadata": {
  "colab": {
   "collapsed_sections": [],
   "name": "Validation.ipynb",
   "provenance": []
  },
  "kernelspec": {
   "display_name": "Python 3",
   "language": "python",
   "name": "python3"
  },
  "language_info": {
   "codemirror_mode": {
    "name": "ipython",
    "version": 3
   },
   "file_extension": ".py",
   "mimetype": "text/x-python",
   "name": "python",
   "nbconvert_exporter": "python",
   "pygments_lexer": "ipython3",
   "version": "3.8.5"
  }
 },
 "nbformat": 4,
 "nbformat_minor": 1
}
