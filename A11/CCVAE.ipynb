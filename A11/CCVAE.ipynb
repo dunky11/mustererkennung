{
 "cells": [
  {
   "cell_type": "markdown",
   "metadata": {},
   "source": [
    "# Idee 1: The lazy mans way\n",
    "\n",
    "Trainiere 10 VAE, jeweils mit den Samples einer Klasse von MNIST. Wir haben dann 10 VAE, jeder spezialisiert auf die Generierung einer Zahl. Immer wenn wir eine Zahl generieren müssen, benutzen wir dafür den jeweiligen speizialisierten VAE."
   ]
  },
  {
   "cell_type": "markdown",
   "metadata": {},
   "source": [
    "# Idee 2: Wie auf dem Zettel vorgeschlagen mithilfe von Conditional Variational Autencodern (CVAE)"
   ]
  },
  {
   "cell_type": "code",
   "execution_count": 1,
   "metadata": {},
   "outputs": [],
   "source": [
    "import torch\n",
    "import torchvision\n",
    "import torchvision.transforms as transforms\n",
    "from torch import nn\n",
    "from tqdm import tqdm\n",
    "import matplotlib.pyplot as plt \n",
    "import numpy as np\n",
    "import multiprocessing "
   ]
  },
  {
   "cell_type": "code",
   "execution_count": 2,
   "metadata": {},
   "outputs": [
    {
     "name": "stdout",
     "output_type": "stream",
     "text": [
      "Training on gpu\n"
     ]
    }
   ],
   "source": [
    "if torch.cuda.is_available():\n",
    "    device = \"cuda\"\n",
    "    print(\"Training on gpu\")\n",
    "else:\n",
    "    device = \"cpu\"\n",
    "    print(\"Training on cpu\")"
   ]
  },
  {
   "cell_type": "code",
   "execution_count": 3,
   "metadata": {},
   "outputs": [],
   "source": [
    "class CCVAE(nn.Module):\n",
    "    \"\"\" Conditional convolutional variational autoencoder.\n",
    "    \"\"\"\n",
    "    def __init__(self, input_channels, lat_dim, device):\n",
    "        super().__init__()\n",
    "        self.conv1_ds = nn.Conv2d(input_channels, 32, kernel_size=(3, 3), stride=(2,2), padding=1)\n",
    "        self.conv2_ds = nn.Conv2d(32, 64, kernel_size=(3, 3), stride=(2, 2), padding=1)\n",
    "        self.dense_enc_mean = nn.Linear(7 * 7 * 64, lat_dim)\n",
    "        self.dense_enc_std = nn.Linear(7 * 7 *64, lat_dim)\n",
    "        self.dense_dec = nn.Linear(lat_dim, 7 * 7 * 32)\n",
    "        self.conv2_us = nn.ConvTranspose2d(32, 64, kernel_size=(3, 3), stride=(2, 2), padding=1, output_padding=1)\n",
    "        self.conv1_us = nn.ConvTranspose2d(64, 32, kernel_size=(3, 3), stride=(2, 2), padding=1, output_padding=1)\n",
    "        self.conv0_us = nn.ConvTranspose2d(32, 1, kernel_size=(3, 3), stride=(1, 1), padding=1)\n",
    "        self.lat_dim = lat_dim\n",
    "        self.device = device\n",
    "        \n",
    "    def encode(self, x):\n",
    "        x = self.conv1_ds(x)\n",
    "        x = nn.functional.relu(x)\n",
    "        x = self.conv2_ds(x)\n",
    "        x = nn.functional.relu(x)\n",
    "        x = torch.flatten(x, 1)\n",
    "        mean, std = self.dense_enc_mean(x), self.dense_enc_std(x)\n",
    "        return mean, std\n",
    "        \n",
    "    def decode(self, x):\n",
    "        x = self.dense_dec(x)\n",
    "        x = nn.functional.relu(x)\n",
    "        x = torch.reshape(x, (x.shape[0], 32, 7, 7))\n",
    "        x = self.conv2_us(x)\n",
    "        x = nn.functional.relu(x)\n",
    "        x = self.conv1_us(x)\n",
    "        x = nn.functional.relu(x)\n",
    "        x = self.conv0_us(x)\n",
    "        # trick to make sure all outputs are in range [0, 1]\n",
    "        x = torch.sigmoid(x)\n",
    "        return x\n",
    "        \n",
    "    def forward(self, x):\n",
    "        mean, std = self.encode(x)\n",
    "        latent = self.reparameterize(mean, std)\n",
    "        out = self.decode(latent)\n",
    "        return out, mean, std\n",
    "        \n",
    "    def reparameterize(self, mean, std):\n",
    "        eps = torch.randn_like(mean).to(self.device)\n",
    "        return eps * std + mean\n",
    "\n",
    "    def generate(self, num_samples):\n",
    "        with torch.no_grad():\n",
    "            eps = torch.randn((num_samples, self.lat_dim)).to(self.device)\n",
    "            return self.decode(eps)\n",
    "        \n",
    "def kl_divergence(mean, std):\n",
    "    variance = std.pow(2)\n",
    "    inner = mean.pow(2) + variance - 1 - torch.log(variance)\n",
    "    return (1/2) * torch.mean(inner)\n",
    "\n",
    "trainset = torchvision.datasets.MNIST(root='./data', train=True,\n",
    "                                        download=True, transform=transforms.ToTensor())\n",
    "\n",
    "testset = torchvision.datasets.MNIST(root='./data', train=False,\n",
    "                                       download=True, transform=transforms.ToTensor())\n",
    "\n",
    "dataset = torch.utils.data.ConcatDataset((trainset, testset))\n",
    "ds_loader = torch.utils.data.DataLoader(dataset, batch_size=32,\n",
    "                                         shuffle=True, num_workers=multiprocessing.cpu_count())"
   ]
  },
  {
   "cell_type": "code",
   "execution_count": 4,
   "metadata": {},
   "outputs": [],
   "source": [
    "generator = CCVAE(1, 2, device).to(device)"
   ]
  },
  {
   "cell_type": "code",
   "execution_count": 5,
   "metadata": {},
   "outputs": [
    {
     "name": "stdout",
     "output_type": "stream",
     "text": [
      "Epoch 1/10 -- rec_loss: 0.2836520696634348, kl_loss: 0.015077550503488297\n",
      "Epoch 2/10 -- rec_loss: 0.23730145741451594, kl_loss: 0.015562549439025616\n",
      "Epoch 3/10 -- rec_loss: 0.2309610977346653, kl_loss: 0.015417494184134947\n",
      "Epoch 4/10 -- rec_loss: 0.22767143207559637, kl_loss: 0.01565675882595358\n",
      "Epoch 5/10 -- rec_loss: 0.22559320871501998, kl_loss: 0.016155526031768955\n",
      "Epoch 6/10 -- rec_loss: 0.22385917060499436, kl_loss: 0.01658527355324443\n",
      "Epoch 7/10 -- rec_loss: 0.222537434951043, kl_loss: 0.016994987773220352\n",
      "Epoch 8/10 -- rec_loss: 0.22137656985650986, kl_loss: 0.01729656579960444\n",
      "Epoch 9/10 -- rec_loss: 0.22057742189609156, kl_loss: 0.01761220477970906\n",
      "Epoch 10/10 -- rec_loss: 0.21983449094991797, kl_loss: 0.017864949782455588\n"
     ]
    }
   ],
   "source": [
    "num_epochs = 10\n",
    "bce_loss = torch.nn.BCELoss()\n",
    "optimizer = torch.optim.Adam(generator.parameters(), lr=1e-4)\n",
    "\n",
    "rec_losses = []\n",
    "kl_losses = []\n",
    "generator.train()\n",
    "for epoch in range(1, num_epochs + 1):\n",
    "    running_rec_loss = 0\n",
    "    running_kl_loss = 0\n",
    "    iterations = 0\n",
    "    for x, _ in ds_loader:\n",
    "        x = x.to(device)\n",
    "        optimizer.zero_grad()\n",
    "        reconstruction, mean, std = generator(x)\n",
    "        reconstruction = reconstruction.view(x.shape[0], -1)\n",
    "        x = x.view(x.shape[0], -1)\n",
    "        reconstruction_loss = bce_loss(reconstruction, x)\n",
    "        kl_loss = 0.01 * kl_divergence(mean, std)\n",
    "        loss = reconstruction_loss + kl_loss\n",
    "        loss.backward()\n",
    "        optimizer.step()\n",
    "        running_rec_loss += loss.item()\n",
    "        running_kl_loss += kl_loss.item()\n",
    "        iterations += 1\n",
    "        \n",
    "    rec_loss = running_rec_loss / iterations\n",
    "    kl_loss = running_kl_loss / iterations\n",
    "    rec_losses.append(rec_loss)\n",
    "    kl_losses.append(kl_loss)\n",
    "    print(f\"Epoch {epoch}/{num_epochs} -- rec_loss: {rec_loss}, kl_loss: {kl_loss}\")"
   ]
  },
  {
   "cell_type": "code",
   "execution_count": 6,
   "metadata": {},
   "outputs": [
    {
     "data": {
      "text/plain": [
       "[]"
      ]
     },
     "execution_count": 6,
     "metadata": {},
     "output_type": "execute_result"
    },
    {
     "data": {
      "image/png": "[encoded data removed]",
      "text/plain": [
       "<Figure size 432x288 with 1 Axes>"
      ]
     },
     "metadata": {
      "needs_background": "light"
     },
     "output_type": "display_data"
    }
   ],
   "source": [
    "plt.plot(list(range(1, len(rec_losses)  + 1)), rec_losses, label=\"rec loss\")\n",
    "plt.plot(list(range(1, len(kl_losses)  + 1)), kl_losses, label=\"kl loss\")\n",
    "plt.xlabel(\"epoch\")\n",
    "plt.ylabel(\"loss\")\n",
    "plt.legend()\n",
    "plt.plot()"
   ]
  },
  {
   "cell_type": "code",
   "execution_count": 7,
   "metadata": {},
   "outputs": [
    {
     "data": {
      "image/png": "[encoded data removed]",
      "text/plain": [
       "<Figure size 432x288 with 9 Axes>"
      ]
     },
     "metadata": {
      "needs_background": "light"
     },
     "output_type": "display_data"
    }
   ],
   "source": [
    "generator.eval()\n",
    "samples = generator.generate(10).cpu().numpy()\n",
    "\n",
    "fig, ax = plt.subplots(nrows=3, ncols=3)\n",
    "\n",
    "for row in range(ax.shape[0]):\n",
    "    for col in range(ax.shape[1]):\n",
    "        img = samples[row + col * 3]\n",
    "        ax[row][col].imshow(img.reshape((28, 28)), cmap=\"gray\")"
   ]
  },
  {
   "cell_type": "code",
   "execution_count": 11,
   "metadata": {},
   "outputs": [],
   "source": [
    "class CAE(nn.Module):\n",
    "    \"\"\" Convolutional autoencoder, which will be used for denoising\n",
    "    \"\"\"\n",
    "    def __init__(self, input_channels, lat_dim, device):\n",
    "        super().__init__()\n",
    "        self.conv1_ds = nn.Conv2d(input_channels, 32, kernel_size=(3, 3), stride=(2,2), padding=1)\n",
    "        self.conv2_ds = nn.Conv2d(32, 64, kernel_size=(3, 3), stride=(2, 2), padding=1)\n",
    "        self.dense_enc = nn.Linear(7 * 7 * 64, lat_dim)\n",
    "        self.dense_dec = nn.Linear(lat_dim, 7 * 7 * 32)\n",
    "        self.conv2_us = nn.ConvTranspose2d(32, 64, kernel_size=(3, 3), stride=(2, 2), padding=1, output_padding=1)\n",
    "        self.conv1_us = nn.ConvTranspose2d(64, 32, kernel_size=(3, 3), stride=(2, 2), padding=1, output_padding=1)\n",
    "        self.conv0_us = nn.ConvTranspose2d(32, 1, kernel_size=(3, 3), stride=(1, 1), padding=1)\n",
    "        self.lat_dim = lat_dim\n",
    "        self.device = device\n",
    "        \n",
    "    def encode(self, x):\n",
    "        x = self.conv1_ds(x)\n",
    "        x = nn.functional.relu(x)\n",
    "        x = self.conv2_ds(x)\n",
    "        x = nn.functional.relu(x)\n",
    "        x = torch.flatten(x, 1)\n",
    "        x = self.dense_enc(x)\n",
    "        return x\n",
    "        \n",
    "    def decode(self, x):\n",
    "        x = self.dense_dec(x)\n",
    "        x = nn.functional.relu(x)\n",
    "        x = torch.reshape(x, (x.shape[0], 32, 7, 7))\n",
    "        x = self.conv2_us(x)\n",
    "        x = nn.functional.relu(x)\n",
    "        x = self.conv1_us(x)\n",
    "        x = nn.functional.relu(x)\n",
    "        x = self.conv0_us(x)\n",
    "        # trick to make sure all outputs are in range [0, 1]\n",
    "        x = torch.sigmoid(x)\n",
    "        return x\n",
    "        \n",
    "    def forward(self, x):\n",
    "        x = self.encode(x)\n",
    "        x = self.decode(x)\n",
    "        return x"
   ]
  },
  {
   "cell_type": "code",
   "execution_count": 19,
   "metadata": {},
   "outputs": [
    {
     "name": "stdout",
     "output_type": "stream",
     "text": [
      "Epoch 1/5 -- loss: 0.20555937465219\n",
      "Epoch 2/5 -- loss: 0.1432095622197747\n",
      "Epoch 3/5 -- loss: 0.13460246168785273\n",
      "Epoch 4/5 -- loss: 0.1295208105173854\n",
      "Epoch 5/5 -- loss: 0.12586841527951484\n"
     ]
    }
   ],
   "source": [
    "num_epochs = 5\n",
    "bce_loss = torch.nn.BCELoss()\n",
    "denoiser = CAE(1, 10, device).to(device)\n",
    "optimizer = torch.optim.Adam(denoiser.parameters(), lr=1e-4)\n",
    "\n",
    "losses = []\n",
    "denoiser.train()\n",
    "for epoch in range(1, num_epochs + 1):\n",
    "    running_loss = 0\n",
    "    iterations = 0\n",
    "    for x, _ in ds_loader:\n",
    "        x = x.to(device)\n",
    "        noise = torch.rand_like(x).to(device)\n",
    "        x_noisy = x.to(device) + 0.4 * noise\n",
    "        optimizer.zero_grad()\n",
    "        reconstruction = denoiser(x_noisy)\n",
    "        reconstruction = reconstruction.view(x.shape[0], -1)\n",
    "        x = x.view(x.shape[0], -1)\n",
    "        loss = bce_loss(reconstruction, x)\n",
    "        loss.backward()\n",
    "        optimizer.step()\n",
    "        running_loss += loss.item()\n",
    "        iterations += 1\n",
    "        \n",
    "    loss = running_loss / iterations\n",
    "    losses.append(rec_loss)\n",
    "    print(f\"Epoch {epoch}/{num_epochs} -- loss: {loss}\")"
   ]
  },
  {
   "cell_type": "code",
   "execution_count": 20,
   "metadata": {},
   "outputs": [
    {
     "ename": "TypeError",
     "evalue": "expected np.ndarray (got Tensor)",
     "output_type": "error",
     "traceback": [
      "\u001b[0;31m---------------------------------------------------------------------------\u001b[0m",
      "\u001b[0;31mTypeError\u001b[0m                                 Traceback (most recent call last)",
      "\u001b[0;32m<ipython-input-20-ec3eff6e9061>\u001b[0m in \u001b[0;36m<module>\u001b[0;34m\u001b[0m\n\u001b[0;32m----> 1\u001b[0;31m \u001b[0msamples\u001b[0m \u001b[0;34m=\u001b[0m \u001b[0mtorch\u001b[0m\u001b[0;34m.\u001b[0m\u001b[0mfrom_numpy\u001b[0m\u001b[0;34m(\u001b[0m\u001b[0msamples\u001b[0m\u001b[0;34m)\u001b[0m\u001b[0;34m.\u001b[0m\u001b[0mto\u001b[0m\u001b[0;34m(\u001b[0m\u001b[0mdevice\u001b[0m\u001b[0;34m)\u001b[0m\u001b[0;34m\u001b[0m\u001b[0;34m\u001b[0m\u001b[0m\n\u001b[0m",
      "\u001b[0;31mTypeError\u001b[0m: expected np.ndarray (got Tensor)"
     ]
    }
   ],
   "source": [
    "samples = torch.from_numpy(samples).to(device)"
   ]
  },
  {
   "cell_type": "code",
   "execution_count": 21,
   "metadata": {},
   "outputs": [],
   "source": [
    "denoiser.eval()\n",
    "samples_denoised = denoiser(samples).detach().cpu().numpy()"
   ]
  },
  {
   "cell_type": "code",
   "execution_count": 22,
   "metadata": {},
   "outputs": [
    {
     "data": {
      "image/png": "[encoded data removed]",
      "text/plain": [
       "<Figure size 432x288 with 9 Axes>"
      ]
     },
     "metadata": {
      "needs_background": "light"
     },
     "output_type": "display_data"
    }
   ],
   "source": [
    "fig, ax = plt.subplots(nrows=3, ncols=3)\n",
    "\n",
    "for row in range(ax.shape[0]):\n",
    "    for col in range(ax.shape[1]):\n",
    "        img = samples_denoised[row + col * 3]\n",
    "        ax[row][col].imshow(img.reshape((28, 28)), cmap=\"gray\")"
   ]
  },
  {
   "cell_type": "code",
   "execution_count": null,
   "metadata": {},
   "outputs": [],
   "source": [
    "# HERE https://github.com/rasbt/deeplearning-models/blob/master/pytorch_ipynb/autoencoder/ae-cvae_no-out-concat.ipynb"
   ]
  }
 ],
 "metadata": {
  "kernelspec": {
   "display_name": "Python 3",
   "language": "python",
   "name": "python3"
  },
  "language_info": {
   "codemirror_mode": {
    "name": "ipython",
    "version": 3
   },
   "file_extension": ".py",
   "mimetype": "text/x-python",
   "name": "python",
   "nbconvert_exporter": "python",
   "pygments_lexer": "ipython3",
   "version": "3.8.5"
  }
 },
 "nbformat": 4,
 "nbformat_minor": 4
}
