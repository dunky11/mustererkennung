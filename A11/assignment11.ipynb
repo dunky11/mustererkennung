{
 "cells": [
  {
   "cell_type": "code",
   "execution_count": 1,
   "metadata": {},
   "outputs": [],
   "source": [
    "import torch\n",
    "import torchvision\n",
    "import numpy as np\n",
    "from matplotlib import pyplot as plt\n",
    "from torch import nn"
   ]
  },
  {
   "cell_type": "code",
   "execution_count": 2,
   "metadata": {},
   "outputs": [
    {
     "name": "stdout",
     "output_type": "stream",
     "text": [
      "Training on GPU\n"
     ]
    }
   ],
   "source": [
    "if torch.cuda.is_available():\n",
    "    device = \"cuda\"\n",
    "    print(\"Training on GPU\")\n",
    "else:\n",
    "    device = \"cpu\"\n",
    "    print(\"Training on CPU\")"
   ]
  },
  {
   "cell_type": "code",
   "execution_count": 3,
   "metadata": {},
   "outputs": [],
   "source": [
    "dataset = torch.utils.data.ConcatDataset([\n",
    "    torchvision.datasets.MNIST('./files', train=False, download=True,\n",
    "                             transform=torchvision.transforms.ToTensor()),\n",
    "    torchvision.datasets.MNIST('./files', train=True, download=True, transform=torchvision.transforms.ToTensor())\n",
    "                            ])\n",
    "                               \n",
    "data_loader = torch.utils.data.DataLoader(dataset, batch_size=128, shuffle=True)"
   ]
  },
  {
   "cell_type": "code",
   "execution_count": 4,
   "metadata": {},
   "outputs": [],
   "source": [
    "class AutoEncoder(nn.Module):\n",
    "    def __init__(self, input_channels, laten_dim):\n",
    "        super().__init__()\n",
    "        self.conv1 = nn.Conv2d(input_channels, 16, kernel_size=(3, 3), stride=1, padding=1)\n",
    "        self.conv2 = nn.Conv2d(16, 32, kernel_size=(3, 3), stride=1, padding=1)\n",
    "        self.maxpool = nn.MaxPool2d(kernel_size=(2, 2), stride=2, return_indices=True, padding=0)\n",
    "        self.enc_dense = nn.Linear(7 * 7 * 32, laten_dim)\n",
    "        self.dec_dense = nn.Linear(laten_dim, 7 * 7 * 32)\n",
    "        self.unpool = nn.MaxUnpool2d(kernel_size=(2, 2), stride=2, padding=0)\n",
    "        self.conv3 = nn.Conv2d(32, 16, kernel_size=(3, 3), stride=1, padding=1)\n",
    "        self.conv4 = nn.Conv2d(16, input_channels, kernel_size=(3, 3), stride=1, padding=1)\n",
    "        \n",
    "    def encoder(self, x):\n",
    "        x = self.conv1(x)\n",
    "        x = nn.functional.relu(x)\n",
    "        x, indices = self.maxpool(x)\n",
    "        self.up1_indices = indices \n",
    "        x = self.conv2(x)\n",
    "        x = nn.functional.relu(x)\n",
    "        x, indices = self.maxpool(x)\n",
    "        self.up2_indices = indices\n",
    "        x = x.view((x.shape[0], 7 * 7 * 32))\n",
    "        x = self.enc_dense(x)\n",
    "        return x\n",
    "    \n",
    "        \n",
    "    def decoder(self, x):\n",
    "        x = self.dec_dense(x)\n",
    "        x = x.view((x.shape[0], 32, 7, 7))\n",
    "        x = self.unpool(x, self.up2_indices)\n",
    "        x = self.conv3(x)\n",
    "        x = nn.functional.relu(x)\n",
    "        x = self.unpool(x, self.up1_indices)\n",
    "        x = self.conv4(x)\n",
    "        x = torch.sigmoid(x)\n",
    "        return x\n",
    "        \n",
    "    def forward(self, x):\n",
    "        latent = self.encoder(x)\n",
    "        reconstruction = self.decoder(latent)\n",
    "        return reconstruction"
   ]
  },
  {
   "cell_type": "code",
   "execution_count": 5,
   "metadata": {},
   "outputs": [
    {
     "name": "stdout",
     "output_type": "stream",
     "text": [
      "Epoch 1/10 ==> loss: 0.13973209128410333\n",
      "Epoch 2/10 ==> loss: 0.07870449947101324\n",
      "Epoch 3/10 ==> loss: 0.07403211570744976\n",
      "Epoch 4/10 ==> loss: 0.07214726917649972\n",
      "Epoch 5/10 ==> loss: 0.0710647515612067\n",
      "Epoch 6/10 ==> loss: 0.07021252161242626\n",
      "Epoch 7/10 ==> loss: 0.06961286928797553\n",
      "Epoch 8/10 ==> loss: 0.06913590165607672\n",
      "Epoch 9/10 ==> loss: 0.06881086872907617\n",
      "Epoch 10/10 ==> loss: 0.06847049073883123\n"
     ]
    }
   ],
   "source": [
    "bce_loss = nn.BCELoss()\n",
    "model = AutoEncoder(1, 5).to(device)\n",
    "optimizer = torch.optim.Adam(model.parameters(), lr=0.001)\n",
    "\n",
    "num_epochs = 10\n",
    "\n",
    "losses = []\n",
    "\n",
    "model.train()\n",
    "for epoch in range(1, num_epochs + 1):\n",
    "    running_loss = 0\n",
    "    iterations = 0\n",
    "    for x, _ in data_loader:\n",
    "        x = x.to(device)\n",
    "        optimizer.zero_grad()\n",
    "        reconstruction = model(x)\n",
    "        loss = bce_loss(reconstruction, x)\n",
    "        loss.backward()\n",
    "        optimizer.step()\n",
    "        running_loss += loss.item()\n",
    "        iterations += 1\n",
    "        \n",
    "    cur_loss = running_loss / iterations\n",
    "    losses.append(cur_loss)\n",
    "    print(f\"Epoch {epoch}/{num_epochs} ==> loss: {cur_loss}\")"
   ]
  },
  {
   "cell_type": "code",
   "execution_count": 6,
   "metadata": {},
   "outputs": [
    {
     "data": {
      "image/png": "[encoded data removed]",
      "text/plain": [
       "<Figure size 432x288 with 1 Axes>"
      ]
     },
     "metadata": {
      "needs_background": "light"
     },
     "output_type": "display_data"
    }
   ],
   "source": [
    "plt.plot(list(range(1, num_epochs + 1)), losses)\n",
    "plt.xlabel(\"Epoch\")\n",
    "plt.ylabel(\"Loss\")\n",
    "plt.show()"
   ]
  },
  {
   "cell_type": "code",
   "execution_count": 7,
   "metadata": {},
   "outputs": [],
   "source": [
    "model.eval()\n",
    "for x, _ in data_loader:\n",
    "    with torch.no_grad():\n",
    "        x = x.to(device)\n",
    "        before = x\n",
    "        after = model(x)\n",
    "        break"
   ]
  },
  {
   "cell_type": "code",
   "execution_count": 8,
   "metadata": {},
   "outputs": [],
   "source": [
    "before = before.cpu().numpy()\n",
    "after = after.cpu().numpy()"
   ]
  },
  {
   "cell_type": "code",
   "execution_count": 12,
   "metadata": {},
   "outputs": [
    {
     "data": {
      "image/png": "[encoded data removed]",
      "text/plain": [
       "<Figure size 720x720 with 10 Axes>"
      ]
     },
     "metadata": {
      "needs_background": "light"
     },
     "output_type": "display_data"
    }
   ],
   "source": [
    "fig, ax = plt.subplots(nrows=2, ncols=5, figsize=(10, 10))\n",
    "for experiment in range(2):\n",
    "    for col in range(ax.shape[1]):\n",
    "        ax[experiment][col].axis('off')\n",
    "        if experiment == 0:\n",
    "            ax[experiment][col].imshow(before[col].reshape(28, 28))\n",
    "            ax[experiment][col].set_title(f\"Original: {experiment}\")\n",
    "        else:\n",
    "            ax[experiment][col].imshow(after[col].reshape(28, 28))\n",
    "            ax[experiment][col].set_title(f\"Reconstructed: {experiment}\")"
   ]
  },
  {
   "cell_type": "code",
   "execution_count": 67,
   "metadata": {},
   "outputs": [],
   "source": [
    "class  VariationalAutoEncoder(nn.Module):\n",
    "    def __init__(self, input_channels, latent_dim, device):\n",
    "        super().__init__()\n",
    "        self.conv1 = nn.Conv2d(input_channels, 16, kernel_size=(3, 3), stride=2, padding=1)\n",
    "        self.conv2 = nn.Conv2d(16, 32, kernel_size=(3, 3), stride=2, padding=1)\n",
    "        self.enc_mean = nn.Linear(7 * 7 * 32, latent_dim)\n",
    "        self.enc_std = nn.Linear(7 * 7 * 32, latent_dim)\n",
    "        self.dec_dense = nn.Linear(latent_dim, 7 * 7 * 32)\n",
    "        self.deconv1 = nn.ConvTranspose2d(32, 16, kernel_size=(3, 3), stride=2, padding=1, output_padding=1)\n",
    "        self.deconv2 = nn.ConvTranspose2d(16, input_channels, kernel_size=(3, 3), stride=2, padding=1, output_padding=1)\n",
    "        self.latent_dim = latent_dim\n",
    "        self.device = device\n",
    "        \n",
    "    def encoder(self, x):\n",
    "        x = self.conv1(x)\n",
    "        x = nn.functional.relu(x)\n",
    "        x = self.conv2(x)\n",
    "        x = nn.functional.relu(x)\n",
    "        x = x.view((x.shape[0], 7 * 7 * 32))\n",
    "        mean = self.enc_mean(x)\n",
    "        std = self.enc_std(x)\n",
    "        return mean, std\n",
    "    \n",
    "        \n",
    "    def decoder(self, x):\n",
    "        x = self.dec_dense(x)\n",
    "        x = nn.functional.relu(x)\n",
    "        x = x.view((x.shape[0], 32, 7, 7))\n",
    "        x = self.deconv1(x)\n",
    "        x = nn.functional.relu(x)\n",
    "        x = self.deconv2(x)\n",
    "        x = torch.sigmoid(x)\n",
    "        return x\n",
    "    \n",
    "    def reparameterise(self, mean, std):\n",
    "        eps = torch.normal(torch.zeros_like(mean), torch.ones_like(std))\n",
    "        return eps * std + mean\n",
    "        \n",
    "    def forward(self, x):\n",
    "        mean, std = self.encoder(x)\n",
    "        latent = self.reparameterise(mean, std)\n",
    "        reconstruction = self.decoder(latent)\n",
    "        return reconstruction, mean, std\n",
    "    \n",
    "    def generate(self, num_samples):\n",
    "        with torch.no_grad():\n",
    "            eps = torch.normal(torch.zeros((num_samples, self.latent_dim)), torch.ones((num_samples, self.latent_dim))).to(self.device)\n",
    "            return self.decoder(eps)\n",
    "\n",
    "def kl_divergence(mean, std):\n",
    "    variance = std * std\n",
    "    return torch.sum(mean * mean + variance - 1 - torch.log(variance))\n",
    "    "
   ]
  },
  {
   "cell_type": "code",
   "execution_count": 69,
   "metadata": {},
   "outputs": [
    {
     "name": "stdout",
     "output_type": "stream",
     "text": [
      "Epoch 1/5 ==> kl_loss:1773.9181350066413, reconstruction_loss: 26397.438835409048, loss: 18815.505859375\n",
      "Epoch 2/5 ==> kl_loss:2087.0646807515427, reconstruction_loss: 17719.82181215722, loss: 17302.671875\n",
      "Epoch 3/5 ==> kl_loss:2179.2170698036875, reconstruction_loss: 16656.857636111745, loss: 16901.8046875\n",
      "Epoch 4/5 ==> kl_loss:2226.7389739488117, reconstruction_loss: 16212.441247357747, loss: 16484.38671875\n",
      "Epoch 5/5 ==> kl_loss:2259.0614618444356, reconstruction_loss: 15949.807151222578, loss: 15366.302734375\n"
     ]
    }
   ],
   "source": [
    "bce_loss = nn.BCELoss(reduction='sum')\n",
    "model = VariationalAutoEncoder(1, 5, device).to(device)\n",
    "optimizer = torch.optim.Adam(model.parameters(), lr=0.001)\n",
    "\n",
    "num_epochs = 5\n",
    "\n",
    "losses = []\n",
    "kl_losses = []\n",
    "reconstruction_losses = []\n",
    "\n",
    "model.train()\n",
    "for epoch in range(1, num_epochs + 1):\n",
    "    running_reconstruction_loss = 0\n",
    "    running_kl_loss = 0\n",
    "    iterations = 0\n",
    "    for x, _ in data_loader:\n",
    "        x = x.to(device)\n",
    "        optimizer.zero_grad()\n",
    "        reconstruction, mean, std = model(x)\n",
    "        kl_loss = kl_divergence(mean, std)\n",
    "        reconstruction_loss = bce_loss(reconstruction, x)\n",
    "        loss = reconstruction_loss + kl_loss\n",
    "        loss.backward()\n",
    "        optimizer.step()\n",
    "        running_reconstruction_loss += reconstruction_loss.item()\n",
    "        running_kl_loss += kl_loss.item()\n",
    "        iterations += 1\n",
    "        \n",
    "    kl_loss = running_kl_loss / iterations\n",
    "    reconsruction_loss = running_reconstruction_loss / iterations\n",
    "    cur_loss = kl_loss + reconstruction_loss\n",
    "    kl_losses.append(kl_loss)\n",
    "    reconstruction_losses.append(reconsruction_loss)\n",
    "    losses.append(cur_loss)\n",
    "    print(f\"Epoch {epoch}/{num_epochs} ==> kl_loss:{kl_loss}, reconstruction_loss: {reconsruction_loss}, loss: {cur_loss}\")"
   ]
  },
  {
   "cell_type": "code",
   "execution_count": 75,
   "metadata": {},
   "outputs": [],
   "source": [
    "model.eval()\n",
    "samples = model.generate(128)"
   ]
  },
  {
   "cell_type": "code",
   "execution_count": 76,
   "metadata": {},
   "outputs": [
    {
     "data": {
      "image/png": "[encoded data removed]",
      "text/plain": [
       "<Figure size 432x288 with 10 Axes>"
      ]
     },
     "metadata": {
      "needs_background": "light"
     },
     "output_type": "display_data"
    }
   ],
   "source": [
    "samples = samples.cpu().numpy()\n",
    "fig, ax = plt.subplots(nrows=1, ncols=10)\n",
    "for col in range(ax.shape[0]):\n",
    "    ax[col].imshow(samples[col].reshape((28, 28)))"
   ]
  },
  {
   "cell_type": "code",
   "execution_count": null,
   "metadata": {},
   "outputs": [],
   "source": []
  }
 ],
 "metadata": {
  "kernelspec": {
   "display_name": "Python 3",
   "language": "python",
   "name": "python3"
  },
  "language_info": {
   "codemirror_mode": {
    "name": "ipython",
    "version": 3
   },
   "file_extension": ".py",
   "mimetype": "text/x-python",
   "name": "python",
   "nbconvert_exporter": "python",
   "pygments_lexer": "ipython3",
   "version": "3.8.5"
  }
 },
 "nbformat": 4,
 "nbformat_minor": 4
}
