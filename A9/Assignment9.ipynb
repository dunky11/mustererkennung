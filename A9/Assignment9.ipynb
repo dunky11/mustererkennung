{
 "cells": [
  {
   "cell_type": "markdown",
   "metadata": {
    "id": "Zo9GWxKgTN1h"
   },
   "source": [
    "# Mustererkennung/Machine Learning - Assignment 9"
   ]
  },
  {
   "cell_type": "markdown",
   "metadata": {
    "id": "Ax8ea49_bkdb"
   },
   "source": [
    "### Load the spam dataset:"
   ]
  },
  {
   "cell_type": "code",
   "execution_count": 1,
   "metadata": {
    "ExecuteTime": {
     "end_time": "2018-11-29T11:28:48.347720Z",
     "start_time": "2018-11-29T11:28:47.572823Z"
    },
    "id": "V7XaSv5wTN1i"
   },
   "outputs": [],
   "source": [
    "import numpy as np\n",
    "import pandas as pd\n",
    "from matplotlib import pyplot as plt\n",
    "from sklearn.model_selection import train_test_split\n",
    "from sklearn.metrics import confusion_matrix\n",
    "import random\n",
    "from tqdm import tqdm"
   ]
  },
  {
   "cell_type": "code",
   "execution_count": 2,
   "metadata": {
    "ExecuteTime": {
     "end_time": "2018-11-29T11:28:48.406520Z",
     "start_time": "2018-11-29T11:28:48.349530Z"
    },
    "id": "sT2Hk2k-TN1i"
   },
   "outputs": [],
   "source": [
    "path_to_train = 'zip.train'\n",
    "path_to_test = 'zip.test'\n",
    "training_data = np.array(pd.read_csv(path_to_train, sep=' ', header=None))\n",
    "test_data = np.array(pd.read_csv(path_to_test, sep =' ',header=None))\n",
    "\n",
    "X_train, y_train = training_data[:,1:-1], training_data[:,0]\n",
    "X_test, y_test = test_data[:,1:], test_data[:,0]"
   ]
  },
  {
   "cell_type": "code",
   "execution_count": 3,
   "metadata": {},
   "outputs": [],
   "source": [
    "def standardize(x):\n",
    "    return (x - np.mean(x, axis=0)) / np.std(x, axis=0)\n",
    "\n",
    "def to_one_hot(y, num_classes):\n",
    "    return np.eye(num_classes)[y.astype(np.uint)]\n",
    "\n",
    "def softmax(x):\n",
    "    exp = np.exp(x)\n",
    "    summed = np.sum(exp, axis=1, keepdims=True)\n",
    "    return exp / summed\n",
    "\n",
    "def accuracy(y_true, y_pred):\n",
    "    \"\"\"\n",
    "    y_true should be a one hot encoded vector.\n",
    "    \"\"\"\n",
    "    y_true = np.argmax(y_true, axis=1)\n",
    "    y_pred = np.argmax(y_pred, axis=1)\n",
    "    return np.mean(y_true == y_pred)\n",
    "\n",
    "class Sigmoid():\n",
    "    def forward(self, x):\n",
    "        z = 1 / (1 + np.exp(-x)) \n",
    "        self.z = z\n",
    "        return z\n",
    "    \n",
    "    def backward(self, right_dev):\n",
    "        return self.z * (1.0 - self.z) * right_dev.T\n",
    "    \n",
    "class CategoricalCrossEntropy():\n",
    "    \"\"\"\n",
    "    Softmax + CategoricalCrossentropy\n",
    "    \"\"\"\n",
    "    def forward(self, x, y):\n",
    "        y_pred = softmax(x)\n",
    "        loss = (1.0 / x.shape[0]) * -np.sum(np.log(np.max(y_pred * y, axis=1)))\n",
    "        self.y_pred = y_pred\n",
    "        self.y_true = y\n",
    "        return loss\n",
    "        \n",
    "    def backward(self, right_dev):\n",
    "        return (self.y_pred - self.y_true) * right_dev\n",
    "    \n",
    "class DenseLayer():\n",
    "    def __init__(self, input_dims, output_dims, activation=None):\n",
    "        self.w = np.random.normal(size=(input_dims, output_dims))\n",
    "        self.b = np.ones((1, output_dims))\n",
    "        self.activation = activation\n",
    "        \n",
    "    def forward(self, x):\n",
    "        self.x = x\n",
    "        x = x @ self.w + self.b\n",
    "        if self.activation:\n",
    "            x = self.activation.forward(x)\n",
    "        return x\n",
    "    \n",
    "    def backward(self, right_dev):\n",
    "        if self.activation:\n",
    "            act_grad = self.activation.backward(right_dev)\n",
    "        else:\n",
    "            act_grad = right_dev\n",
    "        self.grad_w = self.x.T @ act_grad\n",
    "        self.grad_b = np.sum(act_grad, axis=0, keepdims=True)\n",
    "        return self.w @ act_grad.T\n",
    "    \n",
    "    def apply_gradients(self, lr):\n",
    "        self.w = self.w - lr * self.grad_w\n",
    "        self.b = self.b - lr * self.grad_b\n",
    "    \n",
    "class NeuralNetwork():\n",
    "    def __init__(self, layers, loss):\n",
    "        self.layers = layers\n",
    "        self.loss = loss\n",
    "        \n",
    "    def forward(self, x):\n",
    "        for layer in self.layers:\n",
    "            x = layer.forward(x)\n",
    "        return x\n",
    "    \n",
    "    def predict(self, x):\n",
    "        return softmax(self.forward(x))\n",
    "    \n",
    "    def fit(self, x, y, epochs, lr, x_val = None, y_val = None):\n",
    "        losses = []\n",
    "        train_accs = []\n",
    "        val_accs = []\n",
    "        \n",
    "        for epoch in tqdm(range(1, epochs + 1)):\n",
    "            y_pred = self.forward(x)\n",
    "            loss = self.loss.forward(y_pred, y)\n",
    "            right_dev = 1.0\n",
    "            right_dev = self.loss.backward(right_dev)\n",
    "            for layer in self.layers[::-1]:\n",
    "                right_dev = layer.backward(right_dev)\n",
    "            for layer in self.layers:\n",
    "                layer.apply_gradients(lr)\n",
    "            \n",
    "            if isinstance(x_val, np.ndarray) and isinstance(y_val, np.ndarray):\n",
    "                y_pred_val = self.predict(x_val)\n",
    "                val_accs.append(accuracy(y_val, y_pred_val))\n",
    "            \n",
    "            train_accs.append(accuracy(y, softmax(y_pred)))\n",
    "            losses.append(loss)\n",
    "                   \n",
    "        return losses, train_accs, val_accs"
   ]
  },
  {
   "cell_type": "code",
   "execution_count": 4,
   "metadata": {},
   "outputs": [],
   "source": [
    "num_classes = len(np.unique(y_train))\n",
    "y_train, y_test = to_one_hot(y_train, num_classes), to_one_hot(y_test, num_classes)\n",
    "X_train, X_test = standardize(X_train), standardize(X_test) "
   ]
  },
  {
   "cell_type": "code",
   "execution_count": 5,
   "metadata": {},
   "outputs": [
    {
     "name": "stderr",
     "output_type": "stream",
     "text": [
      "  0%|          | 3/1000 [00:00<00:45, 22.15it/s]"
     ]
    },
    {
     "name": "stdout",
     "output_type": "stream",
     "text": [
      "[0 0 0 ... 0 0 0]\n"
     ]
    },
    {
     "name": "stderr",
     "output_type": "stream",
     "text": [
      "100%|██████████| 1000/1000 [00:39<00:00, 25.51it/s]"
     ]
    },
    {
     "name": "stdout",
     "output_type": "stream",
     "text": [
      "[9 6 3 ... 4 0 1]\n"
     ]
    },
    {
     "name": "stderr",
     "output_type": "stream",
     "text": [
      "\n"
     ]
    }
   ],
   "source": [
    "layers = [\n",
    "    DenseLayer(X_train.shape[1], 30, activation=Sigmoid()),\n",
    "    DenseLayer(30, 30, activation=Sigmoid()),\n",
    "    DenseLayer(30, 30, activation=Sigmoid()),\n",
    "    DenseLayer(30, num_classes)\n",
    "]\n",
    "\n",
    "clf = NeuralNetwork(layers, CategoricalCrossEntropy())\n",
    "\n",
    "y_pred = clf.predict(X_test)\n",
    "print(np.argmax(y_pred, axis=1))\n",
    "\n",
    "losses, train_accs, val_accs = clf.fit(X_train, y_train, epochs=1000, lr=0.00005, x_val=X_test, y_val=y_test)\n",
    "\n",
    "y_pred = clf.predict(X_test)\n",
    "print(np.argmax(y_pred, axis=1))"
   ]
  },
  {
   "cell_type": "code",
   "execution_count": 10,
   "metadata": {},
   "outputs": [
    {
     "data": {
      "image/png": "[encoded data removed]",
      "text/plain": [
       "<Figure size 432x288 with 1 Axes>"
      ]
     },
     "metadata": {
      "needs_background": "light"
     },
     "output_type": "display_data"
    }
   ],
   "source": [
    "plt.plot(list(range(len(losses))), losses)\n",
    "plt.xlabel(\"epoch\")\n",
    "plt.ylabel(\"training loss\")\n",
    "plt.show()"
   ]
  },
  {
   "cell_type": "code",
   "execution_count": 11,
   "metadata": {},
   "outputs": [
    {
     "data": {
      "image/png": "[encoded data removed]",
      "text/plain": [
       "<Figure size 432x288 with 1 Axes>"
      ]
     },
     "metadata": {
      "needs_background": "light"
     },
     "output_type": "display_data"
    }
   ],
   "source": [
    "plt.plot(list(range(len(train_accs))), train_accs, label=\"training set\")\n",
    "plt.plot(list(range(len(val_accs))), val_accs, label=\"validation set\")\n",
    "plt.xlabel(\"epoch\")\n",
    "plt.ylabel(\"accuracy\")\n",
    "plt.legend()\n",
    "plt.show()"
   ]
  }
 ],
 "metadata": {
  "colab": {
   "name": "Ensembles.ipynb",
   "provenance": [],
   "toc_visible": true
  },
  "kernelspec": {
   "display_name": "Python 3",
   "language": "python",
   "name": "python3"
  },
  "language_info": {
   "codemirror_mode": {
    "name": "ipython",
    "version": 3
   },
   "file_extension": ".py",
   "mimetype": "text/x-python",
   "name": "python",
   "nbconvert_exporter": "python",
   "pygments_lexer": "ipython3",
   "version": "3.8.5"
  }
 },
 "nbformat": 4,
 "nbformat_minor": 1
}
