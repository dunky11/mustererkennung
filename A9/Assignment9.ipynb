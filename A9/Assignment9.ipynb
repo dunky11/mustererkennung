{
 "cells": [
  {
   "cell_type": "markdown",
   "metadata": {
    "id": "Zo9GWxKgTN1h"
   },
   "source": [
    "# Mustererkennung/Machine Learning - Assignment 9"
   ]
  },
  {
   "cell_type": "markdown",
   "metadata": {
    "id": "Ax8ea49_bkdb"
   },
   "source": [
    "### Load the spam dataset:"
   ]
  },
  {
   "cell_type": "code",
   "execution_count": 61,
   "metadata": {
    "ExecuteTime": {
     "end_time": "2018-11-29T11:28:48.347720Z",
     "start_time": "2018-11-29T11:28:47.572823Z"
    },
    "id": "V7XaSv5wTN1i"
   },
   "outputs": [],
   "source": [
    "import numpy as np\n",
    "import pandas as pd\n",
    "from matplotlib import pyplot as plt\n",
    "from sklearn.model_selection import train_test_split\n",
    "from sklearn.metrics import confusion_matrix\n",
    "import random\n",
    "from tqdm import tqdm"
   ]
  },
  {
   "cell_type": "code",
   "execution_count": 62,
   "metadata": {
    "ExecuteTime": {
     "end_time": "2018-11-29T11:28:48.406520Z",
     "start_time": "2018-11-29T11:28:48.349530Z"
    },
    "id": "sT2Hk2k-TN1i"
   },
   "outputs": [],
   "source": [
    "def to_one_hot(y, num_classes):\n",
    "    return np.eye(num_classes)[y.astype(np.uint)]\n",
    "\n",
    "num_classes = 10\n",
    "\n",
    "path_to_train = 'zip.train'\n",
    "path_to_test = 'zip.test'\n",
    "training_data = np.array(pd.read_csv(path_to_train, sep=' ', header=None))\n",
    "test_data = np.array(pd.read_csv(path_to_test, sep =' ',header=None))\n",
    "\n",
    "X_train, y_train = training_data[:,1:-1], training_data[:,0]\n",
    "X_test, y_test = test_data[:,1:], test_data[:,0]\n",
    "X_train, X_test, y_train, y_test = train_test_split(X, y, random_state=0, shuffle=True, stratify=y)\n",
    "\n",
    "y_train, y_test = to_one_hot(y_train, num_classes), to_one_hot(y_test, num_classes)"
   ]
  },
  {
   "cell_type": "code",
   "execution_count": 65,
   "metadata": {},
   "outputs": [
    {
     "name": "stdout",
     "output_type": "stream",
     "text": [
      "(1151, 10)\n"
     ]
    }
   ],
   "source": [
    "def softmax(x):\n",
    "    exp = np.exp(x)\n",
    "    summed = np.sum(exp, axis=1, keepdims=True)\n",
    "    return exp / summed\n",
    "\n",
    "class Sigmoid():\n",
    "    def forward(self, x):\n",
    "        x = np.clip(x, -500, 500)\n",
    "        z = 1.0 / (1.0 + np.exp(-x))\n",
    "        self.z = z\n",
    "        return z\n",
    "    \n",
    "    def backward(self):\n",
    "        return (self.z / (1.0 - self.z)) * right_dev\n",
    "    \n",
    "class CategoricalCrossEntropy():\n",
    "    \"\"\"\n",
    "    Softmax + CategoricalCrossentropy\n",
    "    \"\"\"\n",
    "    def forward(self, x, y):\n",
    "        y_pred = softmax(x)\n",
    "        loss = (1.0 / x.shape[0]) * np.sum(y_pred * y)\n",
    "        self.y_pred = y_pred\n",
    "        self.y_true = y\n",
    "        return loss\n",
    "        \n",
    "    def backward(self, right_dev):\n",
    "        return (self.y_pred - self.y_true) * right_dev\n",
    "    \n",
    "class DenseLayer():\n",
    "    def __init__(self, input_dims, output_dims, activation=None):\n",
    "        w = np.random.normal(size=(input_dims, output_dims))\n",
    "        bias = np.ones((1, output_dims))\n",
    "        self.w = np.vstack((w, bias))\n",
    "        self.activation = activation\n",
    "        \n",
    "    def forward(self, x):\n",
    "        x = np.hstack((x, np.ones((x.shape[0], 1))))\n",
    "        self.x = x\n",
    "        x = x @ self.w\n",
    "        if self.activation:\n",
    "            x = self.activation.forward(x)\n",
    "        return x\n",
    "    \n",
    "    def backward(self, right_dev):\n",
    "        pass\n",
    "    \n",
    "    def apply_gradients(self, lr):\n",
    "        pass\n",
    "    \n",
    "class NeuralNetwork():\n",
    "    def __init__(self, layers, loss):\n",
    "        self.layers = layers\n",
    "        self.loss = loss\n",
    "        \n",
    "    def forward(self, x):\n",
    "        for layer in self.layers:\n",
    "            x = layer.forward(x)\n",
    "        return x\n",
    "    \n",
    "    def predict(self, x):\n",
    "        return softmax(self.forward(x))\n",
    "    \n",
    "    def fit(self, x, y, epochs, lr):\n",
    "        losses = []\n",
    "        for epoch in tqdm(range(1, epochs + 1)):\n",
    "            y_pred = self.forward(x)\n",
    "            loss = self.loss.forward(y_pred, y)\n",
    "            losses.append(loss)\n",
    "            right_dev = 1.0\n",
    "            right_dev = self.loss.backward(right_dev)\n",
    "            for layer in self.layers:\n",
    "                right_dev = layer.backward(right_dev)\n",
    "        return losses\n",
    "\n",
    "layers = [\n",
    "    DenseLayer(X_train.shape[1], 20, activation=Sigmoid()),\n",
    "    DenseLayer(20, 30, activation=Sigmoid()),\n",
    "    DenseLayer(30, 30, activation=Sigmoid()),\n",
    "    DenseLayer(30, 10)\n",
    "]\n",
    "\n",
    "clf = NeuralNetwork(layers, CategoricalCrossEntropy())\n",
    "\n",
    "y_pred = clf.predict(X_test)\n",
    "print(y_pred.shape)"
   ]
  },
  {
   "cell_type": "code",
   "execution_count": 67,
   "metadata": {},
   "outputs": [
    {
     "name": "stderr",
     "output_type": "stream",
     "text": [
      "100%|██████████| 30/30 [00:00<00:00, 134.97it/s]\n"
     ]
    }
   ],
   "source": [
    "losses = clf.fit(X_train, y_train, epochs=30, lr=0.01)"
   ]
  },
  {
   "cell_type": "code",
   "execution_count": 68,
   "metadata": {},
   "outputs": [
    {
     "data": {
      "text/plain": [
       "[<matplotlib.lines.Line2D at 0x7fb5a4a345e0>]"
      ]
     },
     "execution_count": 68,
     "metadata": {},
     "output_type": "execute_result"
    },
    {
     "data": {
      "image/png": "[encoded data removed]",
      "text/plain": [
       "<Figure size 432x288 with 1 Axes>"
      ]
     },
     "metadata": {
      "needs_background": "light"
     },
     "output_type": "display_data"
    }
   ],
   "source": [
    "plt.plot(list(range(len(losses))), losses)"
   ]
  },
  {
   "cell_type": "code",
   "execution_count": null,
   "metadata": {},
   "outputs": [],
   "source": []
  }
 ],
 "metadata": {
  "colab": {
   "name": "Ensembles.ipynb",
   "provenance": [],
   "toc_visible": true
  },
  "kernelspec": {
   "display_name": "Python 3",
   "language": "python",
   "name": "python3"
  },
  "language_info": {
   "codemirror_mode": {
    "name": "ipython",
    "version": 3
   },
   "file_extension": ".py",
   "mimetype": "text/x-python",
   "name": "python",
   "nbconvert_exporter": "python",
   "pygments_lexer": "ipython3",
   "version": "3.8.5"
  }
 },
 "nbformat": 4,
 "nbformat_minor": 1
}
