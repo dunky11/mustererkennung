{
 "cells": [
  {
   "cell_type": "code",
   "execution_count": 1,
   "metadata": {},
   "outputs": [],
   "source": [
    "import torch\n",
    "from torch import nn\n",
    "import numpy as np\n",
    "from sklearn.datasets import load_breast_cancer\n",
    "from sklearn.model_selection import train_test_split\n",
    "from matplotlib import pyplot as plt"
   ]
  },
  {
   "cell_type": "code",
   "execution_count": 2,
   "metadata": {},
   "outputs": [],
   "source": [
    "data = load_breast_cancer()\n",
    "x, y = data['data'], data['target']\n",
    "\n",
    "x_train, x_val, y_train, y_val = train_test_split(x, y, train_size=0.8)\n",
    "\n",
    "def standardise(x, means, stds):\n",
    "    return (x - means) / stds "
   ]
  },
  {
   "cell_type": "code",
   "execution_count": 3,
   "metadata": {},
   "outputs": [],
   "source": [
    "class GaussianKernel():\n",
    "    \"\"\" The kernel measures the similarity between x1 and x2. The higher sigma is,\n",
    "    the higher will be the returned similarity. For x1 = x2 the similarity is 1. If\n",
    "    x1 and x2 have a high distance, the returned similarity will be ≈ 0.\n",
    "    \"\"\"\n",
    "    def __init__(self, sigma):\n",
    "        self.sigma = sigma\n",
    "    \n",
    "    def __call__(self, x1, x2):\n",
    "        return torch.exp(-1 * torch.sum((x1 - x2) ** 2) / (2 * self.sigma ** 2))"
   ]
  },
  {
   "cell_type": "code",
   "execution_count": 4,
   "metadata": {},
   "outputs": [
    {
     "name": "stdout",
     "output_type": "stream",
     "text": [
      "For sigma = 0.5 the similarity between [1. 1. 2.] and [1. 1. 2.] is 1.0\n",
      "For sigma = 0.5 the similarity between [1. 1. 2.] and [1. 1. 1.] is 0.1353352814912796\n",
      "For sigma = 0.5 the similarity between [1. 1. 2.] and [1. 0. 0.] is 4.539993096841499e-05\n",
      "\n",
      "For sigma = 1.0 the similarity between [1. 1. 2.] and [1. 1. 2.] is 1.0\n",
      "For sigma = 1.0 the similarity between [1. 1. 2.] and [1. 1. 1.] is 0.6065306663513184\n",
      "For sigma = 1.0 the similarity between [1. 1. 2.] and [1. 0. 0.] is 0.08208499848842621\n",
      "\n",
      "For sigma = 3.0 the similarity between [1. 1. 2.] and [1. 1. 2.] is 1.0\n",
      "For sigma = 3.0 the similarity between [1. 1. 2.] and [1. 1. 1.] is 0.9459594488143921\n",
      "For sigma = 3.0 the similarity between [1. 1. 2.] and [1. 0. 0.] is 0.757465124130249\n",
      "\n"
     ]
    }
   ],
   "source": [
    "\"\"\" Running some tests.\n",
    "\"\"\"\n",
    "\n",
    "vec1 = torch.Tensor([1, 1, 2])\n",
    "for sigma in [0.5, 1., 3.]:\n",
    "    kernel = GaussianKernel(sigma)\n",
    "    for vec2 in [\n",
    "        torch.Tensor([1, 1, 2]), \n",
    "        torch.Tensor([1, 1, 1]), \n",
    "        torch.Tensor([1, 0, 0])\n",
    "    ]:\n",
    "        sim = kernel(vec1, vec2)\n",
    "        print(f\"For sigma = {sigma} the similarity between {vec1.numpy()} and {vec2.numpy()} is {sim}\")\n",
    "    print()"
   ]
  },
  {
   "cell_type": "code",
   "execution_count": 5,
   "metadata": {},
   "outputs": [],
   "source": [
    "def hinge_loss(y_pred, y_true):\n",
    "    \"\"\" Hinge loss, used for large margin classifiers. \n",
    "    If y = 1 and y_pred >= 1, the loss is 0, otherwise its 1 - y_pred\n",
    "    If y = 0 and y_pred <= -1, the loss is 0, otherwise its 1 + y_pred\n",
    "    y_pred: predictions of the model of shape (m, 1). Can be outside of range [0, 1]\n",
    "    y_true: binary labels of shape (m, 1), can be either 0 or 1.\n",
    "    \"\"\"\n",
    "    y_true = torch.where(y_true == 0, -1.0 * torch.ones_like(y_true).float(), y_true.float())\n",
    "    l = torch.max(torch.zeros_like(y_true), 1 - y_true * y_pred)\n",
    "    return torch.mean(l)\n",
    "\n",
    "class SVMClassifier(nn.Module):\n",
    "    \"\"\" Support vector machine used for classification. \n",
    "    Data should always be normalised before being passed into the SVM,\n",
    "    otherwise the vector similarity computed by the kernel function will penalise features\n",
    "    with low values.\n",
    "    This works only in the binary case, where y = 1 or y = 0.\n",
    "    In multiclass classification the one vs all method would be used.\n",
    "    TODO should work for kernel.\n",
    "    \"\"\"\n",
    "    def __init__(self, n_features, c=2.0, kernel=None):\n",
    "        \"\"\"\n",
    "        c: influence the hinge loss has compared to L2 regularization.\n",
    "        kernel: callable which computes similarity between two vector arguments.\n",
    "        \"\"\"\n",
    "        super().__init__()\n",
    "        self.c = c\n",
    "        self.kernel = kernel\n",
    "        self.w = nn.Parameter(torch.randn((n_features, 1), requires_grad=True))\n",
    "        self.b = nn.Parameter(torch.zeros((1, ), requires_grad=True))\n",
    "    \n",
    "    def forward(self, x):\n",
    "        z = x @ self.w + self.b\n",
    "        return z\n",
    "    \n",
    "    def predict(self, x):\n",
    "        y_pred = self.forward(x)\n",
    "        return torch.where(y_pred >= 0, torch.ones_like(y_pred), torch.zeros_like(y_pred))\n",
    "    \n",
    "    def compute_loss(self, y_pred, y_true):\n",
    "        loss_1 = hinge_loss(y_pred, y_true)\n",
    "        loss_2 = self.w.T @ self.w\n",
    "        return self.c * loss_1 + loss_2"
   ]
  },
  {
   "cell_type": "code",
   "execution_count": 6,
   "metadata": {},
   "outputs": [],
   "source": [
    "means, stds = np.mean(x_train, axis=0), np.std(x_train, axis=0)\n",
    "\n",
    "x_train, x_val = standardise(x_train, means, stds), standardise(x_val, means, stds)\n",
    "x_train, x_val = torch.FloatTensor(x_train), torch.FloatTensor(x_val)\n",
    "y_train, y_val = torch.LongTensor(y_train), torch.LongTensor(y_val) "
   ]
  },
  {
   "cell_type": "code",
   "execution_count": 7,
   "metadata": {},
   "outputs": [],
   "source": [
    "svm = SVMClassifier(n_features=x.shape[1], c=2.0)\n",
    "optimiser = torch.optim.SGD(svm.parameters(), lr=0.04)"
   ]
  },
  {
   "cell_type": "code",
   "execution_count": 8,
   "metadata": {},
   "outputs": [],
   "source": [
    "n_epochs = 50\n",
    "train_losses, val_losses = [], []\n",
    "\n",
    "for epoch in range(1, n_epochs + 1):\n",
    "    svm.train()\n",
    "    optimiser.zero_grad()\n",
    "    y_pred = svm(x_train)\n",
    "    train_loss = svm.compute_loss(y_pred, y_train.view((-1, 1)))\n",
    "    train_loss.backward()\n",
    "    optimiser.step()\n",
    "    \n",
    "    with torch.no_grad():\n",
    "        svm.eval()\n",
    "        y_pred = svm(x_val)\n",
    "        val_loss = svm.compute_loss(y_pred, y_val.view((-1, 1)))\n",
    "        \n",
    "    train_losses.append(train_loss.item())\n",
    "    val_losses.append(val_loss.item())"
   ]
  },
  {
   "cell_type": "code",
   "execution_count": 9,
   "metadata": {},
   "outputs": [
    {
     "data": {
      "image/png": "[encoded data removed]",
      "text/plain": [
       "<Figure size 432x288 with 1 Axes>"
      ]
     },
     "metadata": {
      "needs_background": "light"
     },
     "output_type": "display_data"
    }
   ],
   "source": [
    "plt.plot(train_losses, label=\"train_loss\")\n",
    "plt.plot(val_losses, label=\"val_loss\")\n",
    "plt.xlabel(\"epoch\")\n",
    "plt.ylabel(\"loss\")\n",
    "plt.legend()\n",
    "plt.show()"
   ]
  },
  {
   "cell_type": "code",
   "execution_count": 21,
   "metadata": {},
   "outputs": [
    {
     "name": "stdout",
     "output_type": "stream",
     "text": [
      "The classifier has a validation set accuracy of 94.74%\n"
     ]
    }
   ],
   "source": [
    "with torch.no_grad():\n",
    "    svm.eval()\n",
    "    y_pred = svm.predict(x_val).squeeze()\n",
    "    val_acc = np.mean(y_pred.numpy() == y_val.numpy())\n",
    "    \n",
    "print(f\"The classifier has a validation set accuracy of {round(val_acc  * 100, 2)}%\")"
   ]
  }
 ],
 "metadata": {
  "kernelspec": {
   "display_name": "Python 3",
   "language": "python",
   "name": "python3"
  },
  "language_info": {
   "codemirror_mode": {
    "name": "ipython",
    "version": 3
   },
   "file_extension": ".py",
   "mimetype": "text/x-python",
   "name": "python",
   "nbconvert_exporter": "python",
   "pygments_lexer": "ipython3",
   "version": "3.8.5"
  }
 },
 "nbformat": 4,
 "nbformat_minor": 4
}
