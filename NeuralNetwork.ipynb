{
 "cells": [
  {
   "cell_type": "code",
   "execution_count": 13,
   "metadata": {},
   "outputs": [
    {
     "name": "stdout",
     "output_type": "stream",
     "text": [
      "(2, 3)\n"
     ]
    }
   ],
   "source": [
    "import numpy as np\n",
    "\n",
    "class ReLU():\n",
    "    def forward(self, x):\n",
    "        self.x = x\n",
    "        return np.maximum(x, 0)\n",
    "    \n",
    "    def backward(self):\n",
    "        return np.where(self.x < 0, 0, 1)\n",
    "\n",
    "class Sigmoid():\n",
    "    def forward(self, x):\n",
    "        self.x = x\n",
    "        return 1 / (1 + math.exp(-x))\n",
    "    \n",
    "    def backward(self):\n",
    "        fw = self.forward(self.x)\n",
    "        return fw * (1 - fw)\n",
    "    \n",
    "class Softmax():\n",
    "    def forward(self, x):\n",
    "        self.x = x\n",
    "        exps = np.exp(x)\n",
    "        sum_exps = np.sum(exps, axis=1).reshape(-1, 1)\n",
    "        return exps / sum_exps\n",
    "    \n",
    "    def backward(self):\n",
    "        print(self.x.shape)\n",
    "        pass\n",
    "    \n",
    "class DenseLayer():\n",
    "    def __init__(input_dims, output_dims, activation, init_strat):\n",
    "        if init_strat == 'uniform':\n",
    "            self.w = np.random.uniform(low=0, high=1, shape=(input_dims, output_dims))\n",
    "        elif init_strat == 'normal':\n",
    "            self.w = np.random.normal(shape=(input_dims, output_dims))\n",
    "        else:\n",
    "            raise ValueError(f\"init_strat '{init_strat}' is not a valid strategy\")\n",
    "        \n",
    "        self.b = np.zeros((output_dims, ))\n",
    "        self.activation = activation\n",
    "        self.w_grads = np.zeros((self.w.shape))\n",
    "        self.b_grads = np.zeros((self.b.shape))\n",
    "        \n",
    "    def forward(self, x):\n",
    "        self.x = x\n",
    "        return self.activation((x @ self.w) + self.b)\n",
    "        \n",
    "    def backward(self):\n",
    "        pass\n",
    "        \n",
    "\n",
    "class NeuralNetwork():\n",
    "    def __init__(self, layers, lr):\n",
    "        self.layers = layers\n",
    "        self.lr = lr\n",
    "        \n",
    "    def forward(self):\n",
    "        for layer in layers:\n",
    "            x = layer.forward(x)\n",
    "        return x\n",
    "        \n",
    "    def backward(self):\n",
    "        pass\n",
    "        \n",
    "    def fit(self, x, y, epochs):\n",
    "        for epoch in range(1, epochs + 1):\n",
    "            pass\n",
    "        \n",
    "    def predict(self, x):\n",
    "        return self.forward(x)\n",
    "    \n",
    "softmax = Softmax()\n",
    "inp = np.array([[3, 2, -2], [-1, 3, 4]])\n",
    "softmax.forward(inp)\n",
    "softmax.backward()"
   ]
  },
  {
   "cell_type": "code",
   "execution_count": null,
   "metadata": {},
   "outputs": [],
   "source": []
  }
 ],
 "metadata": {
  "kernelspec": {
   "display_name": "Python 3",
   "language": "python",
   "name": "python3"
  },
  "language_info": {
   "codemirror_mode": {
    "name": "ipython",
    "version": 3
   },
   "file_extension": ".py",
   "mimetype": "text/x-python",
   "name": "python",
   "nbconvert_exporter": "python",
   "pygments_lexer": "ipython3",
   "version": "3.8.5"
  }
 },
 "nbformat": 4,
 "nbformat_minor": 4
}
