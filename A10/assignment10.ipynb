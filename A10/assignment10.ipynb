{
 "cells": [
  {
   "cell_type": "code",
   "execution_count": 1,
   "metadata": {},
   "outputs": [
    {
     "name": "stdout",
     "output_type": "stream",
     "text": [
      "Files already downloaded and verified\n",
      "Files already downloaded and verified\n"
     ]
    }
   ],
   "source": [
    "import torch\n",
    "import torchvision\n",
    "import torchvision.transforms as transforms\n",
    "from torch import nn\n",
    "from tqdm import tqdm\n",
    "import matplotlib.pyplot as plt\n",
    "import numpy as np\n",
    "import multiprocessing\n",
    "\n",
    "transform = transforms.Compose(\n",
    "    [transforms.ToTensor(),\n",
    "     transforms.Normalize((0.5, 0.5, 0.5), (0.5, 0.5, 0.5))])\n",
    "\n",
    "trainset = torchvision.datasets.CIFAR10(root='./data', train=True,\n",
    "                                        download=True, transform=transform)\n",
    "trainloader = torch.utils.data.DataLoader(trainset, batch_size=128,\n",
    "                                          shuffle=True, num_workers=multiprocessing.cpu_count())\n",
    "\n",
    "testset = torchvision.datasets.CIFAR10(root='./data', train=False,\n",
    "                                       download=True, transform=transform)\n",
    "testloader = torch.utils.data.DataLoader(testset, batch_size=128,\n",
    "                                         shuffle=False, num_workers=multiprocessing.cpu_count())\n",
    "\n",
    "classes = ('plane', 'car', 'bird', 'cat',\n",
    "           'deer', 'dog', 'frog', 'horse', 'ship', 'truck')"
   ]
  },
  {
   "cell_type": "code",
   "execution_count": 2,
   "metadata": {},
   "outputs": [
    {
     "name": "stdout",
     "output_type": "stream",
     "text": [
      "Training on gpu\n"
     ]
    }
   ],
   "source": [
    "if torch.cuda.is_available():\n",
    "    print(\"Training on gpu\")\n",
    "    mode = 'cuda'\n",
    "else:\n",
    "    print(\"Training on cpu\")\n",
    "    mode = 'cpu'"
   ]
  },
  {
   "cell_type": "markdown",
   "metadata": {},
   "source": [
    "# Exercise 1. Convolutional Neural Networks (CNN)"
   ]
  },
  {
   "cell_type": "code",
   "execution_count": 3,
   "metadata": {},
   "outputs": [],
   "source": [
    "class ResNetBasicBlock(nn.Module):\n",
    "    def __init__(self, in_channels, out_channels, is_last):\n",
    "        super().__init__()\n",
    "        self.conv1 = nn.Conv2d(in_channels, out_channels, kernel_size=(3, 3), padding=(1, 1), bias=False)\n",
    "        self.bn1 = nn.BatchNorm2d(out_channels)\n",
    "        self.conv2 = nn.Conv2d(out_channels, out_channels, kernel_size=(3, 3), padding=(1, 1), bias=False)\n",
    "        self.bn2 = nn.BatchNorm2d(out_channels)\n",
    "        self.conv3 = nn.Conv2d(out_channels, out_channels, kernel_size=(3, 3), padding=(1, 1), bias=False)\n",
    "        self.bn3 = nn.BatchNorm2d(out_channels)\n",
    "        if is_last:\n",
    "            self.conv4 = nn.Conv2d(out_channels, out_channels, kernel_size=(3, 3), padding=(1, 1), stride=(2, 2), bias=False)\n",
    "        else:\n",
    "            self.conv4 = nn.Conv2d(out_channels, out_channels, kernel_size=(3, 3), padding=(1, 1), stride=(1, 1), bias=False)\n",
    "        self.bn4 = nn.BatchNorm2d(out_channels)\n",
    "        \n",
    "        self.in_channels = in_channels\n",
    "        self.out_channels = out_channels\n",
    "        \n",
    "        if in_channels != out_channels and is_last:\n",
    "            raise Exception(\"DEBUG\")\n",
    "        \n",
    "        if in_channels != out_channels:\n",
    "            self.upsample_filters = True\n",
    "            self.transform_skip_conv = nn.Conv2d(in_channels, out_channels, kernel_size=(1, 1), padding=(0, 0), stride=(1, 1), bias=False)\n",
    "            self.transform_skip_bn   = nn.BatchNorm2d(out_channels)\n",
    "        else:\n",
    "            self.upsample_filters = False\n",
    "        if is_last:\n",
    "            self.transform_skip_conv = nn.Conv2d(out_channels, out_channels, kernel_size=(1, 1), padding=(0, 0), stride=(2, 2), bias=False)\n",
    "            self.transform_skip_bn = nn.BatchNorm2d(out_channels)\n",
    "        self.is_last = is_last\n",
    "        \n",
    "    def forward(self, x):\n",
    "        x_skip = x\n",
    "        x = self.conv1(x)\n",
    "        x = torch.nn.functional.relu(x)\n",
    "        x = self.bn1(x)\n",
    "        x = self.conv2(x)\n",
    "        x = torch.nn.functional.relu(x)\n",
    "        x = self.bn2(x)\n",
    "        \n",
    "        if self.upsample_filters:\n",
    "            x_skip = self.transform_skip_conv(x_skip)\n",
    "            x_skip = torch.nn.functional.relu(x_skip)\n",
    "            x_skip = self.transform_skip_bn(x_skip)\n",
    "        \n",
    "        x = x + x_skip\n",
    "        x_skip = x\n",
    "        \n",
    "        x = self.conv3(x)\n",
    "        x = torch.nn.functional.relu(x)\n",
    "        x = self.bn3(x)\n",
    "        x = self.conv4(x)\n",
    "        x = torch.nn.functional.relu(x)\n",
    "        x = self.bn4(x)\n",
    "        \n",
    "        if self.is_last:\n",
    "            x_skip = self.transform_skip_conv(x_skip)\n",
    "            x_skip = torch.nn.functional.relu(x_skip)\n",
    "            x_skip = self.transform_skip_bn(x_skip)\n",
    "        \n",
    "        x = x + x_skip\n",
    "        \n",
    "        return x\n",
    "\n",
    "\n",
    "\n",
    "class ResNetBlock(nn.Module):\n",
    "    def __init__(self, in_channels, out_channels, n):\n",
    "        super().__init__()\n",
    "        layers = []\n",
    "        layers.append(ResNetBasicBlock(in_channels, out_channels, is_last=False))\n",
    "        for j in range(2 * n - 2):\n",
    "            layers.append(ResNetBasicBlock(out_channels, out_channels, is_last=False))\n",
    "        layers.append(ResNetBasicBlock(out_channels, out_channels, is_last=True))\n",
    "        self.seq = nn.Sequential(*layers)\n",
    "        \n",
    "    def forward(self, x):\n",
    "        x = self.seq(x)\n",
    "        return x\n",
    "    \n",
    "class ResNet(nn.Module):\n",
    "    def __init__(self, in_channels, n):\n",
    "        super().__init__()\n",
    "        self.conv1 = nn.Conv2d(in_channels, 16, kernel_size=(3, 3), padding=(1, 1), bias=False)\n",
    "        self.bn1 = nn.BatchNorm2d(16)\n",
    "        # 2 fully connected layers instead of one sho\n",
    "        self.fc = nn.Linear(1024, 10)\n",
    "        self.flatten = nn.Flatten()\n",
    "        self.rn_block1 = ResNetBlock(16, 16 * (2 ** 0), n)\n",
    "        self.rn_block2 = ResNetBlock(16 * (2 ** 0), 16 * (2 ** 1), n) \n",
    "        self.rn_block3 = ResNetBlock(16 * (2 ** 1), 16 * (2 ** 2), n)\n",
    "        \n",
    "    def forward(self, x):\n",
    "        x = self.conv1(x)\n",
    "        x = torch.nn.functional.relu(x)\n",
    "        x = self.bn1(x)\n",
    "        x = self.rn_block1(x)\n",
    "        x = self.rn_block2(x)\n",
    "        x = self.rn_block3(x)\n",
    "        x = self.flatten(x) \n",
    "        x = self.fc(x)\n",
    "        x = torch.nn.functional.softmax(x, dim=1)\n",
    "        return x\n",
    "\n",
    "        \n",
    "clf = ResNet(in_channels=3, n=1).to(mode)\n",
    "criterion = nn.CrossEntropyLoss()\n",
    "optimizer = torch.optim.SGD(clf.parameters(), lr=0.002, momentum=0.9)"
   ]
  },
  {
   "cell_type": "code",
   "execution_count": 4,
   "metadata": {},
   "outputs": [
    {
     "name": "stderr",
     "output_type": "stream",
     "text": [
      "100%|██████████| 391/391 [00:12<00:00, 31.49it/s]\n",
      "100%|██████████| 79/79 [00:01<00:00, 65.76it/s]\n",
      "  0%|          | 0/391 [00:00<?, ?it/s]"
     ]
    },
    {
     "name": "stdout",
     "output_type": "stream",
     "text": [
      "val accuracy at epoch 1: 0.4189082278481013\n",
      "train loss at epoch 1: 2.160418628731652\n"
     ]
    },
    {
     "name": "stderr",
     "output_type": "stream",
     "text": [
      "100%|██████████| 391/391 [00:12<00:00, 31.08it/s]\n",
      "100%|██████████| 79/79 [00:01<00:00, 63.38it/s]\n",
      "  0%|          | 0/391 [00:00<?, ?it/s]"
     ]
    },
    {
     "name": "stdout",
     "output_type": "stream",
     "text": [
      "val accuracy at epoch 2: 0.481309335443038\n",
      "train loss at epoch 2: 2.0048002525973505\n"
     ]
    },
    {
     "name": "stderr",
     "output_type": "stream",
     "text": [
      "100%|██████████| 391/391 [00:12<00:00, 30.75it/s]\n",
      "100%|██████████| 79/79 [00:01<00:00, 66.10it/s]\n",
      "  0%|          | 0/391 [00:00<?, ?it/s]"
     ]
    },
    {
     "name": "stdout",
     "output_type": "stream",
     "text": [
      "val accuracy at epoch 3: 0.5291732594936709\n",
      "train loss at epoch 3: 1.9452421872512153\n"
     ]
    },
    {
     "name": "stderr",
     "output_type": "stream",
     "text": [
      "100%|██████████| 391/391 [00:12<00:00, 30.59it/s]\n",
      "100%|██████████| 79/79 [00:01<00:00, 63.55it/s]\n",
      "  0%|          | 0/391 [00:00<?, ?it/s]"
     ]
    },
    {
     "name": "stdout",
     "output_type": "stream",
     "text": [
      "val accuracy at epoch 4: 0.5586431962025317\n",
      "train loss at epoch 4: 1.9021990113246166\n"
     ]
    },
    {
     "name": "stderr",
     "output_type": "stream",
     "text": [
      "100%|██████████| 391/391 [00:12<00:00, 30.89it/s]\n",
      "100%|██████████| 79/79 [00:01<00:00, 65.38it/s]\n",
      "  0%|          | 0/391 [00:00<?, ?it/s]"
     ]
    },
    {
     "name": "stdout",
     "output_type": "stream",
     "text": [
      "val accuracy at epoch 5: 0.5795094936708861\n",
      "train loss at epoch 5: 1.8663198582046783\n"
     ]
    },
    {
     "name": "stderr",
     "output_type": "stream",
     "text": [
      "100%|██████████| 391/391 [00:12<00:00, 31.19it/s]\n",
      "100%|██████████| 79/79 [00:01<00:00, 63.98it/s]\n",
      "  0%|          | 0/391 [00:00<?, ?it/s]"
     ]
    },
    {
     "name": "stdout",
     "output_type": "stream",
     "text": [
      "val accuracy at epoch 6: 0.5955300632911392\n",
      "train loss at epoch 6: 1.8341287679379554\n"
     ]
    },
    {
     "name": "stderr",
     "output_type": "stream",
     "text": [
      "100%|██████████| 391/391 [00:12<00:00, 30.90it/s]\n",
      "100%|██████████| 79/79 [00:01<00:00, 65.14it/s]\n",
      "  0%|          | 0/391 [00:00<?, ?it/s]"
     ]
    },
    {
     "name": "stdout",
     "output_type": "stream",
     "text": [
      "val accuracy at epoch 7: 0.6184731012658228\n",
      "train loss at epoch 7: 1.807087981182596\n"
     ]
    },
    {
     "name": "stderr",
     "output_type": "stream",
     "text": [
      "100%|██████████| 391/391 [00:12<00:00, 30.60it/s]\n",
      "100%|██████████| 79/79 [00:01<00:00, 62.14it/s]\n",
      "  0%|          | 0/391 [00:00<?, ?it/s]"
     ]
    },
    {
     "name": "stdout",
     "output_type": "stream",
     "text": [
      "val accuracy at epoch 8: 0.629746835443038\n",
      "train loss at epoch 8: 1.7817401712202965\n"
     ]
    },
    {
     "name": "stderr",
     "output_type": "stream",
     "text": [
      "100%|██████████| 391/391 [00:12<00:00, 30.90it/s]\n",
      "100%|██████████| 79/79 [00:01<00:00, 62.52it/s]\n",
      "  0%|          | 0/391 [00:00<?, ?it/s]"
     ]
    },
    {
     "name": "stdout",
     "output_type": "stream",
     "text": [
      "val accuracy at epoch 9: 0.6401305379746836\n",
      "train loss at epoch 9: 1.7576821920511974\n"
     ]
    },
    {
     "name": "stderr",
     "output_type": "stream",
     "text": [
      "100%|██████████| 391/391 [00:12<00:00, 30.57it/s]\n",
      "100%|██████████| 79/79 [00:01<00:00, 62.87it/s]"
     ]
    },
    {
     "name": "stdout",
     "output_type": "stream",
     "text": [
      "val accuracy at epoch 10: 0.6509098101265823\n",
      "train loss at epoch 10: 1.735085286142881\n"
     ]
    },
    {
     "name": "stderr",
     "output_type": "stream",
     "text": [
      "\n"
     ]
    }
   ],
   "source": [
    "num_epochs = 10\n",
    "\n",
    "train_losses = []\n",
    "train_accs = []\n",
    "val_accs = []\n",
    "\n",
    "for epoch in range(1, num_epochs + 1):\n",
    "    # epoch\n",
    "    train_loss = 0\n",
    "    epoch_iterations = 0\n",
    "    for x, y in tqdm(trainloader):\n",
    "        optimizer.zero_grad()\n",
    "        x, y = x.to(mode), y.to(mode)\n",
    "        y_pred = clf(x)\n",
    "        loss = criterion(y_pred, y)\n",
    "        loss.backward()\n",
    "        optimizer.step()\n",
    "\n",
    "        train_loss += loss.item()\n",
    "        acc = (torch.argmax(y_pred, dim=1) == y).sum().item() / y.shape[0]\n",
    "        train_losses.append(loss)\n",
    "        train_accs.append(acc)\n",
    "        epoch_iterations += 1\n",
    "    \n",
    "    total_val_acc = 0\n",
    "    test_iterations = 0\n",
    "    for x, y in tqdm(testloader):\n",
    "        x, y = x.to(mode), y.to(mode)\n",
    "        with torch.no_grad():\n",
    "            y_pred = clf(x)\n",
    "            acc = (torch.argmax(y_pred, dim=1) == y).sum().item() / y.shape[0]\n",
    "            total_val_acc += acc\n",
    "        test_iterations += 1\n",
    "        \n",
    "    val_accs.append(total_val_acc / test_iterations)\n",
    "    print(f\"val accuracy at epoch {epoch}: {total_val_acc / test_iterations}\")\n",
    "    print(f\"train loss at epoch {epoch}: {train_loss / epoch_iterations}\")\n"
   ]
  },
  {
   "cell_type": "code",
   "execution_count": 5,
   "metadata": {},
   "outputs": [
    {
     "data": {
      "image/png": "[encoded data removed]",
      "text/plain": [
       "<Figure size 432x288 with 1 Axes>"
      ]
     },
     "metadata": {
      "needs_background": "light"
     },
     "output_type": "display_data"
    }
   ],
   "source": [
    "plt.plot(list(range(len(train_losses))), train_losses, label=\"training loss\")\n",
    "plt.xlabel(\"iteration\")\n",
    "plt.ylabel(\"loss\")\n",
    "plt.legend()\n",
    "plt.show()"
   ]
  },
  {
   "cell_type": "code",
   "execution_count": 9,
   "metadata": {},
   "outputs": [
    {
     "data": {
      "image/png": "[encoded data removed]",
      "text/plain": [
       "<Figure size 432x288 with 1 Axes>"
      ]
     },
     "metadata": {
      "needs_background": "light"
     },
     "output_type": "display_data"
    }
   ],
   "source": [
    "plt.plot(list(range(len(val_accs))), val_accs, label=\"training accuracy\")\n",
    "plt.xlabel(\"epoch\")\n",
    "plt.ylabel(\"accuracy\")\n",
    "plt.legend()\n",
    "plt.show()"
   ]
  },
  {
   "cell_type": "markdown",
   "metadata": {},
   "source": [
    "## (a) Plot the filters of the first layer. What kind of features do they extract?"
   ]
  },
  {
   "cell_type": "code",
   "execution_count": 10,
   "metadata": {},
   "outputs": [
    {
     "name": "stderr",
     "output_type": "stream",
     "text": [
      "Clipping input data to the valid range for imshow with RGB data ([0..1] for floats or [0..255] for integers).\n",
      "Clipping input data to the valid range for imshow with RGB data ([0..1] for floats or [0..255] for integers).\n",
      "Clipping input data to the valid range for imshow with RGB data ([0..1] for floats or [0..255] for integers).\n",
      "Clipping input data to the valid range for imshow with RGB data ([0..1] for floats or [0..255] for integers).\n",
      "Clipping input data to the valid range for imshow with RGB data ([0..1] for floats or [0..255] for integers).\n",
      "Clipping input data to the valid range for imshow with RGB data ([0..1] for floats or [0..255] for integers).\n",
      "Clipping input data to the valid range for imshow with RGB data ([0..1] for floats or [0..255] for integers).\n",
      "Clipping input data to the valid range for imshow with RGB data ([0..1] for floats or [0..255] for integers).\n",
      "Clipping input data to the valid range for imshow with RGB data ([0..1] for floats or [0..255] for integers).\n",
      "Clipping input data to the valid range for imshow with RGB data ([0..1] for floats or [0..255] for integers).\n",
      "Clipping input data to the valid range for imshow with RGB data ([0..1] for floats or [0..255] for integers).\n",
      "Clipping input data to the valid range for imshow with RGB data ([0..1] for floats or [0..255] for integers).\n",
      "Clipping input data to the valid range for imshow with RGB data ([0..1] for floats or [0..255] for integers).\n",
      "Clipping input data to the valid range for imshow with RGB data ([0..1] for floats or [0..255] for integers).\n",
      "Clipping input data to the valid range for imshow with RGB data ([0..1] for floats or [0..255] for integers).\n",
      "Clipping input data to the valid range for imshow with RGB data ([0..1] for floats or [0..255] for integers).\n"
     ]
    },
    {
     "data": {
      "image/png": "[encoded data removed]",
      "text/plain": [
       "<Figure size 576x576 with 16 Axes>"
      ]
     },
     "metadata": {
      "needs_background": "light"
     },
     "output_type": "display_data"
    }
   ],
   "source": [
    "filters = clf.conv1.weight.detach().cpu().clone().numpy()\n",
    "\n",
    "w=10\n",
    "h=10\n",
    "fig=plt.figure(figsize=(8, 8))\n",
    "columns = 4\n",
    "rows = 4\n",
    "for i in range(1, columns*rows +1):\n",
    "    img = filters[i - 1]\n",
    "    fig.add_subplot(rows, columns, i)\n",
    "    plt.imshow(img)\n",
    "plt.show()"
   ]
  },
  {
   "cell_type": "markdown",
   "metadata": {},
   "source": [
    "## c) Is deeper always better? Provide some evidence for your answer and explain why that is the case.\n",
    "\n",
    "In theory it should be better, since our network can learn more complex functions, however in practise it makes the network overfit faster, makes the network suffer from the vanishing gradient problem and increases computational complexity."
   ]
  }
 ],
 "metadata": {
  "kernelspec": {
   "display_name": "Python 3",
   "language": "python",
   "name": "python3"
  },
  "language_info": {
   "codemirror_mode": {
    "name": "ipython",
    "version": 3
   },
   "file_extension": ".py",
   "mimetype": "text/x-python",
   "name": "python",
   "nbconvert_exporter": "python",
   "pygments_lexer": "ipython3",
   "version": "3.8.5"
  }
 },
 "nbformat": 4,
 "nbformat_minor": 4
}
