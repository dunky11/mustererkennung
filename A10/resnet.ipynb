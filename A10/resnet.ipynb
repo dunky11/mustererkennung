{
 "cells": [
  {
   "cell_type": "code",
   "execution_count": 1,
   "metadata": {},
   "outputs": [
    {
     "name": "stdout",
     "output_type": "stream",
     "text": [
      "Files already downloaded and verified\n",
      "Files already downloaded and verified\n"
     ]
    }
   ],
   "source": [
    "import torch\n",
    "import torchvision\n",
    "import torchvision.transforms as transforms\n",
    "from torch import nn\n",
    "from tqdm import tqdm\n",
    "import matplotlib.pyplot as plt\n",
    "import numpy as np\n",
    "import multiprocessing\n",
    "\n",
    "transform = transforms.Compose(\n",
    "    [transforms.ToTensor(),\n",
    "     transforms.Normalize((0.4914, 0.4822, 0.4465),  (0.2023, 0.1994, 0.2010))])\n",
    "\n",
    "trainset = torchvision.datasets.CIFAR10(root='./data', train=True,\n",
    "                                        download=True, transform=transform)\n",
    "trainloader = torch.utils.data.DataLoader(trainset, batch_size=128,\n",
    "                                          shuffle=True, num_workers=multiprocessing.cpu_count())\n",
    "\n",
    "testset = torchvision.datasets.CIFAR10(root='./data', train=False,\n",
    "                                       download=True, transform=transform)\n",
    "testloader = torch.utils.data.DataLoader(testset, batch_size=128,\n",
    "                                         shuffle=False, num_workers=multiprocessing.cpu_count())\n",
    "\n",
    "classes = ('plane', 'car', 'bird', 'cat',\n",
    "           'deer', 'dog', 'frog', 'horse', 'ship', 'truck')"
   ]
  },
  {
   "cell_type": "code",
   "execution_count": 2,
   "metadata": {},
   "outputs": [
    {
     "name": "stdout",
     "output_type": "stream",
     "text": [
      "Training on gpu\n"
     ]
    }
   ],
   "source": [
    "if torch.cuda.is_available():\n",
    "    print(\"Training on gpu\")\n",
    "    mode = 'cuda'\n",
    "else:\n",
    "    print(\"Training on cpu\")\n",
    "    mode = 'cpu'"
   ]
  },
  {
   "cell_type": "markdown",
   "metadata": {},
   "source": [
    "# Exercise 1. Convolutional Neural Networks (CNN)"
   ]
  },
  {
   "cell_type": "code",
   "execution_count": 3,
   "metadata": {},
   "outputs": [],
   "source": [
    "class BasicBlock(nn.Module):\n",
    "    def __init__(self, in_channels, out_channels, is_last):\n",
    "        super().__init__()\n",
    "        self.conv1 = nn.Conv2d(in_channels, out_channels, kernel_size=(3, 3), padding=(1, 1), bias=False)\n",
    "        self.bn1 = nn.BatchNorm2d(out_channels)\n",
    "        self.conv2 = nn.Conv2d(out_channels, out_channels, kernel_size=(3, 3), padding=(1, 1), bias=False)\n",
    "        self.bn2 = nn.BatchNorm2d(out_channels)\n",
    "        self.conv3 = nn.Conv2d(out_channels, out_channels, kernel_size=(3, 3), padding=(1, 1), bias=False)\n",
    "        self.bn3 = nn.BatchNorm2d(out_channels)\n",
    "        if is_last:\n",
    "            self.conv4 = nn.Conv2d(out_channels, out_channels, kernel_size=(3, 3), padding=(1, 1), stride=(2, 2), bias=False)\n",
    "        else:\n",
    "            self.conv4 = nn.Conv2d(out_channels, out_channels, kernel_size=(3, 3), padding=(1, 1), stride=(1, 1), bias=False)\n",
    "        self.bn4 = nn.BatchNorm2d(out_channels)\n",
    "        \n",
    "        self.in_channels = in_channels\n",
    "        self.out_channels = out_channels\n",
    "        \n",
    "        if in_channels != out_channels:\n",
    "            self.upsample_filters = True\n",
    "            self.transform_skip_conv = nn.Conv2d(in_channels, out_channels, kernel_size=(1, 1), padding=(0, 0), stride=(1, 1), bias=False)\n",
    "            self.transform_skip_bn   = nn.BatchNorm2d(out_channels)\n",
    "        else:\n",
    "            self.upsample_filters = False\n",
    "        if is_last:\n",
    "            self.transform_skip_conv = nn.Conv2d(out_channels, out_channels, kernel_size=(1, 1), padding=(0, 0), stride=(2, 2), bias=False)\n",
    "            self.transform_skip_bn = nn.BatchNorm2d(out_channels)\n",
    "        self.is_last = is_last\n",
    "        self.mse_loss = torch.nn.MSELoss()\n",
    "        \n",
    "    def forward(self, x, show_mse=False):\n",
    "        x_skip = x\n",
    "        x = self.conv1(x)\n",
    "        x = torch.nn.functional.relu(x)\n",
    "        x = self.bn1(x)\n",
    "        x = self.conv2(x)\n",
    "        \n",
    "        if self.upsample_filters:\n",
    "            x_skip = self.transform_skip_conv(x_skip)\n",
    "            x_skip = torch.nn.functional.relu(x_skip)\n",
    "            x_skip = self.transform_skip_bn(x_skip)\n",
    "    \n",
    "        x = x + x_skip\n",
    "        if show_mse:\n",
    "            loss = self.mse_loss(x, x_skip)\n",
    "            print(f\"MSE IS: {loss}\")\n",
    "        x = torch.nn.functional.relu(x)\n",
    "        x = self.bn2(x)\n",
    "        x_skip = x\n",
    "        \n",
    "        x = self.conv3(x)\n",
    "        x = torch.nn.functional.relu(x)\n",
    "        x = self.bn3(x)\n",
    "        x = self.conv4(x)\n",
    "        \n",
    "        if self.is_last:\n",
    "            x_skip = self.transform_skip_conv(x_skip)\n",
    "            x_skip = torch.nn.functional.relu(x_skip)\n",
    "            x_skip = self.transform_skip_bn(x_skip)\n",
    "        \n",
    "        x = x + x_skip\n",
    "        if show_mse:\n",
    "            loss = self.mse_loss(x, x_skip)\n",
    "            print(f\"MSE IS: {loss}\")\n",
    "        x = torch.nn.functional.relu(x)\n",
    "        x = self.bn4(x)\n",
    "        return x\n",
    "\n",
    "\n",
    "\n",
    "class ResNetBlock(nn.Module):\n",
    "    def __init__(self, in_channels, out_channels, n):\n",
    "        super().__init__()\n",
    "        layers = []\n",
    "        layers.append(BasicBlock(in_channels, out_channels, is_last=False))\n",
    "        for j in range(2 * n - 2):\n",
    "            layers.append(BasicBlock(out_channels, out_channels, is_last=False))\n",
    "        layers.append(BasicBlock(out_channels, out_channels, is_last=True))\n",
    "        self.layers = nn.ModuleList(layers)\n",
    "        \n",
    "    def forward(self, x, show_mse):\n",
    "        for layer in self.layers:\n",
    "            x = layer(x, show_mse=show_mse)\n",
    "        return x\n",
    "    \n",
    "class ResNet(nn.Module):\n",
    "    def __init__(self, in_channels, n):\n",
    "        super().__init__()\n",
    "        self.conv1 = nn.Conv2d(in_channels, 16, kernel_size=(3, 3), padding=(1, 1), bias=False)\n",
    "        self.bn1 = nn.BatchNorm2d(16)\n",
    "        self.fc = nn.Linear(64, 10)\n",
    "        self.rn_block1 = ResNetBlock(16, 16 * (2 ** 0), n)\n",
    "        self.rn_block2 = ResNetBlock(16 * (2 ** 0), 16 * (2 ** 1), n) \n",
    "        self.rn_block3 = ResNetBlock(16 * (2 ** 1), 16 * (2 ** 2), n)\n",
    "        self.global_avgpool = nn.AdaptiveAvgPool2d((1, 1))\n",
    "        \n",
    "    def forward(self, x, is_training=False, show_mse=False):\n",
    "        x = self.conv1(x)\n",
    "        x = torch.nn.functional.relu(x)\n",
    "        x = self.bn1(x)\n",
    "        x = self.rn_block1(x, show_mse=show_mse)\n",
    "        x = self.rn_block2(x, show_mse=show_mse)\n",
    "        x = self.rn_block3(x, show_mse=show_mse)\n",
    "        x = self.global_avgpool(x)\n",
    "        x = torch.flatten(x, 1)\n",
    "        x = self.fc(x)\n",
    "        if not is_training:\n",
    "            # CategoricalCrossentropy in pytorch already applies softmnax\n",
    "            x = torch.nn.functional.softmax(x, dim=1)\n",
    "        return x"
   ]
  },
  {
   "cell_type": "code",
   "execution_count": 4,
   "metadata": {},
   "outputs": [],
   "source": [
    "def train_loop(model, optimizer, criterion, epochs, trainloader, testloader):\n",
    "    train_losses = []\n",
    "    val_losses = []\n",
    "    train_accs = []\n",
    "    val_accs = []\n",
    "    for epoch in range(1, epochs + 1):\n",
    "        # epoch\n",
    "        total_train_loss = 0\n",
    "        total_train_acc = 0\n",
    "        train_iterations = 0\n",
    "        for x, y in tqdm(trainloader):\n",
    "            optimizer.zero_grad()\n",
    "            x, y = x.to(mode), y.to(mode)\n",
    "            y_pred = clf(x, is_training=True)\n",
    "            loss = criterion(y_pred, y)\n",
    "            loss.backward()\n",
    "            optimizer.step()\n",
    "\n",
    "            total_train_loss += loss.item()\n",
    "            acc = (torch.argmax(y_pred, dim=1) == y).sum().item() / y.shape[0]\n",
    "            total_train_acc += acc\n",
    "            train_iterations += 1\n",
    "\n",
    "        total_val_loss = 0\n",
    "        total_val_acc = 0\n",
    "        test_iterations = 0\n",
    "        for x, y in tqdm(testloader):\n",
    "            x, y = x.to(mode), y.to(mode)\n",
    "            with torch.no_grad():\n",
    "                y_pred = clf(x)\n",
    "                acc = (torch.argmax(y_pred, dim=1) == y).sum().item() / y.shape[0]\n",
    "                loss = criterion(y_pred, y)\n",
    "                total_val_acc += acc\n",
    "                total_val_loss += loss.item()\n",
    "            test_iterations += 1\n",
    "\n",
    "\n",
    "        train_losses.append(total_train_loss / train_iterations)\n",
    "        train_accs.append(total_train_acc / train_iterations)\n",
    "        val_losses.append(total_val_loss / test_iterations)\n",
    "        val_accs.append(total_val_acc / test_iterations)\n",
    "\n",
    "        print(f\"train loss at epoch {epoch}: {train_losses[-1]}\")\n",
    "        print(f\"val loss at epoch {epoch}: {val_losses[-1]}\")\n",
    "        print(f\"train acc at epoch {epoch}: {train_accs[-1]}\")\n",
    "        print(f\"val acc at epoch {epoch}: {val_accs[-1]}\")\n",
    "        \n",
    "    return train_losses, val_losses, train_accs, val_accs"
   ]
  },
  {
   "cell_type": "code",
   "execution_count": 5,
   "metadata": {},
   "outputs": [
    {
     "name": "stderr",
     "output_type": "stream",
     "text": [
      "100%|██████████| 391/391 [00:13<00:00, 28.92it/s]\n",
      "100%|██████████| 79/79 [00:01<00:00, 63.33it/s]\n",
      "  0%|          | 0/391 [00:00<?, ?it/s]"
     ]
    },
    {
     "name": "stdout",
     "output_type": "stream",
     "text": [
      "train loss at epoch 1: 1.9110773954245135\n",
      "val loss at epoch 1: 2.1778840022751047\n",
      "train acc at epoch 1: 0.2805906329923274\n",
      "val acc at epoch 1: 0.35749604430379744\n"
     ]
    },
    {
     "name": "stderr",
     "output_type": "stream",
     "text": [
      "100%|██████████| 391/391 [00:13<00:00, 28.65it/s]\n",
      "100%|██████████| 79/79 [00:01<00:00, 64.10it/s]\n",
      "  0%|          | 0/391 [00:00<?, ?it/s]"
     ]
    },
    {
     "name": "stdout",
     "output_type": "stream",
     "text": [
      "train loss at epoch 2: 1.5805680553626527\n",
      "val loss at epoch 2: 2.107328149336803\n",
      "train acc at epoch 2: 0.4089234335038363\n",
      "val acc at epoch 2: 0.45233386075949367\n"
     ]
    },
    {
     "name": "stderr",
     "output_type": "stream",
     "text": [
      "100%|██████████| 391/391 [00:13<00:00, 29.65it/s]\n",
      "100%|██████████| 79/79 [00:01<00:00, 65.95it/s]\n",
      "  0%|          | 0/391 [00:00<?, ?it/s]"
     ]
    },
    {
     "name": "stdout",
     "output_type": "stream",
     "text": [
      "train loss at epoch 3: 1.39488795712171\n",
      "val loss at epoch 3: 2.0451347133781335\n",
      "train acc at epoch 3: 0.48785565856777496\n",
      "val acc at epoch 3: 0.5141416139240507\n"
     ]
    },
    {
     "name": "stderr",
     "output_type": "stream",
     "text": [
      "100%|██████████| 391/391 [00:12<00:00, 30.58it/s]\n",
      "100%|██████████| 79/79 [00:01<00:00, 69.57it/s]\n",
      "  0%|          | 0/391 [00:00<?, ?it/s]"
     ]
    },
    {
     "name": "stdout",
     "output_type": "stream",
     "text": [
      "train loss at epoch 4: 1.2611499976014238\n",
      "val loss at epoch 4: 2.002955749065061\n",
      "train acc at epoch 4: 0.5416080562659847\n",
      "val acc at epoch 4: 0.5504351265822784\n"
     ]
    },
    {
     "name": "stderr",
     "output_type": "stream",
     "text": [
      "100%|██████████| 391/391 [00:12<00:00, 31.67it/s]\n",
      "100%|██████████| 79/79 [00:01<00:00, 70.43it/s]\n",
      "  0%|          | 0/391 [00:00<?, ?it/s]"
     ]
    },
    {
     "name": "stdout",
     "output_type": "stream",
     "text": [
      "train loss at epoch 5: 1.1595722714348522\n",
      "val loss at epoch 5: 1.970947928066495\n",
      "train acc at epoch 5: 0.5817415281329923\n",
      "val acc at epoch 5: 0.5825751582278481\n"
     ]
    },
    {
     "name": "stderr",
     "output_type": "stream",
     "text": [
      "100%|██████████| 391/391 [00:12<00:00, 31.82it/s]\n",
      "100%|██████████| 79/79 [00:01<00:00, 69.17it/s]\n",
      "  0%|          | 0/391 [00:00<?, ?it/s]"
     ]
    },
    {
     "name": "stdout",
     "output_type": "stream",
     "text": [
      "train loss at epoch 6: 1.0708980241699901\n",
      "val loss at epoch 6: 1.9415837767757946\n",
      "train acc at epoch 6: 0.6143542199488491\n",
      "val acc at epoch 6: 0.604628164556962\n"
     ]
    },
    {
     "name": "stderr",
     "output_type": "stream",
     "text": [
      "100%|██████████| 391/391 [00:12<00:00, 31.77it/s]\n",
      "100%|██████████| 79/79 [00:01<00:00, 68.54it/s]\n",
      "  0%|          | 0/391 [00:00<?, ?it/s]"
     ]
    },
    {
     "name": "stdout",
     "output_type": "stream",
     "text": [
      "train loss at epoch 7: 1.0026685624476284\n",
      "val loss at epoch 7: 1.9256127122082287\n",
      "train acc at epoch 7: 0.6396938938618926\n",
      "val acc at epoch 7: 0.6189675632911392\n"
     ]
    },
    {
     "name": "stderr",
     "output_type": "stream",
     "text": [
      "100%|██████████| 391/391 [00:12<00:00, 31.51it/s]\n",
      "100%|██████████| 79/79 [00:01<00:00, 68.65it/s]\n",
      "  0%|          | 0/391 [00:00<?, ?it/s]"
     ]
    },
    {
     "name": "stdout",
     "output_type": "stream",
     "text": [
      "train loss at epoch 8: 0.9386520411657251\n",
      "val loss at epoch 8: 1.8991079073918016\n",
      "train acc at epoch 8: 0.6632153132992327\n",
      "val acc at epoch 8: 0.6439873417721519\n"
     ]
    },
    {
     "name": "stderr",
     "output_type": "stream",
     "text": [
      "100%|██████████| 391/391 [00:12<00:00, 31.25it/s]\n",
      "100%|██████████| 79/79 [00:01<00:00, 70.83it/s]\n",
      "  0%|          | 0/391 [00:00<?, ?it/s]"
     ]
    },
    {
     "name": "stdout",
     "output_type": "stream",
     "text": [
      "train loss at epoch 9: 0.8818477982145441\n",
      "val loss at epoch 9: 1.887594014783449\n",
      "train acc at epoch 9: 0.6819093670076726\n",
      "val acc at epoch 9: 0.6448773734177216\n"
     ]
    },
    {
     "name": "stderr",
     "output_type": "stream",
     "text": [
      "100%|██████████| 391/391 [00:12<00:00, 31.45it/s]\n",
      "100%|██████████| 79/79 [00:01<00:00, 66.49it/s]\n",
      "  0%|          | 0/391 [00:00<?, ?it/s]"
     ]
    },
    {
     "name": "stdout",
     "output_type": "stream",
     "text": [
      "train loss at epoch 10: 0.8244553804397583\n",
      "val loss at epoch 10: 1.8718223013455355\n",
      "train acc at epoch 10: 0.704100063938619\n",
      "val acc at epoch 10: 0.654568829113924\n"
     ]
    },
    {
     "name": "stderr",
     "output_type": "stream",
     "text": [
      "100%|██████████| 391/391 [00:23<00:00, 16.56it/s]\n",
      "100%|██████████| 79/79 [00:01<00:00, 44.01it/s]\n",
      "  0%|          | 0/391 [00:00<?, ?it/s]"
     ]
    },
    {
     "name": "stdout",
     "output_type": "stream",
     "text": [
      "train loss at epoch 1: 2.027295554690349\n",
      "val loss at epoch 1: 2.206101707265347\n",
      "train acc at epoch 1: 0.22139146419437342\n",
      "val acc at epoch 1: 0.302314082278481\n"
     ]
    },
    {
     "name": "stderr",
     "output_type": "stream",
     "text": [
      "100%|██████████| 391/391 [00:23<00:00, 16.69it/s]\n",
      "100%|██████████| 79/79 [00:01<00:00, 43.15it/s]\n",
      "  0%|          | 0/391 [00:00<?, ?it/s]"
     ]
    },
    {
     "name": "stdout",
     "output_type": "stream",
     "text": [
      "train loss at epoch 2: 1.6776457817658135\n",
      "val loss at epoch 2: 2.1375034791004808\n",
      "train acc at epoch 2: 0.36024616368286444\n",
      "val acc at epoch 2: 0.41030458860759494\n"
     ]
    },
    {
     "name": "stderr",
     "output_type": "stream",
     "text": [
      "100%|██████████| 391/391 [00:23<00:00, 16.49it/s]\n",
      "100%|██████████| 79/79 [00:01<00:00, 42.40it/s]\n",
      "  0%|          | 0/391 [00:00<?, ?it/s]"
     ]
    },
    {
     "name": "stdout",
     "output_type": "stream",
     "text": [
      "train loss at epoch 3: 1.4894327961880227\n",
      "val loss at epoch 3: 2.0824623017371455\n",
      "train acc at epoch 3: 0.44573609335038367\n",
      "val acc at epoch 3: 0.46598101265822783\n"
     ]
    },
    {
     "name": "stderr",
     "output_type": "stream",
     "text": [
      "100%|██████████| 391/391 [00:24<00:00, 16.18it/s]\n",
      "100%|██████████| 79/79 [00:01<00:00, 41.49it/s]\n",
      "  0%|          | 0/391 [00:00<?, ?it/s]"
     ]
    },
    {
     "name": "stdout",
     "output_type": "stream",
     "text": [
      "train loss at epoch 4: 1.3614050671267692\n",
      "val loss at epoch 4: 2.042413233201715\n",
      "train acc at epoch 4: 0.502565537084399\n",
      "val acc at epoch 4: 0.5134493670886076\n"
     ]
    },
    {
     "name": "stderr",
     "output_type": "stream",
     "text": [
      "100%|██████████| 391/391 [00:23<00:00, 16.49it/s]\n",
      "100%|██████████| 79/79 [00:01<00:00, 43.78it/s]\n",
      "  0%|          | 0/391 [00:00<?, ?it/s]"
     ]
    },
    {
     "name": "stdout",
     "output_type": "stream",
     "text": [
      "train loss at epoch 5: 1.2493448987641298\n",
      "val loss at epoch 5: 1.996636558182632\n",
      "train acc at epoch 5: 0.5465553069053708\n",
      "val acc at epoch 5: 0.5517207278481012\n"
     ]
    },
    {
     "name": "stderr",
     "output_type": "stream",
     "text": [
      "100%|██████████| 391/391 [00:23<00:00, 16.53it/s]\n",
      "100%|██████████| 79/79 [00:01<00:00, 42.91it/s]\n",
      "  0%|          | 0/391 [00:00<?, ?it/s]"
     ]
    },
    {
     "name": "stdout",
     "output_type": "stream",
     "text": [
      "train loss at epoch 6: 1.157561002027653\n",
      "val loss at epoch 6: 1.9713878148718724\n",
      "train acc at epoch 6: 0.5802269820971867\n",
      "val acc at epoch 6: 0.5760482594936709\n"
     ]
    },
    {
     "name": "stderr",
     "output_type": "stream",
     "text": [
      "100%|██████████| 391/391 [00:23<00:00, 16.42it/s]\n",
      "100%|██████████| 79/79 [00:01<00:00, 40.66it/s]\n",
      "  0%|          | 0/391 [00:00<?, ?it/s]"
     ]
    },
    {
     "name": "stdout",
     "output_type": "stream",
     "text": [
      "train loss at epoch 7: 1.072410517184021\n",
      "val loss at epoch 7: 1.945691410499283\n",
      "train acc at epoch 7: 0.6139945652173913\n",
      "val acc at epoch 7: 0.5979034810126582\n"
     ]
    },
    {
     "name": "stderr",
     "output_type": "stream",
     "text": [
      "100%|██████████| 391/391 [00:23<00:00, 16.39it/s]\n",
      "100%|██████████| 79/79 [00:01<00:00, 43.26it/s]\n",
      "  0%|          | 0/391 [00:00<?, ?it/s]"
     ]
    },
    {
     "name": "stdout",
     "output_type": "stream",
     "text": [
      "train loss at epoch 8: 1.0012047703918594\n",
      "val loss at epoch 8: 1.9206572318378883\n",
      "train acc at epoch 8: 0.644073689258312\n",
      "val acc at epoch 8: 0.6207476265822784\n"
     ]
    },
    {
     "name": "stderr",
     "output_type": "stream",
     "text": [
      "100%|██████████| 391/391 [00:23<00:00, 16.46it/s]\n",
      "100%|██████████| 79/79 [00:01<00:00, 42.93it/s]\n",
      "  0%|          | 0/391 [00:00<?, ?it/s]"
     ]
    },
    {
     "name": "stdout",
     "output_type": "stream",
     "text": [
      "train loss at epoch 9: 0.9330108559040158\n",
      "val loss at epoch 9: 1.906320203708697\n",
      "train acc at epoch 9: 0.6685901534526854\n",
      "val acc at epoch 9: 0.6319224683544303\n"
     ]
    },
    {
     "name": "stderr",
     "output_type": "stream",
     "text": [
      "100%|██████████| 391/391 [00:23<00:00, 16.47it/s]\n",
      "100%|██████████| 79/79 [00:01<00:00, 43.22it/s]\n",
      "  0%|          | 0/391 [00:00<?, ?it/s]"
     ]
    },
    {
     "name": "stdout",
     "output_type": "stream",
     "text": [
      "train loss at epoch 10: 0.8668873822292709\n",
      "val loss at epoch 10: 1.8876249850550784\n",
      "train acc at epoch 10: 0.6910605818414322\n",
      "val acc at epoch 10: 0.6396360759493671\n"
     ]
    },
    {
     "name": "stderr",
     "output_type": "stream",
     "text": [
      "100%|██████████| 391/391 [00:34<00:00, 11.22it/s]\n",
      "100%|██████████| 79/79 [00:02<00:00, 30.90it/s]\n",
      "  0%|          | 0/391 [00:00<?, ?it/s]"
     ]
    },
    {
     "name": "stdout",
     "output_type": "stream",
     "text": [
      "train loss at epoch 1: 2.066189126590329\n",
      "val loss at epoch 1: 2.2323654029942768\n",
      "train acc at epoch 1: 0.1998201726342711\n",
      "val acc at epoch 1: 0.25642800632911394\n"
     ]
    },
    {
     "name": "stderr",
     "output_type": "stream",
     "text": [
      "100%|██████████| 391/391 [00:35<00:00, 11.11it/s]\n",
      "100%|██████████| 79/79 [00:02<00:00, 31.23it/s]\n",
      "  0%|          | 0/391 [00:00<?, ?it/s]"
     ]
    },
    {
     "name": "stdout",
     "output_type": "stream",
     "text": [
      "train loss at epoch 2: 1.8036092733178297\n",
      "val loss at epoch 2: 2.1765836613087712\n",
      "train acc at epoch 2: 0.3063059462915601\n",
      "val acc at epoch 2: 0.34355221518987344\n"
     ]
    },
    {
     "name": "stderr",
     "output_type": "stream",
     "text": [
      "100%|██████████| 391/391 [00:35<00:00, 11.10it/s]\n",
      "100%|██████████| 79/79 [00:02<00:00, 31.36it/s]\n",
      "  0%|          | 0/391 [00:00<?, ?it/s]"
     ]
    },
    {
     "name": "stdout",
     "output_type": "stream",
     "text": [
      "train loss at epoch 3: 1.6433909311318946\n",
      "val loss at epoch 3: 2.135647004163718\n",
      "train acc at epoch 3: 0.3758751598465473\n",
      "val acc at epoch 3: 0.4017009493670886\n"
     ]
    },
    {
     "name": "stderr",
     "output_type": "stream",
     "text": [
      "100%|██████████| 391/391 [00:35<00:00, 11.15it/s]\n",
      "100%|██████████| 79/79 [00:02<00:00, 31.43it/s]\n",
      "  0%|          | 0/391 [00:00<?, ?it/s]"
     ]
    },
    {
     "name": "stdout",
     "output_type": "stream",
     "text": [
      "train loss at epoch 4: 1.5214816441621317\n",
      "val loss at epoch 4: 2.0968732260450533\n",
      "train acc at epoch 4: 0.43519021739130437\n",
      "val acc at epoch 4: 0.4540150316455696\n"
     ]
    },
    {
     "name": "stderr",
     "output_type": "stream",
     "text": [
      "100%|██████████| 391/391 [00:34<00:00, 11.18it/s]\n",
      "100%|██████████| 79/79 [00:02<00:00, 31.45it/s]\n",
      "  0%|          | 0/391 [00:00<?, ?it/s]"
     ]
    },
    {
     "name": "stdout",
     "output_type": "stream",
     "text": [
      "train loss at epoch 5: 1.4161400264486328\n",
      "val loss at epoch 5: 2.056870478617994\n",
      "train acc at epoch 5: 0.4785406010230179\n",
      "val acc at epoch 5: 0.4899129746835443\n"
     ]
    },
    {
     "name": "stderr",
     "output_type": "stream",
     "text": [
      "100%|██████████| 391/391 [00:35<00:00, 11.15it/s]\n",
      "100%|██████████| 79/79 [00:02<00:00, 31.35it/s]\n",
      "  0%|          | 0/391 [00:00<?, ?it/s]"
     ]
    },
    {
     "name": "stdout",
     "output_type": "stream",
     "text": [
      "train loss at epoch 6: 1.3196266612128529\n",
      "val loss at epoch 6: 2.0271402884133254\n",
      "train acc at epoch 6: 0.5179867327365729\n",
      "val acc at epoch 6: 0.5200751582278481\n"
     ]
    },
    {
     "name": "stderr",
     "output_type": "stream",
     "text": [
      "100%|██████████| 391/391 [00:35<00:00, 11.14it/s]\n",
      "100%|██████████| 79/79 [00:02<00:00, 31.12it/s]\n",
      "  0%|          | 0/391 [00:00<?, ?it/s]"
     ]
    },
    {
     "name": "stdout",
     "output_type": "stream",
     "text": [
      "train loss at epoch 7: 1.2393513456025087\n",
      "val loss at epoch 7: 2.001961575278753\n",
      "train acc at epoch 7: 0.5468230498721228\n",
      "val acc at epoch 7: 0.546875\n"
     ]
    },
    {
     "name": "stderr",
     "output_type": "stream",
     "text": [
      "100%|██████████| 391/391 [00:35<00:00, 11.11it/s]\n",
      "100%|██████████| 79/79 [00:02<00:00, 31.10it/s]\n",
      "  0%|          | 0/391 [00:00<?, ?it/s]"
     ]
    },
    {
     "name": "stdout",
     "output_type": "stream",
     "text": [
      "train loss at epoch 8: 1.159572904829479\n",
      "val loss at epoch 8: 1.9752596933630449\n",
      "train acc at epoch 8: 0.5798833120204604\n",
      "val acc at epoch 8: 0.5709058544303798\n"
     ]
    },
    {
     "name": "stderr",
     "output_type": "stream",
     "text": [
      "100%|██████████| 391/391 [00:35<00:00, 11.15it/s]\n",
      "100%|██████████| 79/79 [00:02<00:00, 31.13it/s]\n",
      "  0%|          | 0/391 [00:00<?, ?it/s]"
     ]
    },
    {
     "name": "stdout",
     "output_type": "stream",
     "text": [
      "train loss at epoch 9: 1.0889641971844237\n",
      "val loss at epoch 9: 1.9504002589213698\n",
      "train acc at epoch 9: 0.6082201086956522\n",
      "val acc at epoch 9: 0.5877175632911392\n"
     ]
    },
    {
     "name": "stderr",
     "output_type": "stream",
     "text": [
      "100%|██████████| 391/391 [00:34<00:00, 11.17it/s]\n",
      "100%|██████████| 79/79 [00:02<00:00, 31.50it/s]"
     ]
    },
    {
     "name": "stdout",
     "output_type": "stream",
     "text": [
      "train loss at epoch 10: 1.0255918079020117\n",
      "val loss at epoch 10: 1.9302597423143024\n",
      "train acc at epoch 10: 0.6292039641943734\n",
      "val acc at epoch 10: 0.6092761075949367\n"
     ]
    },
    {
     "name": "stderr",
     "output_type": "stream",
     "text": [
      "\n"
     ]
    }
   ],
   "source": [
    "metrics = {}\n",
    "for n in range(1, 4):\n",
    "    clf = ResNet(in_channels=3, n=n).to(mode)\n",
    "    criterion = nn.CrossEntropyLoss()\n",
    "    optimizer = torch.optim.SGD(clf.parameters(), lr=0.002, momentum=0.9)\n",
    "    train_losses, val_losses, train_accs, val_accs = train_loop(\n",
    "        clf, \n",
    "        optimizer, \n",
    "        criterion, \n",
    "        10, \n",
    "        trainloader, \n",
    "        testloader\n",
    "    )\n",
    "    metrics[n] = {\n",
    "        \"train_losses\": train_losses,\n",
    "        \"val_losses\": val_losses,\n",
    "        \"train_accs\": train_accs,\n",
    "        \"val_accs\": val_accs\n",
    "    }"
   ]
  },
  {
   "cell_type": "code",
   "execution_count": 6,
   "metadata": {},
   "outputs": [
    {
     "data": {
      "image/png": "[encoded data removed]",
      "text/plain": [
       "<Figure size 432x288 with 1 Axes>"
      ]
     },
     "metadata": {
      "needs_background": "light"
     },
     "output_type": "display_data"
    }
   ],
   "source": [
    "plt.plot(list(range(len(metrics[1][\"val_losses\"]))), metrics[1][\"val_losses\"], label=\"n = 1 validation set\")\n",
    "plt.plot(list(range(len(metrics[2][\"val_losses\"]))), metrics[2][\"val_losses\"], label=\"n = 2 validation set\")\n",
    "plt.plot(list(range(len(metrics[3][\"val_losses\"]))), metrics[3][\"val_losses\"], label=\"n = 3 validation set\")\n",
    "plt.plot(list(range(len(metrics[1][\"train_losses\"]))), metrics[1][\"train_losses\"], label=\"n = 1 training set\")\n",
    "plt.plot(list(range(len(metrics[2][\"train_losses\"]))), metrics[2][\"train_losses\"], label=\"n = 2 training set\")\n",
    "plt.plot(list(range(len(metrics[3][\"train_losses\"]))), metrics[3][\"train_losses\"], label=\"n = 3 training set\")\n",
    "plt.xlabel(\"epoch\")\n",
    "plt.ylabel(\"loss\")\n",
    "plt.legend()\n",
    "plt.show()"
   ]
  },
  {
   "cell_type": "code",
   "execution_count": 7,
   "metadata": {},
   "outputs": [
    {
     "data": {
      "image/png": "[encoded data removed]",
      "text/plain": [
       "<Figure size 432x288 with 1 Axes>"
      ]
     },
     "metadata": {
      "needs_background": "light"
     },
     "output_type": "display_data"
    }
   ],
   "source": [
    "plt.plot(list(range(len(metrics[1][\"val_accs\"]))), metrics[1][\"val_accs\"], label=\"n = 1 validation set\")\n",
    "plt.plot(list(range(len(metrics[1][\"val_accs\"]))), metrics[2][\"val_accs\"], label=\"n = 2 validation set\")\n",
    "plt.plot(list(range(len(metrics[1][\"val_accs\"]))), metrics[3][\"val_accs\"], label=\"n = 3 validation set\")\n",
    "plt.plot(list(range(len(metrics[1][\"train_accs\"]))), metrics[1][\"train_accs\"], label=\"n = 1 training set\")\n",
    "plt.plot(list(range(len(metrics[1][\"train_accs\"]))), metrics[2][\"train_accs\"], label=\"n = 2 training set\")\n",
    "plt.plot(list(range(len(metrics[1][\"train_accs\"]))), metrics[3][\"train_accs\"], label=\"n = 3 training set\")\n",
    "plt.xlabel(\"epoch\")\n",
    "plt.ylabel(\"accuracy\")\n",
    "plt.legend()\n",
    "plt.show()"
   ]
  },
  {
   "cell_type": "markdown",
   "metadata": {},
   "source": [
    "## (a) Plot the filters of the first layer. What kind of features do they extract?"
   ]
  },
  {
   "cell_type": "code",
   "execution_count": 8,
   "metadata": {},
   "outputs": [],
   "source": [
    "def normalise(x):\n",
    "    minimum = np.min(x)\n",
    "    maximum = np.max(x)\n",
    "    return (x - minimum) / (maximum - minimum)\n",
    "    \n",
    "def normalise_img(img):\n",
    "    img[:,:,0] = normalise(img[:,:,0])\n",
    "    img[:,:,1] = normalise(img[:,:,1])\n",
    "    img[:,:,2] = normalise(img[:,:,2])\n",
    "    return img"
   ]
  },
  {
   "cell_type": "code",
   "execution_count": 9,
   "metadata": {},
   "outputs": [
    {
     "data": {
      "image/png": "[encoded data removed]",
      "text/plain": [
       "<Figure size 576x576 with 16 Axes>"
      ]
     },
     "metadata": {
      "needs_background": "light"
     },
     "output_type": "display_data"
    }
   ],
   "source": [
    "filters = clf.conv1.weight.detach().cpu().clone().numpy()\n",
    "\n",
    "w=10\n",
    "h=10\n",
    "fig=plt.figure(figsize=(8, 8))\n",
    "columns = 4\n",
    "rows = 4\n",
    "for i in range(1, columns*rows +1):\n",
    "    img = normalise_img(filters[i - 1])\n",
    "    fig.add_subplot(rows, columns, i)\n",
    "    plt.imshow(img)\n",
    "plt.show()"
   ]
  },
  {
   "cell_type": "markdown",
   "metadata": {},
   "source": [
    "## (b) For every two convolutions with skip connection calculate the MSE of the input of thoselayerxinand the outputxout: MSE(xin, xout). Does your network have layers that were learned to be the identity?"
   ]
  },
  {
   "cell_type": "code",
   "execution_count": 10,
   "metadata": {},
   "outputs": [
    {
     "name": "stdout",
     "output_type": "stream",
     "text": [
      "MSE IS: 0.6238371133804321\n",
      "MSE IS: 0.5665003061294556\n",
      "MSE IS: 0.5593308210372925\n",
      "MSE IS: 0.40274566411972046\n",
      "MSE IS: 0.5262214541435242\n",
      "MSE IS: 0.5639868974685669\n",
      "MSE IS: 0.4649959206581116\n",
      "MSE IS: 0.5885398387908936\n",
      "MSE IS: 0.4307798147201538\n",
      "MSE IS: 0.5467429161071777\n",
      "MSE IS: 0.6793290376663208\n",
      "MSE IS: 0.6809646487236023\n",
      "MSE IS: 0.4855375289916992\n",
      "MSE IS: 0.4010744094848633\n",
      "MSE IS: 0.4426094889640808\n",
      "MSE IS: 0.39885276556015015\n",
      "MSE IS: 0.4395354390144348\n",
      "MSE IS: 0.43303707242012024\n",
      "MSE IS: 0.5229395627975464\n",
      "MSE IS: 0.5231478810310364\n",
      "MSE IS: 0.47984281182289124\n",
      "MSE IS: 0.46972355246543884\n",
      "MSE IS: 0.6970547437667847\n",
      "MSE IS: 0.7026304006576538\n",
      "MSE IS: 0.4426412582397461\n",
      "MSE IS: 0.4262027144432068\n",
      "MSE IS: 0.4286178648471832\n",
      "MSE IS: 0.4170571565628052\n",
      "MSE IS: 0.38850677013397217\n",
      "MSE IS: 0.43397799134254456\n",
      "MSE IS: 0.41576969623565674\n",
      "MSE IS: 0.4961211383342743\n",
      "MSE IS: 0.46461477875709534\n",
      "MSE IS: 0.46489816904067993\n",
      "MSE IS: 0.704309344291687\n",
      "MSE IS: 1.0863127708435059\n"
     ]
    }
   ],
   "source": [
    "for x, y in trainloader:\n",
    "    x = x.to(mode)\n",
    "    clf(x, show_mse=True)\n",
    "    break"
   ]
  },
  {
   "cell_type": "markdown",
   "metadata": {},
   "source": [
    "Our Network doesn't have layers which learnt to be the identity"
   ]
  },
  {
   "cell_type": "markdown",
   "metadata": {},
   "source": [
    "## c) Is deeper always better? Provide some evidence for your answer and explain why that is the case.\n",
    "\n",
    "In theory it should be better, since our network can learn more complex functions, however in practise it makes the network overfit faster, makes the network suffer from the vanishing gradient problem and increases computational complexity. We can see that our network actually performed worse after 10 epochs when it had more layers."
   ]
  }
 ],
 "metadata": {
  "kernelspec": {
   "display_name": "Python 3",
   "language": "python",
   "name": "python3"
  },
  "language_info": {
   "codemirror_mode": {
    "name": "ipython",
    "version": 3
   },
   "file_extension": ".py",
   "mimetype": "text/x-python",
   "name": "python",
   "nbconvert_exporter": "python",
   "pygments_lexer": "ipython3",
   "version": "3.8.5"
  }
 },
 "nbformat": 4,
 "nbformat_minor": 4
}
