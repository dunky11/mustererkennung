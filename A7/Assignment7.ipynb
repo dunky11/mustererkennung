{
 "cells": [
  {
   "cell_type": "markdown",
   "metadata": {
    "id": "Zo9GWxKgTN1h"
   },
   "source": [
    "# Mustererkennung/Machine Learning - Assignment 6\n",
    "\n"
   ]
  },
  {
   "cell_type": "markdown",
   "metadata": {
    "id": "Ax8ea49_bkdb"
   },
   "source": [
    "### Load the spam dataset:"
   ]
  },
  {
   "cell_type": "code",
   "execution_count": 1,
   "metadata": {
    "ExecuteTime": {
     "end_time": "2018-11-29T11:28:48.347720Z",
     "start_time": "2018-11-29T11:28:47.572823Z"
    },
    "id": "V7XaSv5wTN1i"
   },
   "outputs": [],
   "source": [
    "import numpy as np\n",
    "import pandas as pd\n",
    "from matplotlib import pyplot as plt\n",
    "from sklearn.model_selection import train_test_split\n",
    "from skimage.data import lfw_subset\n",
    "from sklearn.datasets import fetch_openml\n",
    "import random"
   ]
  },
  {
   "cell_type": "code",
   "execution_count": 2,
   "metadata": {
    "ExecuteTime": {
     "end_time": "2018-11-29T11:28:48.406520Z",
     "start_time": "2018-11-29T11:28:48.349530Z"
    },
    "id": "sT2Hk2k-TN1i"
   },
   "outputs": [],
   "source": [
    "data = np.array(pd.read_csv('spambase.data', header=None))\n",
    "\n",
    "X = data[:,:-1] # features\n",
    "y = data[:,-1] # Last column is label\n",
    "\n",
    "X_train, X_test, y_train, y_test = train_test_split(X, y, random_state=0, shuffle=True, stratify=y)"
   ]
  },
  {
   "cell_type": "markdown",
   "metadata": {},
   "source": [
    "# Implementation of AdaBoost"
   ]
  },
  {
   "cell_type": "code",
   "execution_count": 3,
   "metadata": {},
   "outputs": [],
   "source": [
    "def accuracy(y_true, y_pred):\n",
    "    return np.mean(y_true == y_pred)\n",
    "\n",
    "def gini(y_true, c):\n",
    "    \"\"\"\n",
    "    For simplicity reasons this assumes that there are only 2 classes\n",
    "    \"\"\"\n",
    "    y_true = np.array(y_true)\n",
    "    p_mk = np.mean(y_true == c)\n",
    "\n",
    "    return 2 * p_mk * (1 - p_mk)\n",
    "\n",
    "class LeafNode():\n",
    "    def fit(self, c):\n",
    "        self.c = c\n",
    "        \n",
    "    def predict(self, x):\n",
    "        return self.c\n",
    "    \n",
    "class InternalNode():\n",
    "    \"\"\"\n",
    "    Node of decision tree, which accepts tabular data\n",
    "    \"\"\"\n",
    "    def fit(self, x, y, depth, max_depth):\n",
    "        m, n = x.shape\n",
    "        # columns are j, split_index, loss_total\n",
    "        split_infos = []\n",
    "            \n",
    "        for j in range(n):\n",
    "            # sort rows by feature j in ascending order\n",
    "            sorted_indices = x[:,j].argsort()\n",
    "            x, y = x[sorted_indices], y[sorted_indices]\n",
    "            for split_index in self.get_unique_indices(x[:, j])[:-1]:\n",
    "                y_top_split = y[:split_index + 1]\n",
    "                y_bottom_split = y[split_index + 1:]\n",
    "                \n",
    "                if y_top_split.shape[0] == 0:\n",
    "                    raise Exception(\"Error 1\")\n",
    "                    \n",
    "                if y_bottom_split.shape[0] == 0:\n",
    "                    raise Exception(\"Error 2\")\n",
    "                \n",
    "                c1 = self.find_c(y_top_split)\n",
    "                c2 = self.find_c(y_bottom_split)\n",
    "                \n",
    "                loss_1 = gini(y_top_split, c1)\n",
    "                loss_2 = gini(y_bottom_split, c2)\n",
    "                \n",
    "                # use weighted average which had better results\n",
    "                loss_total = (y_top_split.shape[0] / m) * loss_1  + (y_bottom_split.shape[0] / m) * loss_2\n",
    "                \n",
    "                row = np.array([j, split_index, loss_total])\n",
    "                split_infos.append(row)\n",
    "                \n",
    "        split_infos = np.array(split_infos)\n",
    "        best_split_idx = np.argmin(split_infos[:,-1], axis=0)\n",
    "        best_split = split_infos[best_split_idx]\n",
    "        self.j = int(best_split[0])\n",
    "        split_index = int(best_split[1])\n",
    "        \n",
    "        sorted_indices = x[:,j].argsort()\n",
    "        x, y = x[sorted_indices], y[sorted_indices]\n",
    "        \n",
    "        x_top_split, y_top_split = x[:split_index + 1], y[:split_index + 1]\n",
    "        x_bottom_split, y_bottom_split = x[split_index + 1:], y[split_index + 1:]\n",
    "        \n",
    "        self.z = (x_top_split[-1, self.j] + x_bottom_split[0, self.j]) / 2\n",
    "        \n",
    "        if self.is_pure(y_top_split) or x_top_split.shape[0] <= 2 or depth >= max_depth:\n",
    "            self.left_child = LeafNode()\n",
    "            c = self.find_c(y_top_split)\n",
    "            self.left_child.fit(c)\n",
    "        else:\n",
    "            self.left_child = InternalNode()\n",
    "            self.left_child.fit(x_top_split, y_top_split, depth + 1, max_depth)\n",
    "            \n",
    "        if self.is_pure(y_bottom_split) or x_bottom_split.shape[0] <= 2 or depth >= max_depth:\n",
    "            self.right_child = LeafNode()\n",
    "            c = self.find_c(y_bottom_split)\n",
    "            self.right_child.fit(c)\n",
    "        else:\n",
    "            self.right_child = InternalNode()\n",
    "            self.right_child.fit(x_bottom_split, y_bottom_split, depth + 1, max_depth)\n",
    "        \n",
    "    def predict(self, x):\n",
    "        if x[self.j] <= self.z:\n",
    "            return self.left_child.predict(x)\n",
    "        return self.right_child.predict(x)\n",
    "    \n",
    "    def get_unique_indices(self, arr):\n",
    "        idx = []\n",
    "        arr_len = len(arr)\n",
    "        for i in range(len(arr)):\n",
    "            if i == arr_len - 1:\n",
    "                idx.append(i)\n",
    "            elif arr[i] != arr[i + 1]:\n",
    "                idx.append(i)\n",
    "        return idx\n",
    "    \n",
    "    def find_c(self, y):\n",
    "        \"\"\"\n",
    "        For simplicity reasons this assumes that there are only 2 classes\n",
    "        \"\"\"\n",
    "        y = np.array(y)\n",
    "        zeros = np.sum(y == 0)\n",
    "        ones = np.sum(y == 1)\n",
    "        if ones > zeros:\n",
    "            return 1\n",
    "        return 0\n",
    "        \n",
    "    def is_pure(self, y):\n",
    "        y = np.array(y)\n",
    "        if np.sum(y == 0) == y.shape[0] or np.sum(y == 1) == y.shape[0]:\n",
    "            return True\n",
    "        return False\n",
    "    \n",
    "class DecisionTreeClassifier():\n",
    "    \"\"\"\n",
    "    Basically just holds the root node of the tree which starts the recursion\n",
    "    \"\"\"\n",
    "    def __init__(self, max_depth):\n",
    "        self.max_depth = max_depth\n",
    "        \n",
    "    def fit(self, x, y, features):\n",
    "        x = np.copy(x)\n",
    "        y = np.copy(y)\n",
    "        self.root = InternalNode()\n",
    "        self.root.fit(x, y, 1, self.max_depth)\n",
    "    \n",
    "    def predict(self, x):\n",
    "        y_preds = []\n",
    "        for sample in x:\n",
    "            y_pred = self.root.predict(sample)\n",
    "            y_preds.append(y_pred)\n",
    "        return np.array(y_preds)\n",
    "        "
   ]
  },
  {
   "cell_type": "code",
   "execution_count": 4,
   "metadata": {},
   "outputs": [],
   "source": [
    "# TODO Delete later\n",
    "from tqdm.notebook import tqdm\n",
    "\n",
    "class AdaBoost():\n",
    "    def __init__(self, num_trees, max_depth):\n",
    "        self.num_trees = num_trees\n",
    "        self.max_depth = max_depth\n",
    "            \n",
    "    def fit(self, x, y, features=None):\n",
    "        x = np.copy(x)\n",
    "        y = np.copy(y)\n",
    "        self.trees = []\n",
    "        self.says = []\n",
    "        for i in tqdm(range(self.num_trees)):\n",
    "            # sample weights will always add up to one\n",
    "            sample_weights = np.ones((y.shape[0], )) / y.shape[0]\n",
    "            tree = DecisionTreeClassifier(max_depth=self.max_depth)\n",
    "            tree.fit(x, y, features)\n",
    "            y_pred = tree.predict(x)\n",
    "            error = self.calculate_error(y, y_pred, sample_weights)\n",
    "            say = self.error_to_say(error)\n",
    "            sample_weights = self.update_sample_weights(y, y_pred, say, sample_weights)\n",
    "            x, y = self.weighted_dataset(x, y, sample_weights)\n",
    "            self.trees.append(tree)\n",
    "            self.says.append(say)\n",
    "            \n",
    "        self.says = np.array(self.says)\n",
    "            \n",
    "    def weighted_dataset(self, x, y, sample_weights):\n",
    "        x_new, y_new = [], []\n",
    "        sample_weights_cum = np.cumsum(sample_weights)\n",
    "        rand = np.random.uniform(low=0.0, high=1.0, size=(x.shape[0], ))\n",
    "        for rand_el in rand:\n",
    "            for i, cum_weight in enumerate(sample_weights_cum):\n",
    "                if cum_weight >= rand_el:\n",
    "                    x_new.append(x[i])\n",
    "                    y_new.append(y[i])\n",
    "                    break\n",
    "        return np.array(x_new), np.array(y_new)\n",
    "            \n",
    "        \n",
    "        \n",
    "    def calculate_error(self, y_true, y_pred, sample_weights):\n",
    "        \"\"\"\n",
    "        How much say a stump has is calculated by it's error, which is just the\n",
    "        sum of the sample_weights for the missclassified samples.\n",
    "        The error is always between 0 and 1 because the sample weights add up to one.\n",
    "        0 is the lowest possible error and 1 is the highest.\n",
    "        \"\"\"\n",
    "        error_idx = y_true != y_pred\n",
    "        return np.sum(sample_weights[error_idx])\n",
    "    \n",
    "    def error_to_say(self, error):\n",
    "        \"\"\"\n",
    "        Transforms the error a stump has into it's say which will be used\n",
    "        to weight the importance of one stumps prediction in the final prediction.\n",
    "        The say is ~ between 3.5 and -3.5 which means a stumps prediction can actually\n",
    "        be weighted negaively in the final prediction if it error is high.\n",
    "        If error is 0 we will have division by 0, if error is 1, we will have log(0)\n",
    "        which is also not possible. So a small eps is added / subtracted from the \n",
    "        error to keep calculations stable.\n",
    "        \"\"\"\n",
    "        eps = 10 ** -10\n",
    "        if error == 0:\n",
    "            error = error + eps\n",
    "        elif error == 1:\n",
    "            error = error - eps\n",
    "        return 0.5 * np.log((1 - error) / error)\n",
    "    \n",
    "    def update_sample_weights(self, y_true, y_pred, say, sample_weights):\n",
    "        \"\"\"\n",
    "        Updates the sample weights by scaling them based on the amount of say the stump\n",
    "        has and wether it properly classified the sample.\n",
    "        If say is high and the sample was missclassified, the sample weight will go up.\n",
    "        If say is high and the sample was propely classified, the sample weight will go down.\n",
    "        If say is low and the sample was missclassified, the sample weight will go down.\n",
    "        If say is low and the sample was properly classified, the sample weight will go up.\n",
    "        After updating the sample weights will still sum up to one.\n",
    "        \"\"\"\n",
    "        sample_weights = np.where(y_true == y_pred, \n",
    "                                  sample_weights * np.exp(-say), \n",
    "                                  sample_weights * np.exp(say))\n",
    "        # normalization so sample_weights add up to 1 again\n",
    "        sample_weights = sample_weights / np.sum(sample_weights)\n",
    "        return sample_weights\n",
    "        \n",
    "    def predict(self, x, use_cascade=False):\n",
    "        y_preds = []\n",
    "        for sample in x:\n",
    "            votes = []\n",
    "            for tree in self.trees:\n",
    "                # decision tree expects matrix as input\n",
    "                sample = sample.reshape((1, -1))\n",
    "                prediction = tree.predict(sample)\n",
    "                if use_cascade and prediction[0] == 0:\n",
    "                    y_preds.append(0)\n",
    "                    break\n",
    "                votes.append(prediction)\n",
    "            votes = np.array(votes).reshape((-1, ))\n",
    "            yes_say = np.sum(self.says[votes == 1])\n",
    "            no_say = np.sum(self.says[votes == 0])\n",
    "            if yes_say > no_say:\n",
    "                y_preds.append(1)\n",
    "            else:\n",
    "                y_preds.append(0)\n",
    "                        \n",
    "        return np.array(y_preds)"
   ]
  },
  {
   "cell_type": "code",
   "execution_count": 5,
   "metadata": {},
   "outputs": [
    {
     "data": {
      "application/vnd.jupyter.widget-view+json": {
       "model_id": "044a60116b004199b19004d75429abd7",
       "version_major": 2,
       "version_minor": 0
      },
      "text/plain": [
       "HBox(children=(HTML(value=''), FloatProgress(value=0.0, max=20.0), HTML(value='')))"
      ]
     },
     "metadata": {},
     "output_type": "display_data"
    },
    {
     "name": "stdout",
     "output_type": "stream",
     "text": [
      "\n",
      "CPU times: user 27.1 s, sys: 83.5 ms, total: 27.2 s\n",
      "Wall time: 27.3 s\n"
     ]
    }
   ],
   "source": [
    "%%time\n",
    "clf = AdaBoost(num_trees=20, max_depth=1)\n",
    "clf.fit(X_train, y_train)"
   ]
  },
  {
   "cell_type": "code",
   "execution_count": 6,
   "metadata": {},
   "outputs": [
    {
     "name": "stdout",
     "output_type": "stream",
     "text": [
      "0.889661164205039\n",
      "CPU times: user 97 ms, sys: 50 µs, total: 97.1 ms\n",
      "Wall time: 95.9 ms\n"
     ]
    }
   ],
   "source": [
    "%%time\n",
    "y_pred = clf.predict(X_test)\n",
    "acc = accuracy(y_test, y_pred)\n",
    "print(acc)"
   ]
  },
  {
   "cell_type": "markdown",
   "metadata": {},
   "source": [
    "Compare to AdaBoost with depth of 2 instead of 1 "
   ]
  },
  {
   "cell_type": "code",
   "execution_count": 7,
   "metadata": {},
   "outputs": [
    {
     "data": {
      "application/vnd.jupyter.widget-view+json": {
       "model_id": "aee2f110c2bf4ae1b35c8052cf657e6f",
       "version_major": 2,
       "version_minor": 0
      },
      "text/plain": [
       "HBox(children=(HTML(value=''), FloatProgress(value=0.0, max=20.0), HTML(value='')))"
      ]
     },
     "metadata": {},
     "output_type": "display_data"
    },
    {
     "name": "stdout",
     "output_type": "stream",
     "text": [
      "\n",
      "CPU times: user 37.1 s, sys: 38.9 ms, total: 37.1 s\n",
      "Wall time: 37.2 s\n"
     ]
    }
   ],
   "source": [
    "%%time\n",
    "clf = AdaBoost(num_trees=20, max_depth=2)\n",
    "clf.fit(X_train, y_train)"
   ]
  },
  {
   "cell_type": "code",
   "execution_count": 8,
   "metadata": {},
   "outputs": [
    {
     "name": "stdout",
     "output_type": "stream",
     "text": [
      "0.89748045178106\n",
      "CPU times: user 107 ms, sys: 71 µs, total: 107 ms\n",
      "Wall time: 106 ms\n"
     ]
    }
   ],
   "source": [
    "%%time\n",
    "y_pred = clf.predict(X_test)\n",
    "acc = accuracy(y_test, y_pred)\n",
    "print(acc)"
   ]
  },
  {
   "cell_type": "markdown",
   "metadata": {},
   "source": [
    "# Implementation of Viola-Jones"
   ]
  },
  {
   "cell_type": "code",
   "execution_count": 9,
   "metadata": {},
   "outputs": [],
   "source": [
    "def generate_dataset():\n",
    "    \"\"\"\n",
    "    Generates dataset of 250 images of faces with labels 1 and 250 images of digits with label 0, \n",
    "    each are 25x25 pixels.\n",
    "    \"\"\"\n",
    "    face_data = lfw_subset()\n",
    "    noise_data = np.random.uniform(size=face_data.shape)\n",
    "    face_labels = np.ones((face_data.shape[0], ))\n",
    "    noise_labels = np.zeros((noise_data.shape[0], ))\n",
    "    x = np.vstack((face_data, noise_data))\n",
    "    y = np.hstack((face_labels, noise_labels))\n",
    "    assert(x.shape[0] == y.shape[0])\n",
    "    return x, y\n",
    "\n",
    "x, y = generate_dataset()\n",
    "X_train, X_test, y_train, y_test = train_test_split(x, y, random_state=0, shuffle=True, stratify=y)"
   ]
  },
  {
   "cell_type": "code",
   "execution_count": 10,
   "metadata": {},
   "outputs": [],
   "source": [
    "class RectBase():\n",
    "    def calculate_area(self, integral_img,  ul_pixel_cord, lr_pixel_cord):\n",
    "        \"\"\" Calculates the of the integral_img given by two pixel coordinates.\n",
    "        ul_pixel_cord should be outside of the calculated area.\n",
    "        lr_pixel_cord is inside of the calculated area.\n",
    "        \"\"\"\n",
    "        if ul_pixel_cord[0] < 0 or ul_pixel_cord[1] < 0:\n",
    "            A = 0\n",
    "        else:\n",
    "            A = integral_img[ul_pixel_cord[0], ul_pixel_cord[1]]\n",
    "            \n",
    "        if ul_pixel_cord[0] < 0:\n",
    "            B = 0\n",
    "        else:\n",
    "            B = integral_img[ul_pixel_cord[0], lr_pixel_cord[1]]\n",
    "            \n",
    "        if ul_pixel_cord[1] < 0:\n",
    "            C = 0\n",
    "        else:\n",
    "            C = integral_img[ul_pixel_cord[1], lr_pixel_cord[0]]\n",
    "            \n",
    "        D = integral_img[lr_pixel_cord[0], lr_pixel_cord[1]]\n",
    "        return A - B - C + D\n",
    "\n",
    "\n",
    "class TwoRect(RectBase):\n",
    "    \"\"\" Feature for Viola-Jones, which looks like:\n",
    "    -----\n",
    "    --B--\n",
    "    --W--\n",
    "    -----\n",
    "    \"\"\"\n",
    "    def __init__(self, x, y, scale_x, scale_y, img_shape):\n",
    "        self.x = x\n",
    "        self.y = y\n",
    "        self.scale_x = scale_x\n",
    "        self.scale_y = scale_y\n",
    "        self.img_shape = img_shape\n",
    "    \n",
    "    def is_valid(self):\n",
    "        \"\"\"\n",
    "        Returns wether the feature fits on the image\n",
    "        \"\"\"\n",
    "        lowest_pixel = self.x + (self.scale_x * 2) - 1\n",
    "        if lowest_pixel > self.img_shape[0] - 1:\n",
    "            return False\n",
    "        most_right_pixel = self.y + self.scale_y - 1\n",
    "        if most_right_pixel > self.img_shape[1] - 1:\n",
    "            return False\n",
    "        return True\n",
    "    \n",
    "    def get_pixel_cords(self):\n",
    "        black_area_ul = [self.x - 1, self.y - 1]\n",
    "        black_area_lr = [self.x + self.scale_x - 1, self.y + self.scale_y - 1]\n",
    "        white_area_ul = [self.x + self.scale_x - 1, self.y - 1]\n",
    "        white_area_lr = [self.x + (self.scale_x * 2) - 1, self.y + self.scale_y - 1]\n",
    "        return {\n",
    "            \"black_area_ul\": black_area_ul,\n",
    "            \"black_area_lr\": black_area_lr,\n",
    "            \"white_area_ul\": white_area_ul,\n",
    "            \"white_area_lr\": white_area_lr\n",
    "        }\n",
    "    \n",
    "    def apply_feature(self, integral_img):\n",
    "        pixel_cords = self.get_pixel_cords()\n",
    "        black_area_sum = self.calculate_area(integral_img, pixel_cords[\"black_area_ul\"], \n",
    "                                             pixel_cords[\"black_area_lr\"])\n",
    "        white_area_sum = self.calculate_area(integral_img, pixel_cords[\"white_area_ul\"], \n",
    "                                             pixel_cords[\"white_area_lr\"])\n",
    "        return white_area_sum - black_area_sum\n",
    "    \n",
    "    def visualise_feature(self):\n",
    "        img = np.ones((self.img_shape[0], self.img_shape[1])) * 0.5\n",
    "        pixel_cords = self.get_pixel_cords()\n",
    "        for x in range(pixel_cords[\"black_area_ul\"][0] + 1, pixel_cords[\"black_area_lr\"][0] + 1):\n",
    "            for y  in range(pixel_cords[\"black_area_ul\"][1] + 1, pixel_cords[\"black_area_lr\"][1] + 1):\n",
    "                img[x, y] = 0\n",
    "        for x in range(pixel_cords[\"white_area_ul\"][0] + 1, pixel_cords[\"white_area_lr\"][0] + 1):\n",
    "            for y  in range(pixel_cords[\"white_area_ul\"][1] + 1, pixel_cords[\"white_area_lr\"][1] + 1):\n",
    "                img[x, y] = 1\n",
    "        return img\n",
    "\n",
    "class ThreeRect(RectBase):\n",
    "    \"\"\" Feature for Viola-Jones, which looks like:\n",
    "    -----\n",
    "    -BWB-\n",
    "    -----\n",
    "    \"\"\"\n",
    "    def __init__(self, x, y, scale_x, scale_y, img_shape):\n",
    "        self.x = x\n",
    "        self.y = y\n",
    "        self.scale_x = scale_x\n",
    "        self.scale_y = scale_y\n",
    "        self.img_shape = img_shape\n",
    "    \n",
    "    def is_valid(self):\n",
    "        \"\"\"\n",
    "        Returns wether the feature fits on the image\n",
    "        \"\"\"\n",
    "        lowest_pixel = self.x + self.scale_x - 1\n",
    "        if lowest_pixel > self.img_shape[0] - 1:\n",
    "            return False\n",
    "        most_right_pixel = self.y + (self.scale_y * 3) - 1\n",
    "        if most_right_pixel > self.img_shape[1] - 1:\n",
    "            return False\n",
    "        return True\n",
    "    \n",
    "    def get_pixel_cords(self):\n",
    "        left_black_area_ul = [self.x - 1, self.y - 1]\n",
    "        left_black_area_lr = [self.x + self.scale_x - 1, self.y + self.scale_y - 1]\n",
    "        white_area_ul = [self.x - 1, self.y + self.scale_y - 1]\n",
    "        white_area_lr = [self.x + self.scale_x - 1, self.y + self.scale_y * 2 - 1]\n",
    "        right_black_area_ul = [self.x - 1, self.y + self.scale_y * 2 - 1]\n",
    "        right_black_area_lr = [self.x + self.scale_x - 1, self.y + (self.scale_y * 3) - 1]\n",
    "        return {\n",
    "            \"left_black_area_ul\": left_black_area_ul,\n",
    "            \"left_black_area_lr\": left_black_area_lr,\n",
    "            \"white_area_ul\": white_area_ul,\n",
    "            \"white_area_lr\": white_area_lr, \n",
    "            \"right_black_area_ul\": right_black_area_ul,\n",
    "            \"right_black_area_lr\": right_black_area_lr\n",
    "        }\n",
    "    \n",
    "    def apply_feature(self, integral_img):\n",
    "        pixel_cords = self.get_pixel_cords()\n",
    "        left_black_area_sum = self.calculate_area(integral_img, pixel_cords[\"left_black_area_ul\"], \n",
    "                                             pixel_cords[\"left_black_area_lr\"])\n",
    "        white_area_sum = self.calculate_area(integral_img, pixel_cords[\"white_area_ul\"], \n",
    "                                             pixel_cords[\"white_area_lr\"])\n",
    "        right_black_area_sum = self.calculate_area(integral_img, pixel_cords[\"right_black_area_ul\"], \n",
    "                                             pixel_cords[\"right_black_area_lr\"])\n",
    "        return white_area_sum - (left_black_area_sum + right_black_area_sum)\n",
    "    \n",
    "    def visualise_feature(self):\n",
    "        img = np.ones((self.img_shape[0], self.img_shape[1])) * 0.5\n",
    "        pixel_cords = self.get_pixel_cords()\n",
    "        for x in range(pixel_cords[\"left_black_area_ul\"][0] + 1, pixel_cords[\"left_black_area_lr\"][0] + 1):\n",
    "            for y  in range(pixel_cords[\"left_black_area_ul\"][1] + 1, pixel_cords[\"left_black_area_lr\"][1] + 1):\n",
    "                img[x, y] = 0\n",
    "        for x in range(pixel_cords[\"white_area_ul\"][0] + 1, pixel_cords[\"white_area_lr\"][0] + 1):\n",
    "            for y  in range(pixel_cords[\"white_area_ul\"][1] + 1, pixel_cords[\"white_area_lr\"][1] + 1):\n",
    "                img[x, y] = 1\n",
    "        for x in range(pixel_cords[\"right_black_area_ul\"][0] + 1, pixel_cords[\"right_black_area_lr\"][0] + 1):\n",
    "            for y  in range(pixel_cords[\"right_black_area_ul\"][1] + 1, pixel_cords[\"right_black_area_lr\"][1] + 1):\n",
    "                img[x, y] = 0\n",
    "        return img\n",
    "    \n",
    "class FourRect(RectBase):\n",
    "    \"\"\" Feature for Viola-Jones, which looks like:\n",
    "    ------\n",
    "    --WB--\n",
    "    --BW--\n",
    "    ------\n",
    "    \"\"\"\n",
    "    def __init__(self, x, y, scale_x, scale_y, img_shape):\n",
    "        self.x = x\n",
    "        self.y = y\n",
    "        self.scale_x = scale_x\n",
    "        self.scale_y = scale_y\n",
    "        self.img_shape = img_shape\n",
    "    \n",
    "    def is_valid(self):\n",
    "        \"\"\"\n",
    "        Returns wether the feature fits on the image\n",
    "        \"\"\"\n",
    "        lowest_pixel = self.x + self.scale_x * 2 - 1\n",
    "        if lowest_pixel > self.img_shape[0] - 1:\n",
    "            return False\n",
    "        most_right_pixel = self.y + self.scale_y * 2 - 1\n",
    "        if most_right_pixel > self.img_shape[1] - 1:\n",
    "            return False\n",
    "        return True\n",
    "    \n",
    "    def get_pixel_cords(self):\n",
    "        left_white_area_ul = [self.x - 1, self.y - 1]\n",
    "        left_white_area_lr = [self.x + self.scale_x - 1, self.y + self.scale_y - 1]\n",
    "        left_black_area_ul = [self.x + self.scale_x - 1, self.y - 1]\n",
    "        left_black_area_lr = [self.x + self.scale_x * 2 - 1, self.y + self.scale_y - 1]\n",
    "        right_black_area_ul = [self.x - 1, self.y + self.scale_y - 1]\n",
    "        right_black_area_lr = [self.x + self.scale_x - 1, self.y + self.scale_y * 2 - 1]\n",
    "        right_white_area_ul = [self.x + self.scale_x - 1, self.y + self.scale_y - 1]\n",
    "        right_white_area_lr = [self.x + self.scale_x * 2 - 1, self.y + self.scale_y * 2 - 1]\n",
    "        return {\n",
    "            \"left_white_area_ul\": left_white_area_ul,\n",
    "            \"left_white_area_lr\": left_white_area_lr,\n",
    "            \"left_black_area_ul\": left_black_area_ul,\n",
    "            \"left_black_area_lr\": left_black_area_lr,\n",
    "            \"right_black_area_ul\": right_black_area_ul,\n",
    "            \"right_black_area_lr\": right_black_area_lr,\n",
    "            \"right_white_area_ul\": right_white_area_ul,\n",
    "            \"right_white_area_lr\": right_white_area_lr\n",
    "        }\n",
    "    \n",
    "    def apply_feature(self, integral_img):\n",
    "        pixel_cords = self.get_pixel_cords()\n",
    "        left_white_area_sum = self.calculate_area(integral_img, pixel_cords[\"left_white_area_ul\"], \n",
    "                                             pixel_cords[\"left_white_area_lr\"])\n",
    "        left_black_area_sum = self.calculate_area(integral_img, pixel_cords[\"left_black_area_ul\"], \n",
    "                                             pixel_cords[\"left_black_area_lr\"])\n",
    "        right_black_area_sum = self.calculate_area(integral_img, pixel_cords[\"right_black_area_ul\"], \n",
    "                                             pixel_cords[\"right_black_area_lr\"])\n",
    "        right_white_area_sum = self.calculate_area(integral_img, pixel_cords[\"right_white_area_ul\"], \n",
    "                                             pixel_cords[\"right_white_area_lr\"])\n",
    "        return left_white_area_sum - left_black_area_sum - right_black_area_sum + right_white_area_sum\n",
    "    \n",
    "    def visualise_feature(self):\n",
    "        img = np.ones((self.img_shape[0], self.img_shape[1])) * 0.5\n",
    "        pixel_cords = self.get_pixel_cords()\n",
    "        for x in range(pixel_cords[\"left_white_area_ul\"][0] + 1, pixel_cords[\"left_white_area_lr\"][0] + 1):\n",
    "            for y  in range(pixel_cords[\"left_white_area_ul\"][1] + 1, pixel_cords[\"left_white_area_lr\"][1] + 1):\n",
    "                img[x, y] = 1\n",
    "        for x in range(pixel_cords[\"left_black_area_ul\"][0] + 1, pixel_cords[\"left_black_area_lr\"][0] + 1):\n",
    "            for y  in range(pixel_cords[\"left_black_area_ul\"][1] + 1, pixel_cords[\"left_black_area_lr\"][1] + 1):\n",
    "                img[x, y] = 0\n",
    "        for x in range(pixel_cords[\"right_black_area_ul\"][0] + 1, pixel_cords[\"right_black_area_lr\"][0] + 1):\n",
    "            for y  in range(pixel_cords[\"right_black_area_ul\"][1] + 1, pixel_cords[\"right_black_area_lr\"][1] + 1):\n",
    "                img[x, y] = 0\n",
    "        for x in range(pixel_cords[\"right_white_area_ul\"][0] + 1, pixel_cords[\"right_white_area_lr\"][0] + 1):\n",
    "            for y  in range(pixel_cords[\"right_white_area_ul\"][1] + 1, pixel_cords[\"right_white_area_lr\"][1] + 1):\n",
    "                img[x, y] = 1\n",
    "        return img"
   ]
  },
  {
   "cell_type": "code",
   "execution_count": 11,
   "metadata": {},
   "outputs": [],
   "source": [
    "class ViolaJonesClassifier():\n",
    "    def __init__(self, num_trees, max_depth, max_features=None):\n",
    "        self.adaboost = AdaBoost(num_trees, max_depth)\n",
    "        self.max_features = max_features\n",
    "    \n",
    "    def fit(self, x, y):\n",
    "        x = np.copy(x)\n",
    "        y = np.copy(y)\n",
    "        features = self.generate_features(x[0].shape)\n",
    "        if self.max_features != None:\n",
    "            random.shuffle(features)\n",
    "            features = features[:self.max_features]\n",
    "        x = self.transform_x(x, features)\n",
    "        self.adaboost.fit(x, y)\n",
    "        self.features = features\n",
    "        \n",
    "    def predict(self, x, use_cascade=False):\n",
    "        x = np.copy(x)\n",
    "        x = self.transform_x(x, self.features)\n",
    "        return self.adaboost.predict(x, use_cascade)\n",
    "    \n",
    "    def transform_x(self, x, features):\n",
    "        imgs = []\n",
    "        for sample in x:\n",
    "            imgs.append(self.to_integral_img(sample))\n",
    "        x = np.array(imgs)\n",
    "        x = self.apply_features(x, features)\n",
    "        return x\n",
    "    \n",
    "    def apply_features(self, integral_imgs, features):\n",
    "        \"\"\"\n",
    "        Transforms the integral images into a tabular dataset of shape (num_imgs, num_features),\n",
    "        where [i, j] corresponds to the j-th feature applied to the i-th img\n",
    "        \"\"\"\n",
    "        x_new = np.zeros((integral_imgs.shape[0], len(features)))\n",
    "        for row in range(x_new.shape[0]):\n",
    "            for feature in range(len(features)):\n",
    "                x_new[row, feature] = features[feature].apply_feature(integral_imgs[row])\n",
    "        return x_new\n",
    "    \n",
    "    def to_integral_img(self, img):\n",
    "        img = img.copy()\n",
    "        for row in range(img.shape[0]):\n",
    "            for col in range(img.shape[1]):\n",
    "                new_val = img[row, col]\n",
    "                if row != 0:\n",
    "                    new_val += img[row - 1, col]\n",
    "                if col != 0:\n",
    "                    new_val += img[row, col - 1]\n",
    "                if row != 0 and col != 0:\n",
    "                    new_val -= img[row - 1, col - 1]\n",
    "                img[row, col] = new_val\n",
    "        return img\n",
    "    \n",
    "    def generate_features(self, img_shape):\n",
    "        features = []\n",
    "        for x in range(img_shape[0]):\n",
    "            for y in range(img_shape[1]):\n",
    "                for scale_x in range(1, img_shape[0]):\n",
    "                    for scale_y in range(1, img_shape[1]):\n",
    "                        feat = TwoRect(x, y, scale_x, scale_y, img_shape)\n",
    "                        if feat.is_valid():\n",
    "                            features.append(feat)\n",
    "                        feat = ThreeRect(x, y, scale_x, scale_y, img_shape)\n",
    "                        if feat.is_valid():\n",
    "                            features.append(feat)\n",
    "                        feat = FourRect(x, y, scale_x, scale_y, img_shape)\n",
    "                        if feat.is_valid():\n",
    "                            features.append(feat)\n",
    "        return features"
   ]
  },
  {
   "cell_type": "code",
   "execution_count": 12,
   "metadata": {},
   "outputs": [
    {
     "data": {
      "application/vnd.jupyter.widget-view+json": {
       "model_id": "6719295726df4ebab326d633a83f5443",
       "version_major": 2,
       "version_minor": 0
      },
      "text/plain": [
       "HBox(children=(HTML(value=''), FloatProgress(value=0.0, max=10.0), HTML(value='')))"
      ]
     },
     "metadata": {},
     "output_type": "display_data"
    },
    {
     "name": "stdout",
     "output_type": "stream",
     "text": [
      "\n",
      "CPU times: user 4min 2s, sys: 819 ms, total: 4min 2s\n",
      "Wall time: 4min 3s\n"
     ]
    }
   ],
   "source": [
    "%%time\n",
    "\n",
    "clf = ViolaJonesClassifier(num_trees=10, max_depth=1, max_features=3000)\n",
    "clf.fit(X_train, y_train)"
   ]
  },
  {
   "cell_type": "code",
   "execution_count": 13,
   "metadata": {},
   "outputs": [
    {
     "name": "stdout",
     "output_type": "stream",
     "text": [
      "0.78\n",
      "CPU times: user 1.82 s, sys: 22 µs, total: 1.82 s\n",
      "Wall time: 1.82 s\n"
     ]
    }
   ],
   "source": [
    "%%time\n",
    "y_pred = clf.predict(X_test)\n",
    "acc = accuracy(y_test, y_pred)\n",
    "print(acc)"
   ]
  },
  {
   "cell_type": "markdown",
   "metadata": {},
   "source": [
    "### Visualising the 10 most important features:"
   ]
  },
  {
   "cell_type": "code",
   "execution_count": 14,
   "metadata": {},
   "outputs": [],
   "source": [
    "trees = clf.adaboost.trees[:10]\n",
    "features = clf.features\n",
    "most_imp_features = [features[tree.root.j] for tree in trees]"
   ]
  },
  {
   "cell_type": "code",
   "execution_count": 15,
   "metadata": {},
   "outputs": [
    {
     "data": {
      "image/png": "[encoded data removed]",
      "text/plain": [
       "<Figure size 1152x1152 with 10 Axes>"
      ]
     },
     "metadata": {
      "needs_background": "light"
     },
     "output_type": "display_data"
    }
   ],
   "source": [
    "fig=plt.figure(figsize=(16, 16))\n",
    "columns = 2\n",
    "rows = 5\n",
    "for i in range(1, columns*rows +1):\n",
    "    visualization = most_imp_features[i - 1].visualise_feature()\n",
    "    fig.add_subplot(rows, columns, i)\n",
    "    plt.imshow(visualization, cmap='gray')\n",
    "plt.show()"
   ]
  },
  {
   "cell_type": "markdown",
   "metadata": {},
   "source": [
    "### Running AdaBoost using cascade "
   ]
  },
  {
   "cell_type": "code",
   "execution_count": 16,
   "metadata": {},
   "outputs": [
    {
     "ename": "IndexError",
     "evalue": "boolean index did not match indexed array along dimension 0; dimension is 10 but corresponding boolean dimension is 4",
     "output_type": "error",
     "traceback": [
      "\u001b[0;31m---------------------------------------------------------------------------\u001b[0m",
      "\u001b[0;31mIndexError\u001b[0m                                Traceback (most recent call last)",
      "\u001b[0;32m<timed exec>\u001b[0m in \u001b[0;36m<module>\u001b[0;34m\u001b[0m\n",
      "\u001b[0;32m<ipython-input-11-78ed4e2ac881>\u001b[0m in \u001b[0;36mpredict\u001b[0;34m(self, x, use_cascade)\u001b[0m\n\u001b[1;32m     18\u001b[0m         \u001b[0mx\u001b[0m \u001b[0;34m=\u001b[0m \u001b[0mnp\u001b[0m\u001b[0;34m.\u001b[0m\u001b[0mcopy\u001b[0m\u001b[0;34m(\u001b[0m\u001b[0mx\u001b[0m\u001b[0;34m)\u001b[0m\u001b[0;34m\u001b[0m\u001b[0;34m\u001b[0m\u001b[0m\n\u001b[1;32m     19\u001b[0m         \u001b[0mx\u001b[0m \u001b[0;34m=\u001b[0m \u001b[0mself\u001b[0m\u001b[0;34m.\u001b[0m\u001b[0mtransform_x\u001b[0m\u001b[0;34m(\u001b[0m\u001b[0mx\u001b[0m\u001b[0;34m,\u001b[0m \u001b[0mself\u001b[0m\u001b[0;34m.\u001b[0m\u001b[0mfeatures\u001b[0m\u001b[0;34m)\u001b[0m\u001b[0;34m\u001b[0m\u001b[0;34m\u001b[0m\u001b[0m\n\u001b[0;32m---> 20\u001b[0;31m         \u001b[0;32mreturn\u001b[0m \u001b[0mself\u001b[0m\u001b[0;34m.\u001b[0m\u001b[0madaboost\u001b[0m\u001b[0;34m.\u001b[0m\u001b[0mpredict\u001b[0m\u001b[0;34m(\u001b[0m\u001b[0mx\u001b[0m\u001b[0;34m,\u001b[0m \u001b[0muse_cascade\u001b[0m\u001b[0;34m)\u001b[0m\u001b[0;34m\u001b[0m\u001b[0;34m\u001b[0m\u001b[0m\n\u001b[0m\u001b[1;32m     21\u001b[0m \u001b[0;34m\u001b[0m\u001b[0m\n\u001b[1;32m     22\u001b[0m     \u001b[0;32mdef\u001b[0m \u001b[0mtransform_x\u001b[0m\u001b[0;34m(\u001b[0m\u001b[0mself\u001b[0m\u001b[0;34m,\u001b[0m \u001b[0mx\u001b[0m\u001b[0;34m,\u001b[0m \u001b[0mfeatures\u001b[0m\u001b[0;34m)\u001b[0m\u001b[0;34m:\u001b[0m\u001b[0;34m\u001b[0m\u001b[0;34m\u001b[0m\u001b[0m\n",
      "\u001b[0;32m<ipython-input-4-d0434587dcd6>\u001b[0m in \u001b[0;36mpredict\u001b[0;34m(self, x, use_cascade)\u001b[0m\n\u001b[1;32m     98\u001b[0m                 \u001b[0mvotes\u001b[0m\u001b[0;34m.\u001b[0m\u001b[0mappend\u001b[0m\u001b[0;34m(\u001b[0m\u001b[0mprediction\u001b[0m\u001b[0;34m)\u001b[0m\u001b[0;34m\u001b[0m\u001b[0;34m\u001b[0m\u001b[0m\n\u001b[1;32m     99\u001b[0m             \u001b[0mvotes\u001b[0m \u001b[0;34m=\u001b[0m \u001b[0mnp\u001b[0m\u001b[0;34m.\u001b[0m\u001b[0marray\u001b[0m\u001b[0;34m(\u001b[0m\u001b[0mvotes\u001b[0m\u001b[0;34m)\u001b[0m\u001b[0;34m.\u001b[0m\u001b[0mreshape\u001b[0m\u001b[0;34m(\u001b[0m\u001b[0;34m(\u001b[0m\u001b[0;34m-\u001b[0m\u001b[0;36m1\u001b[0m\u001b[0;34m,\u001b[0m \u001b[0;34m)\u001b[0m\u001b[0;34m)\u001b[0m\u001b[0;34m\u001b[0m\u001b[0;34m\u001b[0m\u001b[0m\n\u001b[0;32m--> 100\u001b[0;31m             \u001b[0myes_say\u001b[0m \u001b[0;34m=\u001b[0m \u001b[0mnp\u001b[0m\u001b[0;34m.\u001b[0m\u001b[0msum\u001b[0m\u001b[0;34m(\u001b[0m\u001b[0mself\u001b[0m\u001b[0;34m.\u001b[0m\u001b[0msays\u001b[0m\u001b[0;34m[\u001b[0m\u001b[0mvotes\u001b[0m \u001b[0;34m==\u001b[0m \u001b[0;36m1\u001b[0m\u001b[0;34m]\u001b[0m\u001b[0;34m)\u001b[0m\u001b[0;34m\u001b[0m\u001b[0;34m\u001b[0m\u001b[0m\n\u001b[0m\u001b[1;32m    101\u001b[0m             \u001b[0mno_say\u001b[0m \u001b[0;34m=\u001b[0m \u001b[0mnp\u001b[0m\u001b[0;34m.\u001b[0m\u001b[0msum\u001b[0m\u001b[0;34m(\u001b[0m\u001b[0mself\u001b[0m\u001b[0;34m.\u001b[0m\u001b[0msays\u001b[0m\u001b[0;34m[\u001b[0m\u001b[0mvotes\u001b[0m \u001b[0;34m==\u001b[0m \u001b[0;36m0\u001b[0m\u001b[0;34m]\u001b[0m\u001b[0;34m)\u001b[0m\u001b[0;34m\u001b[0m\u001b[0;34m\u001b[0m\u001b[0m\n\u001b[1;32m    102\u001b[0m             \u001b[0;32mif\u001b[0m \u001b[0myes_say\u001b[0m \u001b[0;34m>\u001b[0m \u001b[0mno_say\u001b[0m\u001b[0;34m:\u001b[0m\u001b[0;34m\u001b[0m\u001b[0;34m\u001b[0m\u001b[0m\n",
      "\u001b[0;31mIndexError\u001b[0m: boolean index did not match indexed array along dimension 0; dimension is 10 but corresponding boolean dimension is 4"
     ]
    }
   ],
   "source": [
    "%%time\n",
    "y_pred = clf.predict(X_test, use_cascade=True)\n",
    "acc = accuracy(y_test, y_pred)\n",
    "print(acc)"
   ]
  }
 ],
 "metadata": {
  "colab": {
   "name": "Ensembles.ipynb",
   "provenance": [],
   "toc_visible": true
  },
  "kernelspec": {
   "display_name": "Python 3",
   "language": "python",
   "name": "python3"
  },
  "language_info": {
   "codemirror_mode": {
    "name": "ipython",
    "version": 3
   },
   "file_extension": ".py",
   "mimetype": "text/x-python",
   "name": "python",
   "nbconvert_exporter": "python",
   "pygments_lexer": "ipython3",
   "version": "3.8.5"
  }
 },
 "nbformat": 4,
 "nbformat_minor": 1
}
