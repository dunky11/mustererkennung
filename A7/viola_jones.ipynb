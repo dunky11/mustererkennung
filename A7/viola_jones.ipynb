{
 "cells": [
  {
   "cell_type": "code",
   "execution_count": null,
   "metadata": {},
   "outputs": [],
   "source": [
    "def to_integral_img(img):\n",
    "    for row in range(img.shape[0]):\n",
    "        for col in range(img.shape[1]):\n",
    "            new_val = img[row, col]\n",
    "            if row != 0:\n",
    "                new_val += img[row - 1, col]\n",
    "            if col != 0:\n",
    "                new_val += img[row, col - 1]\n",
    "            if row != 0 and col != 0:\n",
    "                new_val -= img[row - 1, col - 1]\n",
    "            img[row, col] = new_val\n",
    "    return img\n",
    "\n"
   ]
  }
 ],
 "metadata": {
  "kernelspec": {
   "display_name": "Python 3",
   "language": "python",
   "name": "python3"
  },
  "language_info": {
   "codemirror_mode": {
    "name": "ipython",
    "version": 3
   },
   "file_extension": ".py",
   "mimetype": "text/x-python",
   "name": "python",
   "nbconvert_exporter": "python",
   "pygments_lexer": "ipython3",
   "version": "3.8.5"
  }
 },
 "nbformat": 4,
 "nbformat_minor": 4
}
